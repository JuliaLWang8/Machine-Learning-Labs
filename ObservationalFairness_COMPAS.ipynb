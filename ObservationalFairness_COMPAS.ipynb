{
  "nbformat": 4,
  "nbformat_minor": 0,
  "metadata": {
    "colab": {
      "name": "ObservationalFairness_COMPAS",
      "provenance": [],
      "collapsed_sections": [
        "89IwklWtUCXP",
        "P1no4tgxGgrm",
        "DUSrz3WpBU6F",
        "1Y1MhOZMzbbj"
      ]
    },
    "kernelspec": {
      "name": "python3",
      "display_name": "Python 3"
    },
    "language_info": {
      "name": "python"
    }
  },
  "cells": [
    {
      "cell_type": "markdown",
      "source": [
        "# Observational Fairness on COMPAS Dataset\n",
        "### Julia L. Wang\n",
        "\n",
        "Reproducing: \n",
        "\n",
        "*   Dressel, Julia, and Hany Farid (2018). “The accuracy, fairness, and limits of predicting recidivism.\"\n",
        "\n",
        "*   Wadsworth, Christina, Francesca Vera, and Chris Piech (2018). “Achieving fairness through adversarial learning: an application to recidivism prediction.”\n",
        "\n",
        "Using the COMPAS dataset. "
      ],
      "metadata": {
        "id": "7aSMxa7iATgI"
      }
    },
    {
      "cell_type": "code",
      "source": [
        "# Initialization\n",
        "import numpy as np\n",
        "import torch\n",
        "import pandas as pd\n",
        "from sklearn.model_selection import train_test_split\n",
        "import matplotlib.pyplot as plt\n",
        "from itertools import chain\n",
        "\n",
        "# COMPAS dataset\n",
        "url = 'https://raw.githubusercontent.com/propublica/compas-analysis/master/compas-scores-two-years.csv'\n",
        "df = pd.read_csv(url)"
      ],
      "metadata": {
        "id": "9pZO1qZ7F5fo"
      },
      "execution_count": 1,
      "outputs": []
    },
    {
      "cell_type": "markdown",
      "source": [
        "## Some Definitions\n",
        "\n",
        "**Calibration:** positive predictive value (PPV) parity and negative predictive value (NPV) parity since the risk scores are 0/1 for not recidivate/ recidivate\n",
        "\n",
        "\n",
        "*   PPV parity: P ( actually recidivate | model predicts recidivate) is equal for each demographic\n",
        "*   NPV parity: P( actually recidivate | model predicts won't recidivate) is equal for each demographic\n",
        "\n",
        "\n",
        "\n",
        "**False-positive parity:** P( model outputs recidivate | didn't actually recidivate) is equal regardless of demographic. "
      ],
      "metadata": {
        "id": "89IwklWtUCXP"
      }
    },
    {
      "cell_type": "markdown",
      "source": [
        "##  Part 1: Logistic Regression Model\n",
        "\n",
        "Reproducing Dressel et al. (2019) to predict 2-year recidivism. Dressel et al. split the data into 80% training and 20% testing, where they trained different models with various features. This section will replicate their training using 3 features, and test for false-positive parity and calibration between Caucasian and African-American demographics. "
      ],
      "metadata": {
        "id": "gTPQm-q9A7Ms"
      }
    },
    {
      "cell_type": "code",
      "source": [
        "## Encoding sex\n",
        "encoded_sex = pd.Series(np.where(df.sex.values == 'Male', 1, 0), name=\"enc_sex\")\n",
        "newdf = pd.concat([df, encoded_sex], axis=1)\n",
        "\n",
        "## Splitting the data into training and test sets\n",
        "train, test = train_test_split(newdf, test_size=0.2, random_state=1500) #20% test size\n",
        "\n",
        "## Training data we need- 2 features: age, priors_count\n",
        "train_data = torch.tensor(train[[\"age\", \"priors_count\", \"enc_sex\"]].to_numpy().astype(np.float32))\n",
        "train_targets = torch.tensor(train[[\"two_year_recid\"]].to_numpy().astype(np.float32))\n",
        "\n",
        "## Test data for testing all demographics\n",
        "test_data = torch.tensor(test[[\"age\", \"priors_count\", \"enc_sex\"]].to_numpy().astype(np.float32))\n",
        "test_targets = torch.tensor(test[[\"two_year_recid\"]].to_numpy().astype(np.float32))\n",
        "\n",
        "## Getting test data by race for comparison\n",
        "caucasian = newdf[(newdf.race == \"Caucasian\")]\n",
        "aa = newdf[(newdf.race == \"African-American\")]\n",
        "\n",
        "# get caucasian and african-american data in the training set\n",
        "aa_in_training = train.merge(aa, on=[\"id\"])\n",
        "caucasian_in_training = train.merge(caucasian, on=[\"id\"])\n",
        "\n",
        "# test sets: caucasian and aa not in the training set\n",
        "aa_test = aa[~aa.id.isin(aa_in_training.id)]\n",
        "caucasian_test = caucasian[~caucasian.id.isin(caucasian_in_training.id)]\n",
        "\n",
        "## final data and targets for each demographic\n",
        "cc_data = torch.tensor(caucasian_test[[\"age\", \"priors_count\", \"enc_sex\"]].to_numpy().astype(np.float32))\n",
        "cc_targets = torch.tensor(caucasian_test[[\"two_year_recid\"]].to_numpy().astype(np.float32))\n",
        "\n",
        "aa_data = torch.tensor(aa_test[[\"age\", \"priors_count\", \"enc_sex\"]].to_numpy().astype(np.float32))\n",
        "aa_targets = torch.tensor(aa_test[[\"two_year_recid\"]].to_numpy().astype(np.float32))\n",
        "\n",
        "# inputs into training logistic regression\n",
        "x_train = train_data\n",
        "y_train = train_targets"
      ],
      "metadata": {
        "id": "qxK1gU3PfD2B"
      },
      "execution_count": 182,
      "outputs": []
    },
    {
      "cell_type": "code",
      "source": [
        "## Creating logistic regression model\n",
        "\n",
        "class LogisticRegression(torch.nn.Module):\n",
        "     def __init__(self, input_dim, output_dim):\n",
        "         super(LogisticRegression, self).__init__()\n",
        "         self.linear = torch.nn.Linear(input_dim, output_dim)\n",
        "         \n",
        "     def forward(self, x):\n",
        "         outputs = torch.sigmoid(self.linear(x))\n",
        "         return outputs\n",
        "\n",
        "model = LogisticRegression(3, 1)"
      ],
      "metadata": {
        "id": "Ik-OzBQGi888"
      },
      "execution_count": 183,
      "outputs": []
    },
    {
      "cell_type": "code",
      "source": [
        "## Training the model\n",
        "\n",
        "# set model parameters\n",
        "criterion = torch.nn.BCELoss() # binary cross entropy loss\n",
        "optimizer = torch.optim.Adam(model.parameters(), lr=0.01) #Adam optimizer\n",
        "\n",
        "# Training the model\n",
        "for epoch in range(1000):\n",
        "    y_pred = model(x_train) # get model output by inputting the training data\n",
        "    loss = criterion(y_pred, y_train) # computing loss\n",
        "    loss.backward()                   # Backward pass\n",
        "\n",
        "    optimizer.step()\n",
        "    optimizer.zero_grad()\n",
        "\n",
        "    if (epoch+1)%100 == 0: # print the accuracy and loss for every 100 epochs\n",
        "      model_out = torch.where(y_pred>0.50, 1, 0)\n",
        "      truth = torch.sum(torch.eq(model_out, y_train).int())\n",
        "      print(\"Model accuracy is \", truth/y_pred.shape[0], \". Loss is: \", loss.item())\n"
      ],
      "metadata": {
        "colab": {
          "base_uri": "https://localhost:8080/"
        },
        "id": "PRb9H3fvnSEO",
        "outputId": "ec556da2-5518-419e-ae31-4ff6d88dd44d"
      },
      "execution_count": 184,
      "outputs": [
        {
          "output_type": "stream",
          "name": "stdout",
          "text": [
            "Model accuracy is  tensor(0.6372) . Loss is:  0.6415098309516907\n",
            "Model accuracy is  tensor(0.6449) . Loss is:  0.6280632615089417\n",
            "Model accuracy is  tensor(0.6560) . Loss is:  0.6214768886566162\n",
            "Model accuracy is  tensor(0.6652) . Loss is:  0.6190361380577087\n",
            "Model accuracy is  tensor(0.6701) . Loss is:  0.6182019114494324\n",
            "Model accuracy is  tensor(0.6737) . Loss is:  0.6178584694862366\n",
            "Model accuracy is  tensor(0.6737) . Loss is:  0.6176652312278748\n",
            "Model accuracy is  tensor(0.6749) . Loss is:  0.6175382733345032\n",
            "Model accuracy is  tensor(0.6753) . Loss is:  0.6174543499946594\n",
            "Model accuracy is  tensor(0.6744) . Loss is:  0.617401123046875\n"
          ]
        }
      ]
    },
    {
      "cell_type": "code",
      "source": [
        "## Running the model on the test sets\n",
        "\n",
        "caucasian_pred = model(cc_data) # caucasian test set\n",
        "aa_pred = model(aa_data)        # african-american test set\n",
        "overall_pred = model(test_data) # overall case with all demographics\n"
      ],
      "metadata": {
        "id": "zRId8AHwN7i9"
      },
      "execution_count": 185,
      "outputs": []
    },
    {
      "cell_type": "markdown",
      "source": [
        "### Calibration and False-Positive parity"
      ],
      "metadata": {
        "id": "tzWOltkMBNpZ"
      }
    },
    {
      "cell_type": "code",
      "source": [
        "def FalsePosRate(model_out, y_test):\n",
        "  \"\"\"\n",
        "    model_out: models predictions of positive or negative (1/0)\n",
        "    y_test: the ground truth values\n",
        "    output: the false positive rate = # false positives / total true negatives\n",
        "  \"\"\"\n",
        "  false_pos_count = 0\n",
        "  total_neg_count = 0\n",
        "\n",
        "  for i in range(len(model_out)):\n",
        "    if y_test[i] == 0: # true  negative case\n",
        "      total_neg_count+=1\n",
        "      if model_out[i] != y_test[i]: #false pos when true negative & model predicts positive\n",
        "        false_pos_count+=1\n",
        "  # print(\"\\tAmount of false positives:\", false_pos_count)\n",
        "  # print(\"\\tAmount of negatives:\", total_neg_count)\n",
        "\n",
        "  return false_pos_count/total_neg_count\n",
        "\n",
        "# print(FalsePosRate(model_out, y_test))"
      ],
      "metadata": {
        "id": "OZHtCSCPrD6h"
      },
      "execution_count": 2,
      "outputs": []
    },
    {
      "cell_type": "code",
      "source": [
        "def Calibration(model_out, targets):\n",
        "  \"\"\"\n",
        "    model_out: the models prediction of 0/1\n",
        "    targets: the ground truth values\n",
        "    outputs: PPV = P(ground truth = reoffend | model predicts reoffend)\n",
        "            NPV = 1 - P(ground truth = reoffend | model predicts won't reoffend)\n",
        "  \"\"\"\n",
        "  total_pos_count = 0\n",
        "  total_neg_count = 0\n",
        "  ppv_count = 0\n",
        "  npv_count = 0\n",
        "\n",
        "  for i in range(len(model_out)):\n",
        "    if model_out[i] == 0: # model negative (reoffend)\n",
        "      total_neg_count+=1\n",
        "      if targets[i] ==1:  # true positive\n",
        "        npv_count += 1\n",
        "        \n",
        "    else: # model positive case(reoffend)\n",
        "      total_pos_count += 1\n",
        "      if targets[i] == 1: # true positive\n",
        "        ppv_count += 1\n",
        "  \n",
        "  PPV = ppv_count/total_pos_count\n",
        "  NPV = 1-(npv_count/total_neg_count)\n",
        "\n",
        "  return PPV, NPV"
      ],
      "metadata": {
        "id": "xEJAxccsY9zd"
      },
      "execution_count": 3,
      "outputs": []
    },
    {
      "cell_type": "markdown",
      "source": [
        "### Model calibration and FPV"
      ],
      "metadata": {
        "id": "N8azo04OxijY"
      }
    },
    {
      "cell_type": "code",
      "source": [
        "## Showing that the model fails to satisfy false-positive parity\n",
        "\n",
        "# Assigning model predictions to 0 or 1\n",
        "caucasian_pred_thresholded = torch.where(caucasian_pred > 0.5, 1, 0)\n",
        "aa_pred_thresholded = torch.where(aa_pred > 0.5, 1, 0)\n",
        "\n",
        "# Calculating false positive rate for each demographic\n",
        "caucasian_fpr = FalsePosRate(caucasian_pred_thresholded, cc_targets)\n",
        "print(\"Caucasian false positive rate:\", caucasian_fpr)\n",
        "\n",
        "aa_fpr = FalsePosRate(aa_pred_thresholded, aa_targets)\n",
        "print(\"African-American false positive rate:\", aa_fpr)\n",
        "\n",
        "## conclusion:\n",
        "print(\"Difference between them is:\", aa_fpr - caucasian_fpr)\n",
        "\n",
        "#since the false positive rates were not the same between the 2, \n",
        "#there is no false positive parity"
      ],
      "metadata": {
        "colab": {
          "base_uri": "https://localhost:8080/"
        },
        "id": "GvIXlpis7VqO",
        "outputId": "f7207ff9-353e-49b4-913f-6acef6951c82"
      },
      "execution_count": 188,
      "outputs": [
        {
          "output_type": "stream",
          "name": "stdout",
          "text": [
            "Caucasian false positive rate: 0.11610486891385768\n",
            "African-American false positive rate: 0.2520107238605898\n",
            "Difference between them is: 0.13590585494673213\n"
          ]
        }
      ]
    },
    {
      "cell_type": "code",
      "source": [
        "## Showing that the model satisfies calibration\n",
        "\n",
        "cc_ppv, cc_npv = Calibration(caucasian_pred_thresholded, cc_targets)\n",
        "aa_ppv, aa_npv = Calibration(aa_pred_thresholded, aa_targets)\n",
        "\n",
        "print(\"Caucasian PPV: \", cc_ppv, \" African-American PPV: \", aa_ppv, \"Difference = \", aa_ppv-cc_ppv)\n",
        "print(\"Caucasian NPV: \", cc_npv, \" African-American NPV: \", aa_npv, \"Difference = \", aa_npv-cc_npv)\n"
      ],
      "metadata": {
        "colab": {
          "base_uri": "https://localhost:8080/"
        },
        "id": "H66xGT_0x6Um",
        "outputId": "c1d5001f-d701-4fcc-ce00-0a4b897cc46f"
      },
      "execution_count": 189,
      "outputs": [
        {
          "output_type": "stream",
          "name": "stdout",
          "text": [
            "Caucasian PPV:  0.693069306930693  African-American PPV:  0.7359550561797753 Difference =  0.04288574924908228\n",
            "Caucasian NPV:  0.6742857142857143  African-American NPV:  0.665871121718377 Difference =  -0.008414592567337231\n"
          ]
        }
      ]
    },
    {
      "cell_type": "markdown",
      "source": [
        "### Comparing the differences in the demographics for false-positive parity and calibration\n",
        "\n",
        "For the purposes of this lab, I will define a difference to be significant if it 5% or greater. Thus, it can be seen above that the model does not satisfy false-positive parity since the difference between the false positive rates (FPRs) is 13.6%. On the other hand, the differences between the PPVs and NPVs are 4.3% and 0.84% respectively, which are both under 5% and therefore can be concluded to display parity. Since having both PPV parity and NPV parity means that we have calibration, the model satisfies calibration."
      ],
      "metadata": {
        "id": "P1no4tgxGgrm"
      }
    },
    {
      "cell_type": "markdown",
      "source": [
        "### Base rates"
      ],
      "metadata": {
        "id": "DUSrz3WpBU6F"
      }
    },
    {
      "cell_type": "code",
      "source": [
        "caucasian = df[(df.race == \"Caucasian\")]\n",
        "cc_recid = caucasian[\"two_year_recid\"].to_numpy().astype(np.float32)\n",
        "\n",
        "aa = df[(df.race == \"African-American\")]\n",
        "aa_recid = aa[\"two_year_recid\"].to_numpy().astype(np.float32)\n",
        "\n",
        "print(\"African-american recidivism base rate:\", np.sum(aa_recid)/aa.shape[0])\n",
        "print(\"Caucasian recidivism base rate:\", np.sum(cc_recid)/caucasian.shape[0])\n",
        "print(\"Difference between base rates: \", np.sum(aa_recid)/aa.shape[0]-np.sum(cc_recid)/caucasian.shape[0])"
      ],
      "metadata": {
        "colab": {
          "base_uri": "https://localhost:8080/"
        },
        "id": "3mlcxOBuSKBl",
        "outputId": "654ad8c7-b3cc-407f-81c7-0ebbd50d2c11"
      },
      "execution_count": 190,
      "outputs": [
        {
          "output_type": "stream",
          "name": "stdout",
          "text": [
            "African-american recidivism base rate: 0.5143398268398268\n",
            "Caucasian recidivism base rate: 0.39364303178484106\n",
            "Difference between base rates:  0.12069679505498576\n"
          ]
        }
      ]
    },
    {
      "cell_type": "markdown",
      "source": [
        "The base rate for recidivism from the African-American demographic is higher than the Caucasian by 12.07%. False-positive parity occurs when people who did not reoffend are predicted to reoffend at the same rate. In this case, my model did not satisfy FFP with a 11.95% difference between false-positive rates, showing more false-positives for the African-American demographic. This is reflective of the base recidivism rate being higher since it causes the model to predict more recidivism for African-Americans."
      ],
      "metadata": {
        "id": "2qG5xoz7V35R"
      }
    },
    {
      "cell_type": "markdown",
      "source": [
        "### Adjusting thresholds"
      ],
      "metadata": {
        "id": "3beEh5zSR1AA"
      }
    },
    {
      "cell_type": "code",
      "source": [
        "## Show adjusting thresholds satisfies false-positive parity \n",
        "thresholds = np.linspace(0, 1) # change threshold from 0 to 1 on the x-axis\n",
        "\n",
        "# generate FPR rates for cc and aa\n",
        "cc_fpr = []\n",
        "aa_fpr = []\n",
        "\n",
        "for i in thresholds:\n",
        "  # taking each model output with different thresholds\n",
        "  cc_thresholded = torch.where(caucasian_pred>i, 1, 0)\n",
        "  aa_thresholded = torch.where(aa_pred>i, 1, 0)\n",
        "  cc_fpr.append(FalsePosRate(cc_thresholded, cc_targets))\n",
        "  aa_fpr.append(FalsePosRate(aa_thresholded, aa_targets))\n",
        "\n",
        "# conversion to np array for plotting\n",
        "cc_fpr = np.array(cc_fpr)\n",
        "aa_fpr = np.array(aa_fpr)\n",
        "\n",
        "# plotting\n",
        "plt.plot(thresholds, aa_fpr, label = \"African-American\", color = \"m\")\n",
        "plt.plot(thresholds, cc_fpr, label = \"Caucasian\", color= \"c\")\n",
        "plt.legend()\n",
        "plt.xlabel(\"Threshold\")\n",
        "plt.ylabel(\"False Positive Rate\")\n",
        "plt.title(\"Effect of threshold on FPR\")\n"
      ],
      "metadata": {
        "id": "nrvYndrKBlcg",
        "colab": {
          "base_uri": "https://localhost:8080/",
          "height": 312
        },
        "outputId": "9d647bf7-7207-4ac1-9e8c-0b0a09b8740f"
      },
      "execution_count": 191,
      "outputs": [
        {
          "output_type": "execute_result",
          "data": {
            "text/plain": [
              "Text(0.5, 1.0, 'Effect of threshold on FPR')"
            ]
          },
          "metadata": {},
          "execution_count": 191
        },
        {
          "output_type": "display_data",
          "data": {
            "image/png": "[encoded data removed]",
            "text/plain": [
              "<Figure size 432x288 with 1 Axes>"
            ]
          },
          "metadata": {
            "needs_background": "light"
          }
        }
      ]
    },
    {
      "cell_type": "markdown",
      "source": [
        "Plotting false positive rates with respect to different threshold values leads to the figure above. As such, it can be seen that a threshold of around 0.8 leads to false-positive parity where the rates for the demographics converge with less than 5% difference between them. Selecting this threshold, let's try to check the calibration."
      ],
      "metadata": {
        "id": "vDZ7MZejBbfm"
      }
    },
    {
      "cell_type": "code",
      "source": [
        "## Show that thresholds satisfying false-positive parity doesn't satisfy calibration\n",
        "caucasian_pred_thresholded = torch.where(caucasian_pred > 0.8, 1, 0)\n",
        "aa_pred_thresholded = torch.where(aa_pred > 0.8, 1, 0)\n",
        "\n",
        "cc_ppv, cc_npv = Calibration(caucasian_pred_thresholded, cc_targets)\n",
        "aa_ppv, aa_npv = Calibration(aa_pred_thresholded, aa_targets)\n",
        "\n",
        "print(\"For 0.8 Threshold:\")\n",
        "print(\"Caucasian PPV: \", cc_ppv, \" African-American PPV: \", aa_ppv, \"Difference = \", aa_ppv-cc_ppv)\n",
        "print(\"Caucasian NPV: \", cc_npv, \" African-American NPV: \", aa_npv, \"Difference = \", aa_npv-cc_npv)"
      ],
      "metadata": {
        "colab": {
          "base_uri": "https://localhost:8080/"
        },
        "id": "R_oOShDkHRZx",
        "outputId": "93e5d0e6-eb64-4609-9c43-8f898f6d40ca"
      },
      "execution_count": 192,
      "outputs": [
        {
          "output_type": "stream",
          "name": "stdout",
          "text": [
            "For 0.8 Threshold:\n",
            "Caucasian PPV:  0.8888888888888888  African-American PPV:  0.8301886792452831 Difference =  -0.05870020964360578\n",
            "Caucasian NPV:  0.6018099547511313  African-American NPV:  0.5041551246537397 Difference =  -0.09765483009739162\n"
          ]
        }
      ]
    },
    {
      "cell_type": "markdown",
      "source": [
        "For the thresholds for which my model satisfied false-positive parity, the differences in PPV and NPV were significant (>5%), therefore, calibration is not satisfied after the threshold adjustment. "
      ],
      "metadata": {
        "id": "EFnUPWfxMjXy"
      }
    },
    {
      "cell_type": "markdown",
      "source": [
        "Further statistical testing is required to conclude the significance of the differences between demographics for false-positive rates, PPV, and NPV. "
      ],
      "metadata": {
        "id": "2uJni7BCPHCo"
      }
    },
    {
      "cell_type": "markdown",
      "source": [
        "## Part 2: Adversial Learning Procedure\n",
        "\n",
        "Reproducing Wadsworth et al. (2018) to produce more accurate classifier satisfying false-postiive partiy by introducing more features and using an adversial learning procedure."
      ],
      "metadata": {
        "id": "CI0eLi8fDvPG"
      }
    },
    {
      "cell_type": "code",
      "source": [
        "# age, prior_count, sex, juv_misd_count, juv_other_count, juv_fel_count, c_charge_degree\n",
        "# encoding some features into binary\n",
        "encoded_sex = pd.Series(np.where(df.sex.values == 'Male', 1, 0), name=\"enc_sex\")\n",
        "encoded_charge_degree = pd.Series(np.where(df.c_charge_degree.values == 'F', 1, 0), name = \"enc_charge_degree\")\n",
        "encoded_race = pd.Series(np.where(df.race.values == \"Caucasian\", 1, 0), name=\"enc_race\")\n",
        "newdf = pd.concat([df, encoded_sex, encoded_charge_degree, encoded_race], axis=1)\n",
        "\n",
        "## Getting test data by race for comparison\n",
        "caucasian = newdf[(newdf.race == \"Caucasian\")]\n",
        "aa = newdf[(newdf.race == \"African-American\")]\n",
        "newdf = pd.concat([caucasian, aa]) # dataframe now only consists of caucasian and aa\n",
        "\n",
        "## Splitting the data into training and test sets\n",
        "train, test = train_test_split(newdf, test_size=0.2, random_state=8) #20% test size\n",
        "\n",
        "## Training data we need with 7 features\n",
        "train_data = torch.tensor(train[[\"age\", \"priors_count\", \"enc_sex\", \"enc_charge_degree\", \"juv_misd_count\", \"juv_other_count\", \"juv_fel_count\"]].to_numpy().astype(np.float32))\n",
        "train_targets = torch.tensor(train[[\"two_year_recid\"]].to_numpy().astype(np.float32))\n",
        "train_targets2 = torch.tensor(train[[\"enc_race\"]].to_numpy().astype(np.float32))\n",
        "\n",
        "## Test data for testing all demographics\n",
        "test_data = torch.tensor(test[[\"age\", \"priors_count\", \"enc_sex\", \"enc_charge_degree\", \"juv_misd_count\", \"juv_other_count\", \"juv_fel_count\"]].to_numpy().astype(np.float32))\n",
        "test_targets = torch.tensor(test[[\"two_year_recid\"]].to_numpy().astype(np.float32))\n",
        "test_targets2 = torch.tensor(test[[\"enc_race\"]].to_numpy().astype(np.float32))\n",
        "\n",
        "# get caucasian and african-american data in the training set\n",
        "aa_in_training = train.merge(aa, on=[\"id\"])\n",
        "caucasian_in_training = train.merge(caucasian, on=[\"id\"])\n",
        "\n",
        "# test sets: caucasian and aa not in the training set\n",
        "aa_test = aa[~aa.id.isin(aa_in_training.id)]\n",
        "caucasian_test = caucasian[~caucasian.id.isin(caucasian_in_training.id)]\n",
        "\n",
        "## final data and targets for each demographic\n",
        "cc_data = torch.tensor(caucasian_test[[\"age\", \"priors_count\", \"enc_sex\", \"enc_charge_degree\", \"juv_misd_count\", \"juv_other_count\", \"juv_fel_count\"]].to_numpy().astype(np.float32))\n",
        "cc_targets = torch.tensor(caucasian_test[[\"two_year_recid\"]].to_numpy().astype(np.float32))\n",
        "cc_targets2 = torch.tensor(caucasian_test[[\"enc_race\"]].to_numpy().astype(np.float32))\n",
        "\n",
        "aa_data = torch.tensor(aa_test[[\"age\", \"priors_count\", \"enc_sex\", \"enc_charge_degree\", \"juv_misd_count\", \"juv_other_count\", \"juv_fel_count\"]].to_numpy().astype(np.float32))\n",
        "aa_targets = torch.tensor(aa_test[[\"two_year_recid\"]].to_numpy().astype(np.float32))\n",
        "aa_targets2 = torch.tensor(aa_test[[\"enc_race\"]].to_numpy().astype(np.float32))\n",
        "\n",
        "# inputs into training logistic regression\n",
        "x_train = train_data\n",
        "y_train = train_targets   # recidivism\n",
        "y_train2 = train_targets2 # race"
      ],
      "metadata": {
        "id": "W6o_ZO93j11z"
      },
      "execution_count": 4,
      "outputs": []
    },
    {
      "cell_type": "markdown",
      "source": [
        "**Feature processing:** Features which were strings in the dataset were encoded into integer values- sex and crime degree were converted to binary 0 and 1s for the purposes of training the model. \n",
        "\n",
        "Wadsworth et al. (2018) used 10 features: charge degree, age, prior crimes, felonies, misdemeanors, days in jail, juvenile other, charges, juvenile misdemeanors, and jail history. To replicate this, I will be using features: age, sex, number of prior crimes, number of juvenile misdemeanors, number of juvinile felonies, and crime charge degree. "
      ],
      "metadata": {
        "id": "ZUzLbOrco9PU"
      }
    },
    {
      "cell_type": "markdown",
      "source": [
        "### Creating and training models\n",
        "\n",
        " 2 models: Wadsworth et al. implemented a predictor N and adversary A. I will be replicating the exact hyperparameters described in section 4 of Wadsworth et al. (2018). Adversary model 2 accepts a logit as an input, and adversary model 4 takes both the logit and the true recidivism. "
      ],
      "metadata": {
        "id": "sOyNIpVgmib4"
      }
    },
    {
      "cell_type": "markdown",
      "source": [
        "##### Model 1 and 2\n",
        "\n",
        "Adversary accepts a logit as an input. "
      ],
      "metadata": {
        "id": "1Y1MhOZMzbbj"
      }
    },
    {
      "cell_type": "code",
      "source": [
        "## Predictor N Model\n",
        "# 2 256-unit ReLU hidden layers\n",
        "class Predictor(torch.nn.Module):\n",
        "    def __init__(self):\n",
        "        super(Predictor, self).__init__()\n",
        "\n",
        "        # fully connected layers\n",
        "        self.fc1 = torch.nn.Linear(7, 256)   # 7 features from the dataset\n",
        "        self.fc2 = torch.nn.Linear(256, 256) # 2x 256-unit ReLU \n",
        "        self.fc3 = torch.nn.Linear(256, 1)\n",
        "\n",
        "    def forward(self, x):\n",
        "        x = torch.nn.functional.relu(self.fc1(x)) # 2x 256-unit ReLU\n",
        "        x = torch.nn.functional.relu(self.fc2(x))\n",
        "        x = torch.sigmoid(self.fc3(x))\n",
        "        return x \n",
        "\n",
        "## Adversary A Model\n",
        "# 100 unit ReLU hidden layer\n",
        "class Adversary(torch.nn.Module):\n",
        "    def __init__(self):\n",
        "        super(Adversary, self).__init__()\n",
        "\n",
        "        self.fc1 = torch.nn.Linear(1, 100) # logit and true recidivism value\n",
        "        self.fc2 = torch.nn.Linear(100, 1) # 100-unit ReLU\n",
        "\n",
        "    def forward(self, x):\n",
        "        x = torch.nn.functional.relu(self.fc1(x))\n",
        "        x = torch.sigmoid(self.fc2(x)) # sigmoid output\n",
        "        return x\n",
        "\n",
        "model1 = Predictor()\n",
        "model2 = Adversary()"
      ],
      "metadata": {
        "id": "GN95LGUvFr8c"
      },
      "execution_count": 310,
      "outputs": []
    },
    {
      "cell_type": "code",
      "source": [
        "## Hyperparameters\n",
        "# taken from section 4 of Wadsworth\n",
        "alpha = 1\n",
        "learning_rate = 1e-4 #np.exp(-4)\n",
        "criterion = torch.nn.BCELoss(size_average=True) # binary cross entropy loss\n",
        "optimizer_pred = torch.optim.Adam(model1.parameters(), lr= learning_rate) #Adam optimizer\n",
        "optimizer_adv = torch.optim.Adam(model2.parameters(), lr = learning_rate)\n",
        "\n",
        "### Adverserial learning procedure\n",
        "# Following Figure 1 in Wadsworth\n",
        "\n",
        "for epoch in range(800):\n",
        "\n",
        "    ## zero out all gradients\n",
        "    optimizer_pred.zero_grad() #2 optimizers for the 2 models\n",
        "    optimizer_adv.zero_grad()\n",
        "\n",
        "    ## forward pass\n",
        "    pred_out = model1(x_train)   # input training data to model N\n",
        "    y_pred = model2(pred_out)    # predictor output -> Adversary\n",
        "\n",
        "    # computing adversary model loss, setting up for predictor\n",
        "    adv_loss = criterion(pred_out, y_train) # computing adversary loss wrt recidivism\n",
        "    pred_loss_p1 = criterion(y_pred, y_train2) # loss wrt race, to use in predictor loss\n",
        "\n",
        "    ## backward pass and update adversary model\n",
        "    adv_loss.backward(retain_graph=True) # retain graph: keeps all memory\n",
        "    optimizer_adv.step() # update adversary model parameters\n",
        "    optimizer_adv.zero_grad() # reset gradients to 0\n",
        "\n",
        "    ## forward pass\n",
        "    y_pred = model2(pred_out) # running adversary model again\n",
        "\n",
        "    ## computing predictor model loss\n",
        "    pred_loss_p1 = criterion(y_pred, y_train2) # loss wrt race, to use in predictor loss\n",
        "    pred_loss = adv_loss - alpha*pred_loss_p1\n",
        "\n",
        "    ## backward pass and updating predictor model parameters \n",
        "    pred_loss.backward()\n",
        "    optimizer_pred.step()\n",
        "\n",
        "    if (epoch+1)%50 == 0: # print the accuracy and loss for every 10 epochs\n",
        "      model_out = torch.where(pred_out>0.50, 1, 0)\n",
        "      truth = torch.sum(torch.eq(model_out, y_train).int())\n",
        "      print(\"Model accuracy is \", truth/pred_out.shape[0], \". Loss is: \", pred_loss.item())"
      ],
      "metadata": {
        "colab": {
          "base_uri": "https://localhost:8080/"
        },
        "id": "u0vCmOMOifjo",
        "outputId": "ade6904a-d05f-4c06-8123-2151b74701d8"
      },
      "execution_count": 311,
      "outputs": [
        {
          "output_type": "stream",
          "name": "stderr",
          "text": [
            "/usr/local/lib/python3.7/dist-packages/torch/nn/_reduction.py:42: UserWarning: size_average and reduce args will be deprecated, please use reduction='mean' instead.\n",
            "  warnings.warn(warning.format(ret))\n"
          ]
        },
        {
          "output_type": "stream",
          "name": "stdout",
          "text": [
            "Model accuracy is  tensor(0.6425) . Loss is:  -0.07062077522277832\n",
            "Model accuracy is  tensor(0.6549) . Loss is:  -0.07547938823699951\n",
            "Model accuracy is  tensor(0.6675) . Loss is:  -0.07981103658676147\n",
            "Model accuracy is  tensor(0.6701) . Loss is:  -0.08302432298660278\n",
            "Model accuracy is  tensor(0.6715) . Loss is:  -0.08538031578063965\n",
            "Model accuracy is  tensor(0.6738) . Loss is:  -0.08699804544448853\n",
            "Model accuracy is  tensor(0.6722) . Loss is:  -0.08809536695480347\n",
            "Model accuracy is  tensor(0.6738) . Loss is:  -0.0890931487083435\n",
            "Model accuracy is  tensor(0.6740) . Loss is:  -0.08997434377670288\n",
            "Model accuracy is  tensor(0.6748) . Loss is:  -0.09074163436889648\n",
            "Model accuracy is  tensor(0.6750) . Loss is:  -0.09147030115127563\n",
            "Model accuracy is  tensor(0.6752) . Loss is:  -0.09213745594024658\n",
            "Model accuracy is  tensor(0.6748) . Loss is:  -0.0927889347076416\n",
            "Model accuracy is  tensor(0.6752) . Loss is:  -0.09339451789855957\n",
            "Model accuracy is  tensor(0.6754) . Loss is:  -0.09398090839385986\n",
            "Model accuracy is  tensor(0.6756) . Loss is:  -0.09456390142440796\n"
          ]
        }
      ]
    },
    {
      "cell_type": "markdown",
      "source": [
        "##### Model 3 and 4\n",
        "\n",
        "Adversary accepts a logit and the true recidivism value as inputs."
      ],
      "metadata": {
        "id": "jjsz-U8u0uBx"
      }
    },
    {
      "cell_type": "code",
      "source": [
        "## Predictor N Model\n",
        "# 2 256-unit ReLU hidden layers\n",
        "torch.cuda.manual_seed_all(20220508)\n",
        "\n",
        "class NewPredictor(torch.nn.Module):\n",
        "    def __init__(self):\n",
        "        super(NewPredictor, self).__init__()\n",
        "\n",
        "        # fully connected layers\n",
        "        self.fc1 = torch.nn.Linear(7, 256)   # 7 features from the dataset\n",
        "        self.fc2 = torch.nn.Linear(256, 256) # 2x 256-unit ReLU \n",
        "        self.fc3 = torch.nn.Linear(256, 1)\n",
        "\n",
        "    def forward(self, x):\n",
        "        x = torch.nn.functional.relu(self.fc1(x)) # 2x 256-unit ReLU\n",
        "        x = torch.nn.functional.relu(self.fc2(x))\n",
        "        x = self.fc3(x)\n",
        "        return x, torch.sigmoid(x) ########## logit and recid now\n",
        "\n",
        "## Adversary A Model\n",
        "# 100 unit ReLU hidden layer\n",
        "class NewAdversary(torch.nn.Module):\n",
        "    def __init__(self):\n",
        "        super(NewAdversary, self).__init__()\n",
        "\n",
        "        self.fc1 = torch.nn.Linear(2, 100) ### taking in 2 now\n",
        "        self.fc2 = torch.nn.Linear(100, 1) # 100-unit ReLU\n",
        "\n",
        "    def forward(self, x):\n",
        "        x = torch.nn.functional.relu(self.fc1(x))\n",
        "        x = torch.sigmoid(self.fc2(x)) # sigmoid output\n",
        "        return x\n",
        "\n",
        "model3 = NewPredictor()\n",
        "model4 = NewAdversary()"
      ],
      "metadata": {
        "id": "YpzxE7WYjAHq"
      },
      "execution_count": 15,
      "outputs": []
    },
    {
      "cell_type": "code",
      "source": [
        "## Hyperparameters\n",
        "# taken from section 4 of Wadsworth\n",
        "alpha2 = 1\n",
        "learning_rate = 1e-4 #np.exp(-4)\n",
        "criterion2 = torch.nn.BCELoss(size_average=True) # binary cross entropy loss\n",
        "optimizer_pred2 = torch.optim.Adam(model3.parameters(), lr= learning_rate) #Adam optimizer\n",
        "optimizer_adv2 = torch.optim.Adam(model4.parameters(), lr = learning_rate)\n",
        "\n",
        "### Adverserial learning procedure\n",
        "# Following Figure 1 in Wadsworth\n",
        "\n",
        "for epoch in range(1000):\n",
        "\n",
        "    ## zero out all gradients\n",
        "    optimizer_pred2.zero_grad() #2 optimizers for the 2 models\n",
        "    optimizer_adv2.zero_grad()\n",
        "\n",
        "    ## forward pass\n",
        "    pred_out2, recid = model3(x_train)   # input training data to model N\n",
        "    y_pred2 = model4(torch.cat((pred_out2, y_train), axis=1))    # predictor output -> Adversary\n",
        "\n",
        "    # computing adversary model loss, setting up for predictor\n",
        "    adv_loss2 = criterion2(recid, y_train) # computing adversary loss wrt recidivism\n",
        "    pred_loss_p12 = criterion2(y_pred2, y_train2) # loss wrt race, to use in predictor loss\n",
        "\n",
        "    ## backward pass and update adversary model\n",
        "    adv_loss2.backward(retain_graph=True) # retain graph: keeps all memory\n",
        "    optimizer_adv2.step() # update adversary model parameters\n",
        "    optimizer_adv2.zero_grad() # reset gradients to 0\n",
        "\n",
        "    ## forward pass\n",
        "    y_pred2 = model4(torch.cat((pred_out2, y_train), axis=1)) # running adversary model again\n",
        "\n",
        "    ## computing predictor model loss\n",
        "    pred_loss_p12 = criterion2(y_pred2, y_train2) # loss wrt race, to use in predictor loss\n",
        "    pred_loss2 = adv_loss2 - alpha2*pred_loss_p12\n",
        "\n",
        "    ## backward pass and updating predictor model parameters \n",
        "    pred_loss2.backward()\n",
        "    optimizer_pred2.step()\n",
        "\n",
        "    if (epoch+1)%100 == 0: # print the accuracy and loss for every 10 epochs\n",
        "      model_out = torch.where(pred_out2>0.50, 1, 0)\n",
        "      truth = torch.sum(torch.eq(model_out, y_train).int())\n",
        "      print(\"Model accuracy is \", truth/pred_out2.shape[0], \". Loss is: \", pred_loss2.item())"
      ],
      "metadata": {
        "colab": {
          "base_uri": "https://localhost:8080/"
        },
        "id": "TzFJ62XFgzgg",
        "outputId": "841e5da1-042f-430b-e701-9463be43eb15"
      },
      "execution_count": 16,
      "outputs": [
        {
          "output_type": "stream",
          "name": "stderr",
          "text": [
            "/usr/local/lib/python3.7/dist-packages/torch/nn/_reduction.py:42: UserWarning: size_average and reduce args will be deprecated, please use reduction='mean' instead.\n",
            "  warnings.warn(warning.format(ret))\n"
          ]
        },
        {
          "output_type": "stream",
          "name": "stdout",
          "text": [
            "Model accuracy is  tensor(0.6211) . Loss is:  -0.11677652597427368\n",
            "Model accuracy is  tensor(0.6390) . Loss is:  -0.12302696704864502\n",
            "Model accuracy is  tensor(0.6482) . Loss is:  -0.12514859437942505\n",
            "Model accuracy is  tensor(0.6520) . Loss is:  -0.1263914704322815\n",
            "Model accuracy is  tensor(0.6541) . Loss is:  -0.12772786617279053\n",
            "Model accuracy is  tensor(0.6571) . Loss is:  -0.12930864095687866\n",
            "Model accuracy is  tensor(0.6581) . Loss is:  -0.13128221035003662\n",
            "Model accuracy is  tensor(0.6571) . Loss is:  -0.1333962082862854\n",
            "Model accuracy is  tensor(0.6581) . Loss is:  -0.13560175895690918\n",
            "Model accuracy is  tensor(0.6587) . Loss is:  -0.13804370164871216\n"
          ]
        }
      ]
    },
    {
      "cell_type": "markdown",
      "source": [
        "Similar to the results demonstrated by Wadsworth et al., the model (4) accepting both logit and true recidivism performed around the same compared to the model (2) which accepted the logit. Both accuracies converged to around 67%. Therefore, second model (4) was used for the rest of the lab. "
      ],
      "metadata": {
        "id": "Q2-wJxQf00em"
      }
    },
    {
      "cell_type": "markdown",
      "source": [
        "### Testing\n",
        "\n",
        "Continuing with model1 and 2: testing FPR and calibration."
      ],
      "metadata": {
        "id": "Lkl9dygA1lBz"
      }
    },
    {
      "cell_type": "code",
      "source": [
        "log1, caucasian_pred = model3(cc_data) # caucasian test set\n",
        "log2, aa_pred = model3(aa_data)       # african-american test set\n",
        "log3, overall_pred = model3(test_data) # overall case with all demographics"
      ],
      "metadata": {
        "id": "2iNNzIq1eIyF"
      },
      "execution_count": 17,
      "outputs": []
    },
    {
      "cell_type": "code",
      "source": [
        "## False positive parity for different thresholds\n",
        "\n",
        "thresholds = np.linspace(0, 1) # change threshold from 0 to 1 on the x-axis\n",
        "# generate FPR rates for cc and aa\n",
        "cc_fpr = []\n",
        "aa_fpr = []\n",
        "\n",
        "for i in thresholds:\n",
        "  # taking each model output with different thresholds\n",
        "  cc_thresholded = torch.where(caucasian_pred>i, 1, 0)\n",
        "  aa_thresholded = torch.where(aa_pred>i, 1, 0)\n",
        "  cc_fpr.append(FalsePosRate(cc_thresholded, cc_targets))\n",
        "  aa_fpr.append(FalsePosRate(aa_thresholded, aa_targets))\n",
        "\n",
        "# conversion to np array for plotting\n",
        "cc_fpr = np.array(cc_fpr)\n",
        "aa_fpr = np.array(aa_fpr)\n",
        "\n",
        "# plotting\n",
        "plt.plot(thresholds, aa_fpr, label = \"African-American\", color = \"m\")\n",
        "plt.plot(thresholds, cc_fpr, label = \"Caucasian\", color= \"c\")\n",
        "plt.legend()\n",
        "plt.xlabel(\"Threshold\")\n",
        "plt.ylabel(\"False Positive Rate\")\n",
        "plt.title(\"Effect of threshold on FPR\")"
      ],
      "metadata": {
        "colab": {
          "base_uri": "https://localhost:8080/",
          "height": 312
        },
        "id": "bWgHDEaIGMdC",
        "outputId": "25efc9c0-8ca1-4705-a117-fea9d830155c"
      },
      "execution_count": 342,
      "outputs": [
        {
          "output_type": "execute_result",
          "data": {
            "text/plain": [
              "Text(0.5, 1.0, 'Effect of threshold on FPR')"
            ]
          },
          "metadata": {},
          "execution_count": 342
        },
        {
          "output_type": "display_data",
          "data": {
            "image/png": "[encoded data removed]",
            "text/plain": [
              "<Figure size 432x288 with 1 Axes>"
            ]
          },
          "metadata": {
            "needs_background": "light"
          }
        }
      ]
    },
    {
      "cell_type": "markdown",
      "source": [
        "It appears that the false-positive disparity is smaller using Wadsworth et al.'s method. As shown in the figure above and knowing the false-positive disparity is the difference between the 2 curves, the results from this adversarial model have less false-positive disparity compared to the logistic. This is because the lines representing the different demographics are observed to be closer together, therefore, demonstrating false-positive parity as the differences between them average under 5%."
      ],
      "metadata": {
        "id": "suywBBidgj1H"
      }
    },
    {
      "cell_type": "code",
      "source": [
        "## Show that thresholds satisfying calibration is also satisfied\n",
        "# using the same threshold used in part 1 (this enables us to compare the 2 results)\n",
        "\n",
        "caucasian_pred_thresholded = torch.where(caucasian_pred > 0.5, 1, 0)\n",
        "aa_pred_thresholded = torch.where(aa_pred > 0.5, 1, 0)\n",
        "\n",
        "cc_ppv, cc_npv = Calibration(caucasian_pred_thresholded, cc_targets)\n",
        "aa_ppv, aa_npv = Calibration(aa_pred_thresholded, aa_targets)\n",
        "\n",
        "print(\"For 0.5 Threshold:\")\n",
        "print(\"Caucasian PPV: \", cc_ppv, \" African-American PPV: \", aa_ppv, \"Difference = \", aa_ppv-cc_ppv)\n",
        "print(\"Caucasian NPV: \", cc_npv, \" African-American NPV: \", aa_npv, \"Difference = \", aa_npv-cc_npv)"
      ],
      "metadata": {
        "colab": {
          "base_uri": "https://localhost:8080/"
        },
        "id": "GXbX4c8A6woj",
        "outputId": "3abd8bb3-2b65-4b28-986d-9c454106fa47"
      },
      "execution_count": 18,
      "outputs": [
        {
          "output_type": "stream",
          "name": "stdout",
          "text": [
            "For 0.5 Threshold:\n",
            "Caucasian PPV:  0.6515151515151515  African-American PPV:  0.6951566951566952 Difference =  0.04364154364154371\n",
            "Caucasian NPV:  0.6799999999999999  African-American NPV:  0.6700251889168766 Difference =  -0.00997481108312337\n"
          ]
        }
      ]
    },
    {
      "cell_type": "markdown",
      "source": [
        "From this result, it can be seen that calibration is also satisfied with differences in PPV and NPV of 4.36% and 1% respectively. "
      ],
      "metadata": {
        "id": "-soqwKZ-_o3A"
      }
    },
    {
      "cell_type": "code",
      "source": [
        "## getting the false positive rate for threshold 0.8 to compare with logistic model\n",
        "\n",
        "cc_th = torch.where(caucasian_pred>0.8, 1, 0)\n",
        "aa_th = torch.where(aa_pred>0.8, 1, 0)\n",
        "\n",
        "cc_fpr = (FalsePosRate(cc_th, cc_targets))\n",
        "aa_fpr = (FalsePosRate(aa_th, aa_targets))\n",
        "print(\"The false-positive disparity for threshold 0.8 is: \", aa_fpr-cc_fpr)"
      ],
      "metadata": {
        "colab": {
          "base_uri": "https://localhost:8080/"
        },
        "id": "7o03MnaUCWQf",
        "outputId": "ed888183-8df1-480f-95e1-ff6808835974"
      },
      "execution_count": 20,
      "outputs": [
        {
          "output_type": "stream",
          "name": "stdout",
          "text": [
            "The false-positive disparity for threshold 0.8 is:  0.0065230525242608445\n"
          ]
        }
      ]
    },
    {
      "cell_type": "markdown",
      "source": [
        "## Overview\n",
        "**Features**: The features used to train the adversarial model were age, sex, number of prior crimes, number of juvenile misdemeanors, number of juvinile felonies, and crime charge degree. Features which were strings in the dataset were encoded into integer values- sex and crime degree were converted to binary 0 and 1s for the purposes of training the model.\n",
        "\n",
        "**Comparison to Wadsworth**\n",
        "\n",
        "*Model:*\n",
        "As summarized earlier, it was found that training a model with just a logit as an input to the adversary was similar in range to the logit and recidivism value. The final model is as follows: The Predictor takes the 7 features from the dataset, put them through 2 256 unit ReLU fully-connected layers, then outputs both logit and recidivism value. The Adversary model takes the output from the predictor and passes it through an 100-unit ReLU layer. All hyperparameters were used following the description in Wadsworth et al. Section 4- binary cross-entropy loss, alpha = 1, adam optimizer, and sigmoid output layer.\n",
        "\n",
        "*Classifier Accuracy of Wadsworth et al:*\n",
        "Using the same threshold of 0.8 to compare results from Part 1 and Part 2 (Wadsworth), the adversarial network proposed by Wadsworth et al. performs considerably better with less false-positive predictions and satisfied calibration. This was demonstrated above where Wadsworth's model trained with 7 features has a small false-positive disparity of 0.65%, and how the differences in NPV and PPV were minimal at 4% and 1% respectively. In part 1 where 3 features were used, the same threshold revealed false-positive parity and not calibration through NPV and PPV values of 6% and 9%. Therefore,  Wadsworth's network utilizing more features yielded a more accurate classifier.\n",
        "\n",
        "\n",
        "*False-positive disparity:* To observe the false-positive disparity, the false positive rates for each model was plotted against potential thresholds. Comparing these figures in Part 1 and Part 2, the false-positive rates are closer together using the network proposed by Wadsworth et al., thus, exhibit false-positive parity better.\n",
        "\n",
        "**Further Steps**\n",
        "\n",
        "More testing is required to demonstrate the decrease in false-positive disparity using Wadsworth's model. One potential future step is to plot the difference between FPRs, comparing between each model. Similarly, calibration could be calculated for each threshold to gain an overall sense. Statistical testing also could be implenented to determine the significance of each value, rather than assuming that values over 5% are significant."
      ],
      "metadata": {
        "id": "nZ6RLkkWFtqc"
      }
    }
  ]
}