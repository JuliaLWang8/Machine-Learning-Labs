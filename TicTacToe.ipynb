{
  "nbformat": 4,
  "nbformat_minor": 0,
  "metadata": {
    "colab": {
      "name": "TicTacToe.ipynb",
      "provenance": []
    },
    "kernelspec": {
      "name": "python3",
      "display_name": "Python 3"
    },
    "language_info": {
      "name": "python"
    }
  },
  "cells": [
    {
      "cell_type": "markdown",
      "source": [
        "# Tic-Tac-Toe with Policy Gradient\n",
        "\n",
        "Julia L. Wang | ECE324 Mini-Project 3"
      ],
      "metadata": {
        "id": "hPf6KnfTpIc9"
      }
    },
    {
      "cell_type": "markdown",
      "source": [
        "## Initialization"
      ],
      "metadata": {
        "id": "VuOBAe49pQCX"
      }
    },
    {
      "cell_type": "code",
      "execution_count": 12,
      "metadata": {
        "id": "NEz-GzompG6M",
        "colab": {
          "base_uri": "https://localhost:8080/"
        },
        "outputId": "d5100b13-3c1b-40a7-e7bd-2c9b3fb4f2a4"
      },
      "outputs": [
        {
          "output_type": "execute_result",
          "data": {
            "text/plain": [
              "<torch._C.Generator at 0x7f28e7ffd990>"
            ]
          },
          "metadata": {},
          "execution_count": 12
        }
      ],
      "source": [
        "## From starter code\n",
        "# import statements\n",
        "from __future__ import print_function\n",
        "from collections import defaultdict\n",
        "from itertools import count\n",
        "import numpy as np\n",
        "import math\n",
        "import random\n",
        "import torch\n",
        "import torch.nn as nn\n",
        "import torch.nn.functional as F\n",
        "import torch.optim as optim\n",
        "import torch.distributions\n",
        "from torch.autograd import Variable\n",
        "import matplotlib.pyplot as plt\n",
        "np.random.seed(328)\n",
        "random.seed(328)\n",
        "torch.manual_seed(328)"
      ]
    },
    {
      "cell_type": "code",
      "source": [
        "def load_weights(policy, episode):\n",
        "    \"\"\"Load saved weights\"\"\"\n",
        "    weights = torch.load(\"policy-%d.pkl\" % episode)\n",
        "    policy.load_state_dict(weights)"
      ],
      "metadata": {
        "id": "I1teFK60bAS3"
      },
      "execution_count": null,
      "outputs": []
    },
    {
      "cell_type": "markdown",
      "source": [
        "## Part 1: The Environment"
      ],
      "metadata": {
        "id": "ejkrixN5ponR"
      }
    },
    {
      "cell_type": "code",
      "source": [
        "## Environment class\n",
        "class Environment(object):\n",
        "    \"\"\"\n",
        "    The Tic-Tac-Toe Environment\n",
        "    \"\"\"\n",
        "    # possible ways to win\n",
        "    win_set = frozenset([(0,1,2), (3,4,5), (6,7,8), # horizontal\n",
        "                         (0,3,6), (1,4,7), (2,5,8), # vertical\n",
        "                         (0,4,8), (2,4,6)])         # diagonal\n",
        "    # statuses\n",
        "    STATUS_VALID_MOVE = 'valid'\n",
        "    STATUS_INVALID_MOVE = 'inv'\n",
        "    STATUS_WIN = 'win'\n",
        "    STATUS_TIE = 'tie'\n",
        "    STATUS_LOSE = 'lose'\n",
        "    STATUS_DONE = 'done'\n",
        "\n",
        "    def __init__(self):\n",
        "        self.reset()\n",
        "\n",
        "    def reset(self):\n",
        "        \"\"\"Reset the game to an empty board.\"\"\"\n",
        "        self.grid = np.array([0] * 9) # grid\n",
        "        self.turn = 1                 # whose turn it is\n",
        "        self.done = False             # whether game is done\n",
        "        return self.grid\n",
        "\n",
        "    def render(self):\n",
        "        \"\"\"Print what is on the board.\"\"\"\n",
        "        map = {0:'.', 1:'x', 2:'o'} # grid label vs how to plot\n",
        "        print(''.join(map[i] for i in self.grid[0:3]))\n",
        "        print(''.join(map[i] for i in self.grid[3:6]))\n",
        "        print(''.join(map[i] for i in self.grid[6:9]))\n",
        "        print('====')\n",
        "\n",
        "    def check_win(self):\n",
        "        \"\"\"Check if someone has won the game.\"\"\"\n",
        "        for pos in self.win_set:\n",
        "            s = set([self.grid[p] for p in pos])\n",
        "            if len(s) == 1 and (0 not in s):\n",
        "                return True\n",
        "        return False\n",
        "\n",
        "    def step(self, action):\n",
        "        \"\"\"Mark a point on position action.\"\"\"\n",
        "        assert type(action) == int and action >= 0 and action < 9\n",
        "        # done = already finished the game\n",
        "        if self.done:\n",
        "            return self.grid, self.STATUS_DONE, self.done\n",
        "        # action already have something on it\n",
        "        if self.grid[action] != 0:\n",
        "            return self.grid, self.STATUS_INVALID_MOVE, self.done\n",
        "        # play move\n",
        "        self.grid[action] = self.turn\n",
        "        if self.turn == 1:\n",
        "            self.turn = 2\n",
        "        else:\n",
        "            self.turn = 1\n",
        "        # check win\n",
        "        if self.check_win():\n",
        "            self.done = True\n",
        "            return self.grid, self.STATUS_WIN, self.done\n",
        "        # check tie\n",
        "        if all([p != 0 for p in self.grid]):\n",
        "            self.done = True\n",
        "            return self.grid, self.STATUS_TIE, self.done\n",
        "        return self.grid, self.STATUS_VALID_MOVE, self.done\n",
        "\n",
        "    def random_step(self):\n",
        "        \"\"\"Choose a random, unoccupied move on the board to play.\"\"\"\n",
        "        pos = [i for i in range(9) if self.grid[i] == 0]\n",
        "        move = random.choice(pos)\n",
        "        return self.step(move)\n",
        "\n",
        "    def play_against_random(self, action):\n",
        "        \"\"\"Play a move, and then have a random agent play the next move.\"\"\"\n",
        "        state, status, done = self.step(action)\n",
        "        if not done and self.turn == 2:\n",
        "            state, s2, done = self.random_step()\n",
        "            if done:\n",
        "                if s2 == self.STATUS_WIN:\n",
        "                    status = self.STATUS_LOSE\n",
        "                elif s2 == self.STATUS_TIE:\n",
        "                    status = self.STATUS_TIE\n",
        "                else:\n",
        "                    raise ValueError(\"???\")\n",
        "        return state, status, done"
      ],
      "metadata": {
        "id": "ve-2SaDipbv3"
      },
      "execution_count": null,
      "outputs": []
    },
    {
      "cell_type": "markdown",
      "source": [
        "The Tic-Tac-Toe grid is represented as an np array with 9 elements, which is initiated to 0s upon starting the game. \n",
        "\n",
        "The attribute *turn* is either 1 or 2 for the 2 players, indicating whose turn it is. Upon one player making a move, the turn attribute will switch to the other player.\n",
        "\n",
        "The attribute *done* is either True or False, indicating whether the game has been completed. This occurs when either a player wins or the entire board has been filled. "
      ],
      "metadata": {
        "id": "z41IybN7zYNe"
      }
    },
    {
      "cell_type": "markdown",
      "source": [
        "### Playing a game against myself"
      ],
      "metadata": {
        "id": "_2GqClj01gXe"
      }
    },
    {
      "cell_type": "code",
      "source": [
        "e = Environment()\n",
        "e.step(0) # X\n",
        "# e.render()\n",
        "e.step(4) # O\n",
        "e.render()\n",
        "e.step(1) # X\n",
        "# e.render()\n",
        "e.step(2) # O\n",
        "e.render()\n",
        "e.step(6) # X\n",
        "# e.render()\n",
        "e.step(3) # O\n",
        "e.render()\n",
        "e.step(5) # X\n",
        "# e.render()\n",
        "e.step(8) # O\n",
        "e.render()\n",
        "e.step(7) # X"
      ],
      "metadata": {
        "id": "GxYK5C5AqKE1",
        "colab": {
          "base_uri": "https://localhost:8080/"
        },
        "outputId": "f3da6d00-83a9-4bfe-a067-bb4366f1f257"
      },
      "execution_count": null,
      "outputs": [
        {
          "output_type": "stream",
          "name": "stdout",
          "text": [
            "x..\n",
            ".o.\n",
            "...\n",
            "====\n",
            "xxo\n",
            ".o.\n",
            "...\n",
            "====\n",
            "xxo\n",
            "oo.\n",
            "x..\n",
            "====\n",
            "xxo\n",
            "oox\n",
            "x.o\n",
            "====\n"
          ]
        },
        {
          "output_type": "execute_result",
          "data": {
            "text/plain": [
              "(array([1, 1, 2, 2, 2, 1, 1, 1, 2]), 'tie', True)"
            ]
          },
          "metadata": {},
          "execution_count": 24
        }
      ]
    },
    {
      "cell_type": "markdown",
      "source": [
        "### Playing a game against random agent"
      ],
      "metadata": {
        "id": "0k7SpBas2GZC"
      }
    },
    {
      "cell_type": "code",
      "source": [
        "e = Environment()\n",
        "e.play_against_random(4)\n",
        "e.render()"
      ],
      "metadata": {
        "colab": {
          "base_uri": "https://localhost:8080/"
        },
        "id": "kYv3rTFH2LYC",
        "outputId": "20115bfc-b4f3-4636-80c6-34e47c773d86"
      },
      "execution_count": null,
      "outputs": [
        {
          "output_type": "stream",
          "name": "stdout",
          "text": [
            "..o\n",
            ".x.\n",
            "...\n",
            "====\n"
          ]
        }
      ]
    },
    {
      "cell_type": "code",
      "source": [
        "e.play_against_random(0)\n",
        "e.render()"
      ],
      "metadata": {
        "colab": {
          "base_uri": "https://localhost:8080/"
        },
        "id": "2erkBZ2Q2Pnf",
        "outputId": "8fd5b425-3b7b-4ef0-fc22-5ee9d1feac91"
      },
      "execution_count": null,
      "outputs": [
        {
          "output_type": "stream",
          "name": "stdout",
          "text": [
            "xoo\n",
            ".x.\n",
            "...\n",
            "====\n"
          ]
        }
      ]
    },
    {
      "cell_type": "code",
      "source": [
        "e.play_against_random(8)\n",
        "e.render()"
      ],
      "metadata": {
        "colab": {
          "base_uri": "https://localhost:8080/"
        },
        "id": "WuNR212V2Vk-",
        "outputId": "deb8793d-2dfe-43d0-df17-a0dd36b026b6"
      },
      "execution_count": null,
      "outputs": [
        {
          "output_type": "stream",
          "name": "stdout",
          "text": [
            "xoo\n",
            ".x.\n",
            "..x\n",
            "====\n"
          ]
        }
      ]
    },
    {
      "cell_type": "code",
      "source": [
        "e.play_against_random(2) #game over"
      ],
      "metadata": {
        "colab": {
          "base_uri": "https://localhost:8080/"
        },
        "id": "5Sida--h2jb3",
        "outputId": "a9d58481-9492-47e9-a589-4dabf2dd5dde"
      },
      "execution_count": null,
      "outputs": [
        {
          "output_type": "execute_result",
          "data": {
            "text/plain": [
              "(array([1, 2, 2, 0, 1, 0, 0, 0, 1]), 'done', True)"
            ]
          },
          "metadata": {},
          "execution_count": 14
        }
      ]
    },
    {
      "cell_type": "markdown",
      "source": [
        "## Part 2: Policy\n",
        "\n",
        "Policy class is a neural network with one hidden layer. "
      ],
      "metadata": {
        "id": "6k1HTBN1pqh7"
      }
    },
    {
      "cell_type": "code",
      "source": [
        "class Policy(nn.Module):\n",
        "    \"\"\"\n",
        "    The Tic-Tac-Toe Policy\n",
        "    \"\"\"\n",
        "    def __init__(self, input_size=27, hidden_size=64, output_size=9):\n",
        "        super(Policy, self).__init__()\n",
        "        self.fc1 = nn.Linear(input_size, hidden_size)   # fully connected layers\n",
        "        self.fc2 = nn.Linear(hidden_size, output_size)  \n",
        "\n",
        "    def forward(self, x):\n",
        "        x = torch.nn.functional.relu(self.fc1(x))\n",
        "        x = torch.nn.functional.softmax(self.fc2(x)) # so probabilities sum to 1\n",
        "        return x\n"
      ],
      "metadata": {
        "id": "vB0523TPpj5d"
      },
      "execution_count": null,
      "outputs": []
    },
    {
      "cell_type": "code",
      "source": [
        "def select_action(policy, state):\n",
        "    \"\"\"Samples an action from the policy at the state.\"\"\"\n",
        "    state = torch.from_numpy(state).long().unsqueeze(0)\n",
        "    state = torch.zeros(3,9).scatter_(0,state,1).view(1,27)\n",
        "    pr = policy(Variable(state))\n",
        "    m = torch.distributions.Categorical(pr) \n",
        "    action = m.sample()\n",
        "    log_prob = torch.sum(m.log_prob(action))\n",
        "    return int(action.data[0]), log_prob"
      ],
      "metadata": {
        "id": "gR4zxWsRWbBj"
      },
      "execution_count": null,
      "outputs": []
    },
    {
      "cell_type": "markdown",
      "source": [
        "The state is represented as a 27-dimensional vector for the 3x3 board. This is because for each position on the board (9 positions total), there are 3 possibilites: no one has occupied it, player 1 has occupied it, or player 2 has occupied it. This leads to 3x3 x 3 = 27 dimensions.\n"
      ],
      "metadata": {
        "id": "OyoQlmHPa6R5"
      }
    },
    {
      "cell_type": "markdown",
      "source": [
        "The output of the policy is a 9 dimensional vector, each corresponding to the 9 positions of the board. The vector is a vector of probabilities of choosing the respective position which is updated as the policy is trained. "
      ],
      "metadata": {
        "id": "sBDdnqkE0EO3"
      }
    },
    {
      "cell_type": "markdown",
      "source": [
        "The policy is stochastic since it can be represented as a family of probability distributions. Each of the 9 values of the output represents the probability of choosing it, which is outputted by the softmax function. It is not deterministic since there is an element of unpredictability of the next move."
      ],
      "metadata": {
        "id": "y3obIwus_lQH"
      }
    },
    {
      "cell_type": "markdown",
      "source": [
        "## Part 3: Policy Gradient\n",
        "\n",
        "Computing returns"
      ],
      "metadata": {
        "id": "CZYasmfRAtZs"
      }
    },
    {
      "cell_type": "code",
      "source": [
        "def compute_returns(rewards, gamma=1.0):\n",
        "    \"\"\"\n",
        "    Compute returns for each time step, given the rewards\n",
        "      @param rewards: list of floats, where rewards[t] is the reward\n",
        "                      obtained at time step t\n",
        "      @param gamma: the discount factor\n",
        "      @returns list of floats representing the episode's returns\n",
        "          G_t = r_t + \\gamma r_{t+1} + \\gamma^2 r_{t+2} + ... \n",
        "\n",
        "    >>> compute_returns([0,0,0,1], 1.0)\n",
        "    [1.0, 1.0, 1.0, 1.0]\n",
        "    >>> compute_returns([0,0,0,1], 0.9)\n",
        "    [0.7290000000000001, 0.81, 0.9, 1.0]\n",
        "    >>> compute_returns([0,-0.5,5,0.5,-10], 0.9)\n",
        "    [-2.5965000000000003, -2.8850000000000002, -2.6500000000000004, -8.5, -10.0]\n",
        "    \"\"\"\n",
        "    G_t = [] # final list of floats\n",
        "    for i in range(len(rewards)):\n",
        "      r_t = 0 # reward\n",
        "      exp = 0 # exponent of gamma\n",
        "      for j in range(i, len(rewards)):\n",
        "        r_t += (gamma**exp) * rewards[j]\n",
        "        exp += 1  # increment exponent of gamma each time\n",
        "      G_t.append(r_t)\n",
        "  \n",
        "    return G_t\n",
        "\n",
        "# compute_returns([0,0,0,1], 1.0)\n",
        "# compute_returns([0,0,0,1], 0.9)\n",
        "# compute_returns([0,-0.5,5,0.5,-10], 0.9)"
      ],
      "metadata": {
        "id": "bI2EPfPRAyVW"
      },
      "execution_count": null,
      "outputs": []
    },
    {
      "cell_type": "code",
      "source": [
        "def finish_episode(saved_rewards, saved_logprobs, gamma=1.0):\n",
        "    \"\"\"Samples an action from the policy at the state.\"\"\"\n",
        "    policy_loss = []\n",
        "    returns = compute_returns(saved_rewards, gamma)\n",
        "    returns = torch.Tensor(returns)\n",
        "    # subtract mean and std for faster training\n",
        "    returns = (returns - returns.mean()) / (returns.std() +\n",
        "                                            np.finfo(np.float32).eps)\n",
        "    for log_prob, reward in zip(saved_logprobs, returns):\n",
        "        policy_loss.append(-log_prob * reward)\n",
        "\n",
        "    # print(len(policy_loss))\n",
        "    # print(policy_loss)\n",
        "\n",
        "    policy_loss = torch.stack(policy_loss).sum()\n",
        "    # print(policy_loss)\n",
        "    # print(type(policy_loss))\n",
        "\n",
        "    policy_loss.backward(retain_graph=True)\n",
        "    # note: retain_graph=True allows for multiple calls to .backward()\n",
        "    # in a single step\n"
      ],
      "metadata": {
        "id": "8KfKYik0A42s"
      },
      "execution_count": null,
      "outputs": []
    },
    {
      "cell_type": "markdown",
      "source": [
        "**Why can we not update weights in the middle of an episode?** The backward pass cannot update weights until the entire episode due to how the finish_episode function computes the policy loss. Since the policy_loss list is appended with negative log probabilities * reward at each time step, it must finish the episode to obtain its final value. Only after this do we obtain it's values and run the backward pass to update the weights. "
      ],
      "metadata": {
        "id": "l5IPS0_hEQds"
      }
    },
    {
      "cell_type": "markdown",
      "source": [
        "## Part 4: Rewards"
      ],
      "metadata": {
        "id": "obd9BKU-FlGQ"
      }
    },
    {
      "cell_type": "code",
      "source": [
        "def get_reward(status):\n",
        "    \"\"\"Returns a numeric given an environment status.\"\"\"\n",
        "    return {\n",
        "            Environment.STATUS_VALID_MOVE  : 10, # empty position, game continues\n",
        "            Environment.STATUS_INVALID_MOVE: -10, # move ignored\n",
        "            Environment.STATUS_WIN         : 100, # valid and winning move\n",
        "            Environment.STATUS_TIE         : 0, # valid and no more positions \n",
        "            Environment.STATUS_LOSE        : -50  # opponent wins\n",
        "    }[status]"
      ],
      "metadata": {
        "id": "xRcrm90OFnId"
      },
      "execution_count": null,
      "outputs": []
    },
    {
      "cell_type": "markdown",
      "source": [
        "### Justification of rewards\n",
        "\n",
        "I chose valid move and winning the game to have positive rewards. Similarly, an invalid move and losing the game has negative rewards. Since I wanted to mostly value winning/losing the game over making invalid/valid moves, I weighted the magnitude of winning 10x more than making a valid/invalid move. I also wanted the value of winning to be greater than the value of losing, so I made it double in magnitude. Therefore, the reward for winning and losing is 100 and -50 respectively, and the reward for valid and invalid move is the same at +/-10 respectively. I decided that the game ending in a tie would have zero reward since a tie is neutral and is the middle ground where neither player is rewarded."
      ],
      "metadata": {
        "id": "Y8m_VKdgGU5J"
      }
    },
    {
      "cell_type": "markdown",
      "source": [
        "## Part 5: Training"
      ],
      "metadata": {
        "id": "0mFJsgEtMivQ"
      }
    },
    {
      "cell_type": "code",
      "source": [
        "## Training loop\n",
        "def train(policy, env, gamma=1.0, log_interval=1000):\n",
        "    \"\"\"Train policy gradient.\"\"\"\n",
        "    optimizer = optim.Adam(policy.parameters(), lr=0.001)\n",
        "    scheduler = torch.optim.lr_scheduler.StepLR(\n",
        "            optimizer, step_size=10000, gamma=0.9)\n",
        "    running_reward = 0\n",
        "\n",
        "    # additionally -- \n",
        "    # for plotting \n",
        "    x = []   # episodes\n",
        "    y = []   # average return\n",
        "\n",
        "    for i_episode in range(75000):\n",
        "        saved_rewards = []\n",
        "        saved_logprobs = []\n",
        "        state = env.reset()\n",
        "        done = False\n",
        "\n",
        "        while not done:\n",
        "            action, logprob = select_action(policy, state)\n",
        "            state, status, done = env.play_against_random(action)\n",
        "            reward = get_reward(status)\n",
        "            saved_logprobs.append(logprob)\n",
        "            saved_rewards.append(reward)\n",
        "\n",
        "        R = compute_returns(saved_rewards)[0]\n",
        "        running_reward += R\n",
        "        \n",
        "        finish_episode(saved_rewards, saved_logprobs, gamma)\n",
        "        \n",
        "        if i_episode % log_interval == 0:\n",
        "            print('Episode {}\\tAverage return: {:.2f}'.format(\n",
        "                i_episode,\n",
        "                running_reward / log_interval))\n",
        "            \n",
        "            x.append(i_episode) # add to list of episodes\n",
        "            y.append(running_reward/log_interval) # add to list of average return\n",
        "\n",
        "            running_reward = 0 # reset reward\n",
        "        \n",
        "        if i_episode % (log_interval) == 0:\n",
        "            torch.save(policy.state_dict(),\n",
        "                       \"policy-%d.pkl\" % i_episode)\n",
        "\n",
        "        if i_episode % 1 == 0: # batch_size\n",
        "            optimizer.step()\n",
        "            scheduler.step()\n",
        "            optimizer.zero_grad()\n",
        "    return x, y"
      ],
      "metadata": {
        "id": "d-qXGE4rFnJd"
      },
      "execution_count": 23,
      "outputs": []
    },
    {
      "cell_type": "code",
      "source": [
        "## Training\n",
        "# initializing environment and policy\n",
        "e = Environment()\n",
        "pol = Policy()\n",
        "eps, avg = train(pol, e) # training\n",
        "\n",
        "plt.plot(eps, avg, color=\"m\")\n",
        "plt.xlabel(\"Episode\")\n",
        "plt.ylabel(\"Average Return\")\n",
        "plt.title(\"Training Return\")"
      ],
      "metadata": {
        "colab": {
          "base_uri": "https://localhost:8080/",
          "height": 1000
        },
        "id": "pKYjYH7XNSUr",
        "outputId": "7dd337fc-dd18-4121-b1a0-b9000ac9a95f"
      },
      "execution_count": 45,
      "outputs": [
        {
          "output_type": "stream",
          "name": "stderr",
          "text": [
            "/usr/local/lib/python3.7/dist-packages/ipykernel_launcher.py:12: UserWarning: Implicit dimension choice for softmax has been deprecated. Change the call to include dim=X as an argument.\n",
            "  if sys.path[0] == '':\n"
          ]
        },
        {
          "output_type": "stream",
          "name": "stdout",
          "text": [
            "Episode 0\tAverage return: 0.13\n",
            "Episode 1000\tAverage return: 30.25\n",
            "Episode 2000\tAverage return: 53.91\n",
            "Episode 3000\tAverage return: 62.56\n",
            "Episode 4000\tAverage return: 65.76\n",
            "Episode 5000\tAverage return: 61.30\n",
            "Episode 6000\tAverage return: 69.39\n",
            "Episode 7000\tAverage return: 66.92\n",
            "Episode 8000\tAverage return: 71.46\n",
            "Episode 9000\tAverage return: 71.69\n",
            "Episode 10000\tAverage return: 69.77\n",
            "Episode 11000\tAverage return: 77.61\n",
            "Episode 12000\tAverage return: 70.31\n",
            "Episode 13000\tAverage return: 79.34\n",
            "Episode 14000\tAverage return: 81.18\n",
            "Episode 15000\tAverage return: 74.11\n",
            "Episode 16000\tAverage return: 81.29\n",
            "Episode 17000\tAverage return: 82.21\n",
            "Episode 18000\tAverage return: 83.86\n",
            "Episode 19000\tAverage return: 83.35\n",
            "Episode 20000\tAverage return: 75.81\n",
            "Episode 21000\tAverage return: 80.59\n",
            "Episode 22000\tAverage return: 81.54\n",
            "Episode 23000\tAverage return: 86.45\n",
            "Episode 24000\tAverage return: 85.29\n",
            "Episode 25000\tAverage return: 83.21\n",
            "Episode 26000\tAverage return: 82.34\n",
            "Episode 27000\tAverage return: 84.52\n",
            "Episode 28000\tAverage return: 84.40\n",
            "Episode 29000\tAverage return: 82.97\n",
            "Episode 30000\tAverage return: 82.90\n",
            "Episode 31000\tAverage return: 83.49\n",
            "Episode 32000\tAverage return: 88.59\n",
            "Episode 33000\tAverage return: 84.19\n",
            "Episode 34000\tAverage return: 87.98\n",
            "Episode 35000\tAverage return: 86.34\n",
            "Episode 36000\tAverage return: 86.44\n",
            "Episode 37000\tAverage return: 90.07\n",
            "Episode 38000\tAverage return: 85.86\n",
            "Episode 39000\tAverage return: 88.91\n",
            "Episode 40000\tAverage return: 88.57\n",
            "Episode 41000\tAverage return: 89.70\n",
            "Episode 42000\tAverage return: 86.56\n",
            "Episode 43000\tAverage return: 90.71\n",
            "Episode 44000\tAverage return: 90.15\n",
            "Episode 45000\tAverage return: 83.89\n",
            "Episode 46000\tAverage return: 90.72\n",
            "Episode 47000\tAverage return: 84.04\n",
            "Episode 48000\tAverage return: 84.67\n",
            "Episode 49000\tAverage return: 87.85\n",
            "Episode 50000\tAverage return: 86.08\n",
            "Episode 51000\tAverage return: 90.02\n",
            "Episode 52000\tAverage return: 89.45\n",
            "Episode 53000\tAverage return: 92.63\n",
            "Episode 54000\tAverage return: 91.00\n",
            "Episode 55000\tAverage return: 94.83\n",
            "Episode 56000\tAverage return: 89.34\n",
            "Episode 57000\tAverage return: 88.60\n",
            "Episode 58000\tAverage return: 90.19\n",
            "Episode 59000\tAverage return: 86.40\n",
            "Episode 60000\tAverage return: 88.19\n",
            "Episode 61000\tAverage return: 88.51\n",
            "Episode 62000\tAverage return: 86.87\n",
            "Episode 63000\tAverage return: 91.29\n",
            "Episode 64000\tAverage return: 87.37\n",
            "Episode 65000\tAverage return: 86.89\n",
            "Episode 66000\tAverage return: 86.60\n",
            "Episode 67000\tAverage return: 87.96\n",
            "Episode 68000\tAverage return: 90.50\n",
            "Episode 69000\tAverage return: 90.33\n",
            "Episode 70000\tAverage return: 92.87\n",
            "Episode 71000\tAverage return: 88.85\n",
            "Episode 72000\tAverage return: 89.94\n",
            "Episode 73000\tAverage return: 88.81\n",
            "Episode 74000\tAverage return: 89.13\n"
          ]
        },
        {
          "output_type": "execute_result",
          "data": {
            "text/plain": [
              "Text(0.5, 1.0, 'Training Return')"
            ]
          },
          "metadata": {},
          "execution_count": 45
        },
        {
          "output_type": "display_data",
          "data": {
            "text/plain": [
              "<Figure size 432x288 with 1 Axes>"
            ],
            "image/png": "[encoded data removed]"
          },
          "metadata": {
            "needs_background": "light"
          }
        }
      ]
    },
    {
      "cell_type": "markdown",
      "source": [
        "### Hyperparameter Tuning\n",
        "\n",
        "Finding the optimal number of hidden units in the hidden layer. "
      ],
      "metadata": {
        "id": "ZKfzny60qpCb"
      }
    },
    {
      "cell_type": "code",
      "source": [
        "## Modify training loop to return the maximum average return and episode it occurred\n",
        "## Training loop\n",
        "\n",
        "def train_for_tune(policy, env, gamma=1.0, log_interval=1000):\n",
        "    \"\"\"Train policy gradient.\"\"\"\n",
        "    optimizer = optim.Adam(policy.parameters(), lr=0.001)\n",
        "    scheduler = torch.optim.lr_scheduler.StepLR(\n",
        "            optimizer, step_size=10000, gamma=0.9)\n",
        "    running_reward = 0\n",
        "\n",
        "    # additionally -- \n",
        "    # for measuring hyperparameter performance\n",
        "    max_avg = 0       # the maxiumum average\n",
        "    max_episode = 0   # the episode it occurred\n",
        "\n",
        "    for i_episode in range(75000):\n",
        "        saved_rewards = []\n",
        "        saved_logprobs = []\n",
        "        state = env.reset()\n",
        "        done = False\n",
        "\n",
        "        while not done:\n",
        "            action, logprob = select_action(policy, state)\n",
        "            state, status, done = env.play_against_random(action)\n",
        "            reward = get_reward(status)\n",
        "            saved_logprobs.append(logprob)\n",
        "            saved_rewards.append(reward)\n",
        "\n",
        "        R = compute_returns(saved_rewards)[0]\n",
        "        running_reward += R\n",
        "        \n",
        "        finish_episode(saved_rewards, saved_logprobs, gamma)\n",
        "        \n",
        "        if i_episode % log_interval == 0:\n",
        "            avg = running_reward / log_interval\n",
        "            # print('Episode {}\\tAverage return: {:.2f}'.format(\n",
        "            #     i_episode,\n",
        "            #     avg))\n",
        "            if avg > max_avg:\n",
        "              max_avg = avg\n",
        "              max_episode = i_episode\n",
        "            \n",
        "            running_reward = 0 # reset reward\n",
        "        \n",
        "        if i_episode % (log_interval) == 0:\n",
        "            torch.save(policy.state_dict(),\n",
        "                       \"policy-%d.pkl\" % i_episode)\n",
        "\n",
        "        if i_episode % 1 == 0: # batch_size\n",
        "            optimizer.step()\n",
        "            scheduler.step()\n",
        "            optimizer.zero_grad()\n",
        "    return max_avg, max_episode"
      ],
      "metadata": {
        "id": "BnDNZdvmq37a"
      },
      "execution_count": null,
      "outputs": []
    },
    {
      "cell_type": "code",
      "source": [
        "## Hyperparameter tuning\n",
        "h = [16, 32, 48, 64, 96]\n",
        "for num in h:\n",
        "  e = Environment()\n",
        "  pol = Policy(hidden_size = num)\n",
        "  maxavg, maxep = train_for_tune(pol, e) # training\n",
        "  print(\"For \", num, \"hidden units, the maxiumum average was \", maxavg, \"at episode \", maxep)"
      ],
      "metadata": {
        "colab": {
          "base_uri": "https://localhost:8080/"
        },
        "id": "Dtu1_F_er1c8",
        "outputId": "2d735329-1355-44f3-f612-a9d54e42e0d4"
      },
      "execution_count": null,
      "outputs": [
        {
          "output_type": "stream",
          "name": "stderr",
          "text": [
            "/usr/local/lib/python3.7/dist-packages/ipykernel_launcher.py:12: UserWarning: Implicit dimension choice for softmax has been deprecated. Change the call to include dim=X as an argument.\n",
            "  if sys.path[0] == '':\n"
          ]
        },
        {
          "output_type": "stream",
          "name": "stdout",
          "text": [
            "For  16 hidden units, the maxiumum average was  8.365 at episode  67000\n",
            "For  32 hidden units, the maxiumum average was  8.911 at episode  49000\n",
            "For  48 hidden units, the maxiumum average was  8.768 at episode  25000\n",
            "For  64 hidden units, the maxiumum average was  8.924 at episode  67000\n",
            "For  96 hidden units, the maxiumum average was  8.775 at episode  72000\n"
          ]
        }
      ]
    },
    {
      "cell_type": "markdown",
      "source": [
        "| Num hidden units | Maxiumum Average | Episode of Max Average |\n",
        "|----------------|----------|-------------|\n",
        "| 16 | 83.65 | 67000 |\n",
        "| 32 | 89.11 | 49000 |\n",
        "| 48 | 87.68 | 25000 |\n",
        "| 64 | 89.24 | 67000 |\n",
        "| 96 | 87.75 | 72000 |"
      ],
      "metadata": {
        "id": "hITxGB_kVJGp"
      }
    },
    {
      "cell_type": "markdown",
      "source": [
        "From the results above, it appears like a choice of 32 and 64 hidden units yields the most optimal average return. Looking at the episode of occurance, the maximum average return is reached fastest for 48 hidden units, at episode 25000 out of the 75000 total. 32 hidden units was the second fastest to reach the maximum at episode 49000. Moving forward, the hidden unit size of 32 was used since the maximum average was similar to 64 hidden units over less episodes. "
      ],
      "metadata": {
        "id": "6-OB6eluMFHG"
      }
    },
    {
      "cell_type": "code",
      "source": [
        "## retraining with converged hyperparameter\n",
        "e = Environment()\n",
        "pol = Policy(hidden_size = 34)\n",
        "x, y = train(pol, e)"
      ],
      "metadata": {
        "colab": {
          "base_uri": "https://localhost:8080/"
        },
        "id": "zo-54OIiCsfs",
        "outputId": "0e89f577-5118-44a8-8ab5-c137da28dae3"
      },
      "execution_count": 38,
      "outputs": [
        {
          "output_type": "stream",
          "name": "stderr",
          "text": [
            "/usr/local/lib/python3.7/dist-packages/ipykernel_launcher.py:12: UserWarning: Implicit dimension choice for softmax has been deprecated. Change the call to include dim=X as an argument.\n",
            "  if sys.path[0] == '':\n"
          ]
        },
        {
          "output_type": "stream",
          "name": "stdout",
          "text": [
            "Episode 0\tAverage return: 0.04\n",
            "Episode 1000\tAverage return: 31.49\n",
            "Episode 2000\tAverage return: 47.74\n",
            "Episode 3000\tAverage return: 61.25\n",
            "Episode 4000\tAverage return: 63.41\n",
            "Episode 5000\tAverage return: 61.31\n",
            "Episode 6000\tAverage return: 70.30\n",
            "Episode 7000\tAverage return: 69.91\n",
            "Episode 8000\tAverage return: 75.13\n",
            "Episode 9000\tAverage return: 68.66\n",
            "Episode 10000\tAverage return: 71.21\n",
            "Episode 11000\tAverage return: 69.80\n",
            "Episode 12000\tAverage return: 75.54\n",
            "Episode 13000\tAverage return: 71.89\n",
            "Episode 14000\tAverage return: 77.47\n",
            "Episode 15000\tAverage return: 75.06\n",
            "Episode 16000\tAverage return: 74.65\n",
            "Episode 17000\tAverage return: 79.80\n",
            "Episode 18000\tAverage return: 79.59\n",
            "Episode 19000\tAverage return: 76.46\n",
            "Episode 20000\tAverage return: 82.24\n",
            "Episode 21000\tAverage return: 84.64\n",
            "Episode 22000\tAverage return: 86.02\n",
            "Episode 23000\tAverage return: 87.45\n",
            "Episode 24000\tAverage return: 87.48\n",
            "Episode 25000\tAverage return: 81.28\n",
            "Episode 26000\tAverage return: 88.92\n",
            "Episode 27000\tAverage return: 86.95\n",
            "Episode 28000\tAverage return: 78.54\n",
            "Episode 29000\tAverage return: 84.79\n",
            "Episode 30000\tAverage return: 84.84\n",
            "Episode 31000\tAverage return: 83.20\n",
            "Episode 32000\tAverage return: 84.50\n",
            "Episode 33000\tAverage return: 84.75\n",
            "Episode 34000\tAverage return: 85.54\n",
            "Episode 35000\tAverage return: 86.33\n",
            "Episode 36000\tAverage return: 83.85\n",
            "Episode 37000\tAverage return: 89.14\n",
            "Episode 38000\tAverage return: 87.35\n",
            "Episode 39000\tAverage return: 87.79\n",
            "Episode 40000\tAverage return: 88.41\n",
            "Episode 41000\tAverage return: 86.72\n",
            "Episode 42000\tAverage return: 90.42\n",
            "Episode 43000\tAverage return: 89.09\n",
            "Episode 44000\tAverage return: 86.34\n",
            "Episode 45000\tAverage return: 88.78\n",
            "Episode 46000\tAverage return: 81.45\n",
            "Episode 47000\tAverage return: 89.88\n",
            "Episode 48000\tAverage return: 83.36\n",
            "Episode 49000\tAverage return: 88.16\n",
            "Episode 50000\tAverage return: 86.41\n",
            "Episode 51000\tAverage return: 87.46\n",
            "Episode 52000\tAverage return: 88.72\n",
            "Episode 53000\tAverage return: 86.34\n",
            "Episode 54000\tAverage return: 89.30\n",
            "Episode 55000\tAverage return: 90.17\n",
            "Episode 56000\tAverage return: 82.56\n",
            "Episode 57000\tAverage return: 83.16\n",
            "Episode 58000\tAverage return: 84.62\n",
            "Episode 59000\tAverage return: 90.04\n",
            "Episode 60000\tAverage return: 88.97\n",
            "Episode 61000\tAverage return: 88.39\n",
            "Episode 62000\tAverage return: 87.04\n",
            "Episode 63000\tAverage return: 89.72\n",
            "Episode 64000\tAverage return: 87.55\n",
            "Episode 65000\tAverage return: 87.95\n",
            "Episode 66000\tAverage return: 93.06\n",
            "Episode 67000\tAverage return: 86.50\n",
            "Episode 68000\tAverage return: 85.33\n",
            "Episode 69000\tAverage return: 88.62\n",
            "Episode 70000\tAverage return: 87.58\n",
            "Episode 71000\tAverage return: 89.85\n",
            "Episode 72000\tAverage return: 86.88\n",
            "Episode 73000\tAverage return: 90.74\n",
            "Episode 74000\tAverage return: 87.56\n"
          ]
        }
      ]
    },
    {
      "cell_type": "markdown",
      "source": [
        "### Playing invalid moves\n",
        "\n",
        "Determining the episode that the agent learned how to stop playing invalid moves. "
      ],
      "metadata": {
        "id": "J9Uwu9u8PB-N"
      }
    },
    {
      "cell_type": "code",
      "source": [
        "## Returning when invalid moves are stopped\n",
        "\n",
        "invalid = -328\n",
        "count_zeroes = 0\n",
        "log_interval = 1000\n",
        "\n",
        "for i_episode in range(0, 75000, 1000):\n",
        "    # get the results from every 1000 episodes\n",
        "    load_weights(pol, i_episode)\n",
        "\n",
        "    state = e.reset()\n",
        "    done = False\n",
        "\n",
        "    # break the loop if invalid has been 0 for 3 episodes\n",
        "    if count_zeroes >= 3:\n",
        "      break\n",
        "    \n",
        "    invalid = 0 # reset invalid per episode\n",
        "\n",
        "    while not done:\n",
        "        action, logprob = select_action(pol, state)\n",
        "        state, status, done = e.play_against_random(action)\n",
        "\n",
        "        # update invalid for each invalid move played\n",
        "        if status == e.STATUS_INVALID_MOVE:\n",
        "          invalid += 1\n",
        "    \n",
        "    if i_episode % log_interval == 0:\n",
        "        print('Episode {}\\t Invalid moves for episode: {}'.format(\n",
        "            i_episode,\n",
        "            invalid))\n",
        "        \n",
        "        if invalid == 0:\n",
        "          count_zeroes += 1 # increment count\n",
        "        else:\n",
        "          count_zeroes = 0 #reset\n",
        "        "
      ],
      "metadata": {
        "id": "u27nUNO2L_pJ",
        "colab": {
          "base_uri": "https://localhost:8080/"
        },
        "outputId": "e82a61d2-bd0b-4929-8a66-9294ddc3b1b9"
      },
      "execution_count": 28,
      "outputs": [
        {
          "output_type": "stream",
          "name": "stdout",
          "text": [
            "Episode 0\t Invalid moves for episode: 7\n",
            "Episode 1000\t Invalid moves for episode: 1\n",
            "Episode 2000\t Invalid moves for episode: 3\n",
            "Episode 3000\t Invalid moves for episode: 0\n",
            "Episode 4000\t Invalid moves for episode: 1\n",
            "Episode 5000\t Invalid moves for episode: 0\n",
            "Episode 6000\t Invalid moves for episode: 1\n",
            "Episode 7000\t Invalid moves for episode: 0\n",
            "Episode 8000\t Invalid moves for episode: 0\n",
            "Episode 9000\t Invalid moves for episode: 3\n",
            "Episode 10000\t Invalid moves for episode: 0\n",
            "Episode 11000\t Invalid moves for episode: 1\n",
            "Episode 12000\t Invalid moves for episode: 0\n",
            "Episode 13000\t Invalid moves for episode: 0\n",
            "Episode 14000\t Invalid moves for episode: 0\n"
          ]
        },
        {
          "output_type": "stream",
          "name": "stderr",
          "text": [
            "/usr/local/lib/python3.7/dist-packages/ipykernel_launcher.py:12: UserWarning: Implicit dimension choice for softmax has been deprecated. Change the call to include dim=X as an argument.\n",
            "  if sys.path[0] == '':\n"
          ]
        }
      ]
    },
    {
      "cell_type": "markdown",
      "source": [
        "The episode that the agent learned to stop playing invalid moves was around episode 14000. This was found by counting the number of invalid moves per episode, which was recorded every 1000 episodes.  I inserted a break statement for when the invalid moves was constantly 0 for 3 of the displayed episodes (3000 eps). As shown above, the agent stopped playing invalid moves around episode 14000."
      ],
      "metadata": {
        "id": "BP7X1_q4UN6_"
      }
    },
    {
      "cell_type": "markdown",
      "source": [
        "### Playing against random player"
      ],
      "metadata": {
        "id": "V9P7SviLU4v0"
      }
    },
    {
      "cell_type": "code",
      "source": [
        "## Playing 100 games against random\n",
        "load_weights(pol, 70000)\n",
        "\n",
        "# Choosing 5 random games to print\n",
        "games_to_display = [16, 32, 48, 64, 80]\n",
        "wins = 0    #initializing total counts\n",
        "losses = 0\n",
        "ties = 0\n",
        "\n",
        "for game in range(100):\n",
        "  # 100 games\n",
        "  grid = e.reset() # reset game state\n",
        "  if game in games_to_display:\n",
        "    print(\"Playing game \", game)\n",
        "\n",
        "  while e.done == False:\n",
        "    # play until the game is finished\n",
        "    action, logprob = select_action(pol, grid)\n",
        "    grid, status, done = e.play_against_random(action)\n",
        "\n",
        "    # display game if in the 5 random ones\n",
        "    if game in games_to_display:\n",
        "      e.render()\n",
        "  if status == 'win':\n",
        "    wins += 1\n",
        "  elif status == 'lose':\n",
        "    losses += 1\n",
        "  elif status == 'tie':\n",
        "    ties += 1\n",
        "\n",
        "print(\"Wins: \", wins, \" Losses: \", losses, \" Ties: \", ties)"
      ],
      "metadata": {
        "id": "e7pucg96VB8C",
        "colab": {
          "base_uri": "https://localhost:8080/"
        },
        "outputId": "535e7523-a73e-482b-e332-0cecee3bd08a"
      },
      "execution_count": 42,
      "outputs": [
        {
          "output_type": "stream",
          "name": "stderr",
          "text": [
            "/usr/local/lib/python3.7/dist-packages/ipykernel_launcher.py:12: UserWarning: Implicit dimension choice for softmax has been deprecated. Change the call to include dim=X as an argument.\n",
            "  if sys.path[0] == '':\n"
          ]
        },
        {
          "output_type": "stream",
          "name": "stdout",
          "text": [
            "Playing game  16\n",
            "...\n",
            "o..\n",
            "x..\n",
            "====\n",
            "o..\n",
            "o.x\n",
            "x..\n",
            "====\n",
            "ox.\n",
            "o.x\n",
            "xo.\n",
            "====\n",
            "ox.\n",
            "oxx\n",
            "xoo\n",
            "====\n",
            "oxx\n",
            "oxx\n",
            "xoo\n",
            "====\n",
            "Playing game  32\n",
            "...\n",
            "...\n",
            "xo.\n",
            "====\n",
            "...\n",
            "o.x\n",
            "xo.\n",
            "====\n",
            ".x.\n",
            "o.x\n",
            "xoo\n",
            "====\n",
            ".xo\n",
            "oxx\n",
            "xoo\n",
            "====\n",
            "xxo\n",
            "oxx\n",
            "xoo\n",
            "====\n",
            "Playing game  48\n",
            "o..\n",
            "...\n",
            "x..\n",
            "====\n",
            "ox.\n",
            "...\n",
            "xo.\n",
            "====\n",
            "ox.\n",
            "ox.\n",
            "xo.\n",
            "====\n",
            "ox.\n",
            "oxo\n",
            "xox\n",
            "====\n",
            "oxx\n",
            "oxo\n",
            "xox\n",
            "====\n",
            "Playing game  64\n",
            ".o.\n",
            "...\n",
            "x..\n",
            "====\n",
            ".o.\n",
            "..x\n",
            "xo.\n",
            "====\n",
            ".o.\n",
            "oxx\n",
            "xo.\n",
            "====\n",
            "xoo\n",
            "oxx\n",
            "xo.\n",
            "====\n",
            "xoo\n",
            "oxx\n",
            "xox\n",
            "====\n",
            "Playing game  80\n",
            "...\n",
            "o..\n",
            "x..\n",
            "====\n",
            ".o.\n",
            "o.x\n",
            "x..\n",
            "====\n",
            "xo.\n",
            "o.x\n",
            "xo.\n",
            "====\n",
            "xo.\n",
            "oxx\n",
            "xoo\n",
            "====\n",
            "xox\n",
            "oxx\n",
            "xoo\n",
            "====\n",
            "Wins:  56  Losses:  7  Ties:  37\n"
          ]
        }
      ]
    },
    {
      "cell_type": "markdown",
      "source": [
        "Wins:  59  Losses:  9  Ties:  32\n",
        "\n",
        "### Agent strategies\n",
        "\n",
        "It seems like the agent always chooses the bottom left position to start the game. Although it is not the optimal choice (the middle position), it makes sense since it was trained against a random player and depends wholly on the training. Perhaps training it on a different agent or training it for more epochs would result in choosing the middle position. Moreover, it appears as if the agent has not learned to go for a diagonal win given its first choice of position (for the middle position and upper right). It appears as if the agent tends to choose a position in the same row as the opponents previous move (see game 80). This makes sense since it is working to prevent the opponent from a horizontal win. Due to the randomization of the agent it trained against, the random agent could have gotten more horizontal wins which the agent trained against, and therefore, the agent accounts against horizontal wins more."
      ],
      "metadata": {
        "id": "7rSFEuUYKebR"
      }
    },
    {
      "cell_type": "markdown",
      "source": [
        "## Part 6: Win Rate over Episodes\n",
        "\n",
        "Exploring win-lose-tie rates throughout training by plotting the graph. "
      ],
      "metadata": {
        "id": "QrqnxbzNLsUh"
      }
    },
    {
      "cell_type": "code",
      "source": [
        "wins, losses, ties, eps, x, y = [], [], [], [], [], [] #train_for_rates(pol, e)\n",
        "\n",
        "log_interval = 1000\n",
        "counter, win_count, tie_count, loss_count = 0, 0, 0, 0\n",
        "\n",
        "for i_episode in range(0, 75000, 1000):\n",
        "    load_weights(pol, i_episode)\n",
        "\n",
        "    for i in range(100):\n",
        "      state = e.reset()\n",
        "      done = False\n",
        "\n",
        "      while not done:\n",
        "          action, logprob = select_action(pol, state)\n",
        "          state, status, done = e.play_against_random(action)\n",
        "\n",
        "      if status == 'win':\n",
        "        win_count += 1\n",
        "      elif status == 'lose':\n",
        "        loss_count += 1\n",
        "      elif status == 'tie':\n",
        "        tie_count += 1\n",
        "\n",
        "    wins.append(win_count)\n",
        "    losses.append(loss_count)\n",
        "    ties.append(tie_count)\n",
        "    eps.append(i_episode)\n",
        "    win_count, loss_count, tie_count = 0, 0, 0\n",
        "\n",
        "\n",
        "plt.plot(eps, wins, color = 'b')\n",
        "plt.plot(eps, losses, color='m')\n",
        "plt.plot(eps, ties, color='cyan') \n",
        "plt.title(\"Win, Loss, and Tie Rates\")\n",
        "plt.xlabel(\"Episode\")\n",
        "plt.ylabel(\"Rate\")\n",
        "plt.legend(['win rate', 'loss rate', 'tie rate'])\n",
        "plt.show()"
      ],
      "metadata": {
        "colab": {
          "base_uri": "https://localhost:8080/",
          "height": 352
        },
        "id": "jx-863moMSHf",
        "outputId": "0f144f83-a13c-4e3c-9615-7ed77e9bd7d7"
      },
      "execution_count": 39,
      "outputs": [
        {
          "output_type": "stream",
          "name": "stderr",
          "text": [
            "/usr/local/lib/python3.7/dist-packages/ipykernel_launcher.py:12: UserWarning: Implicit dimension choice for softmax has been deprecated. Change the call to include dim=X as an argument.\n",
            "  if sys.path[0] == '':\n"
          ]
        },
        {
          "output_type": "display_data",
          "data": {
            "text/plain": [
              "<Figure size 432x288 with 1 Axes>"
            ],
            "image/png": "[encoded data removed]"
          },
          "metadata": {
            "needs_background": "light"
          }
        }
      ]
    },
    {
      "cell_type": "markdown",
      "source": [
        "The graph above depicts the total win/loss/ties over 100 games during training. Overall, the loss rate decreased over training which indicates that the model learned to not lose. However, it is interesting to see that the win rate was pretty constant and the rate of ties increased at the beginning. Only at the beginning 30000 epochs was there significant change where the losses rapidly decreased and the ties increased. One future improvement is to change the model reward such that ties are given less reward, which could potentially decrease the tie rate, subsequently, increasing the number of wins."
      ],
      "metadata": {
        "id": "E74fejfFXSrZ"
      }
    },
    {
      "cell_type": "markdown",
      "source": [
        "## Part 7: First Move Distribution over Episodes\n"
      ],
      "metadata": {
        "id": "jqSQq2DtNivI"
      }
    },
    {
      "cell_type": "code",
      "source": [
        "# Learned distribution over first move\n",
        "## loading weights from pickle\n",
        "load_weights(pol, 70000)\n",
        "\n",
        "## from select action\n",
        "state = e.reset()\n",
        "state = torch.from_numpy(state).long().unsqueeze(0)\n",
        "state = torch.zeros(3,9).scatter_(0,state,1).view(1,27)\n",
        "pr = pol(Variable(state)).data.numpy().flatten()\n",
        "\n",
        "## first move distribution\n",
        "for i in range(9):\n",
        "  print(\"Position \", i+1, \" | \", '{:.3g}'.format(pr[i]))"
      ],
      "metadata": {
        "colab": {
          "base_uri": "https://localhost:8080/"
        },
        "id": "teu7Etd_ZRY7",
        "outputId": "57175145-31d2-4f04-f698-94d8c50c9e45"
      },
      "execution_count": 43,
      "outputs": [
        {
          "output_type": "stream",
          "name": "stdout",
          "text": [
            "Position  1  |  6.82e-08\n",
            "Position  2  |  3.46e-07\n",
            "Position  3  |  4.42e-11\n",
            "Position  4  |  9.21e-10\n",
            "Position  5  |  2.84e-07\n",
            "Position  6  |  3.35e-05\n",
            "Position  7  |  1\n",
            "Position  8  |  2.9e-09\n",
            "Position  9  |  9.17e-09\n"
          ]
        },
        {
          "output_type": "stream",
          "name": "stderr",
          "text": [
            "/usr/local/lib/python3.7/dist-packages/ipykernel_launcher.py:12: UserWarning: Implicit dimension choice for softmax has been deprecated. Change the call to include dim=X as an argument.\n",
            "  if sys.path[0] == '':\n"
          ]
        }
      ]
    },
    {
      "cell_type": "markdown",
      "source": [
        "As noted in Part 6, the model has learned to always make a move in the bottom left position (position 7). Although the position is not the ideal start that is the center position, it makes sense that the model would think so since it is trained against a random player. Changing the opponent being trained upon or running the model for more epochs could result in the model learning a new distribution and favoring the center position. However, in this case since training was randomized, it makes sense that the optimal starting position happened to be position 7."
      ],
      "metadata": {
        "id": "oRhoK1KefCFJ"
      }
    },
    {
      "cell_type": "markdown",
      "source": [
        "### Distribution over training"
      ],
      "metadata": {
        "id": "z-Nl0MQvf9_I"
      }
    },
    {
      "cell_type": "code",
      "source": [
        "dist = [ [] for i in range(9)] # 1 list for each of the 9 positions\n",
        "eps = [] # episodes\n",
        "\n",
        "for i in range(0, 75000, 1000):\n",
        "  load_weights(pol, i)\n",
        "  state = e.reset()\n",
        "  state = torch.from_numpy(state).long().unsqueeze(0)\n",
        "  state = torch.zeros(3,9).scatter_(0,state,1).view(1,27)\n",
        "  pr = pol(Variable(state)).data.numpy().flatten()\n",
        "  for j in range(9):\n",
        "    dist[j].append(pr[j])\n",
        "  eps.append(i)\n",
        "\n",
        "plt.plot(eps, dist[0])\n",
        "plt.plot(eps, dist[1])\n",
        "plt.plot(eps, dist[2])\n",
        "plt.plot(eps, dist[3])\n",
        "plt.plot(eps, dist[4])\n",
        "plt.plot(eps, dist[5])\n",
        "plt.plot(eps, dist[6])\n",
        "plt.plot(eps, dist[7])\n",
        "plt.plot(eps, dist[8])\n",
        "\n",
        "plt.title(\"First Move Distribution Through Training\")\n",
        "plt.xlabel(\"Episode\")\n",
        "plt.ylabel(\"Distribution\")\n",
        "plt.legend(['1', '2', '3', '4', '5', '6', '7', '8', '9'])\n",
        "plt.show()"
      ],
      "metadata": {
        "colab": {
          "base_uri": "https://localhost:8080/",
          "height": 352
        },
        "id": "XeWQhavxf9YA",
        "outputId": "1b31157c-2d1d-4a14-942e-efed604801ab"
      },
      "execution_count": 44,
      "outputs": [
        {
          "output_type": "stream",
          "name": "stderr",
          "text": [
            "/usr/local/lib/python3.7/dist-packages/ipykernel_launcher.py:12: UserWarning: Implicit dimension choice for softmax has been deprecated. Change the call to include dim=X as an argument.\n",
            "  if sys.path[0] == '':\n"
          ]
        },
        {
          "output_type": "display_data",
          "data": {
            "text/plain": [
              "<Figure size 432x288 with 1 Axes>"
            ],
            "image/png": "[encoded data removed]"
          },
          "metadata": {
            "needs_background": "light"
          }
        }
      ]
    },
    {
      "cell_type": "markdown",
      "source": [
        "Through the training process, the distribution changed as the model learned. Initially, it favored choosing position 2 and 6, and eventually settled with constantly choosing position 7 after around 60000 episodes. The most fluctuation was between choosing position 6 and 7 which began early on around episode 20000. By that point, the other positions were neglected and positions 6 and 7 were clearly favored by the agent."
      ],
      "metadata": {
        "id": "_hbYTBrKhc9f"
      }
    },
    {
      "cell_type": "markdown",
      "source": [
        "## Part 8: Limitations\n"
      ],
      "metadata": {
        "id": "QeXQB6Q7hu6l"
      }
    },
    {
      "cell_type": "markdown",
      "source": [
        "A significant limitation of the agent is how it consistently chooses position 7 as the starting position. As such, if the opponent takes the optimal middle position, the agent will have a difficult time winning since it will not be able to secure any diagonals, or a vertical/horizontal win with the middle position. The agent also tends to choose a position in the same row as the opponents previous move. This is indicative of the agent valuing blocking opponents possible horizontal wins over vertical or diagonals. As such, the agent does not consistently win since the opponent is randomized. Moreover, the agent does not seem to have an understanding of diagonal wins. Since the starting position is always bottom left at 7, a person would try and go for the middle position and upper right to secure a diagonal win. From the games printed, the agent values blocking an opponent horizontally over securing the diagonal."
      ],
      "metadata": {
        "id": "Cgm6i47BNQVY"
      }
    }
  ]
}