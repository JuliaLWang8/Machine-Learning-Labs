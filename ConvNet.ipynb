{
 "cells": [
  {
   "cell_type": "markdown",
   "metadata": {
    "id": "oz9MhPEUMrkC"
   },
   "source": [
    "# Designing and Tuning a Convolutional Neural Network (CNN)\n",
    "Submitted by: Julia L. Wang\n",
    "\n",
    "## **Initialization**"
   ]
  },
  {
   "cell_type": "code",
   "execution_count": 1,
   "metadata": {
    "colab": {
     "base_uri": "https://localhost:8080/",
     "height": 0
    },
    "id": "jHvVs2GqXxNF",
    "outputId": "4f0a129f-2ff3-4a70-a8d2-5d87b8ca3740"
   },
   "outputs": [
    {
     "name": "stdout",
     "output_type": "stream",
     "text": [
      "\u001b[?25l\r",
      "\u001b[K     |██████▌                         | 10 kB 14.1 MB/s eta 0:00:01\r",
      "\u001b[K     |█████████████                   | 20 kB 15.3 MB/s eta 0:00:01\r",
      "\u001b[K     |███████████████████▌            | 30 kB 15.8 MB/s eta 0:00:01\r",
      "\u001b[K     |██████████████████████████      | 40 kB 16.2 MB/s eta 0:00:01\r",
      "\u001b[K     |████████████████████████████████| 50 kB 2.9 MB/s \n",
      "\u001b[?25h  Building wheel for objax (setup.py) ... \u001b[?25l\u001b[?25hdone\n"
     ]
    }
   ],
   "source": [
    "#Install Objax\n",
    "!pip --quiet install  objax\n",
    "import objax"
   ]
  },
  {
   "cell_type": "code",
   "execution_count": 2,
   "metadata": {
    "id": "xqQf8f2RBDcx"
   },
   "outputs": [],
   "source": [
    "import tensorflow as tf \n",
    "import tensorflow_datasets as tfds\n",
    "import numpy as np\n",
    "import jax.numpy as jn\n",
    "import random \n",
    "import matplotlib.pyplot as plt"
   ]
  },
  {
   "cell_type": "markdown",
   "metadata": {
    "id": "w_7vcWRFO39r"
   },
   "source": [
    "## Part 1. Building a CNN\n",
    "\n",
    "Before we build our CNN model, let's first import a dataset. For our experiment, we load the CIFAR10 dataset from Tensorflow's dataset repository. The CIFAR10 dataset consists of 60,000 32x32 colour images in 10 classes, with 6000 images per class. The 10 different classes represent airplanes, cars, birds, cats, deer, dogs, frogs, horses, ships, and trucks.\n",
    "\n",
    "After loading the dataset, we split the dataset into training, validation and test set. The dataset is originally stored as 50,000 training examples and 10,000 test examples. Instead, we will combine them together and make our own split.\n",
    "\n",
    "Do not change split ratio for now."
   ]
  },
  {
   "cell_type": "code",
   "execution_count": 3,
   "metadata": {
    "colab": {
     "base_uri": "https://localhost:8080/",
     "height": 0
    },
    "id": "e5VQDzs1XodT",
    "outputId": "8dd46087-5e48-4e85-83b5-aad2696cc70f"
   },
   "outputs": [
    {
     "name": "stdout",
     "output_type": "stream",
     "text": [
      "Downloading data from https://www.cs.toronto.edu/~kriz/cifar-10-python.tar.gz\n",
      "170500096/170498071 [==============================] - 6s 0us/step\n",
      "170508288/170498071 [==============================] - 6s 0us/step\n"
     ]
    }
   ],
   "source": [
    "#.load_data() by default returns a split between training and test set. \n",
    "# We then adjust the training set into a format that can be accepted by our CNN\n",
    "(X_train, Y_train), (X_test, Y_test) = tf.keras.datasets.cifar10.load_data()\n",
    "X_train = X_train.transpose(0, 3, 1, 2) / 255.0\n",
    "Y_train = Y_train.flatten()\n",
    "X_test = X_test.transpose(0, 3, 1, 2) / 255.0\n",
    "Y_test = Y_test.flatten()\n",
    "\n",
    "np.random.seed(1)\n",
    "# To create a validation set, we first concate the original splitted dataset into a single dataset \n",
    "# then randomly shuffle the images and labels in the same way (seed = 1)\n",
    "X_data = np.concatenate([X_train, X_test], axis = 0)\n",
    "Y_data = np.concatenate([Y_train, Y_test], axis = 0)\n",
    "\n",
    "N = np.arange(len(X_data))\n",
    "np.random.shuffle(N)\n",
    "X_data = X_data[N]\n",
    "Y_data = Y_data[N]\n",
    "\n",
    "#Next, we partition the randomly shuffled dataset into training, validation and testset according a ratio\n",
    "train_ratio = 0.80\n",
    "valid_ratio = 0.1\n",
    "n_train = int(len(X_data) * train_ratio)\n",
    "n_valid = int(len(X_data) * valid_ratio)\n",
    "\n",
    "X_train, X_valid, X_test = X_data[:n_train], X_data[n_train:n_train+n_valid], X_data[n_train+n_valid:]\n",
    "Y_train, Y_valid, Y_test = Y_data[:n_train], Y_data[n_train:n_train+n_valid], Y_data[n_train+n_valid:]"
   ]
  },
  {
   "cell_type": "markdown",
   "metadata": {
    "id": "UPL4WNTnNceh"
   },
   "source": [
    "**Iterations to go through the entire training set:** \n",
    "\n",
    "$60000$ images $* 80%$ of them for training$ = 48 000$ images in the training set \n",
    "\n",
    "$\\frac{48 000}{32} = 1500$ iterations (32 training examples in each batch)\n",
    "\n",
    "**Iterations in 30 epochs:**\n",
    "\n",
    "$(1500$ iterations per epoch $)*(30$ epochs$) = 45000$ iterations"
   ]
  },
  {
   "cell_type": "markdown",
   "metadata": {
    "id": "szDmexFGT7Qs"
   },
   "source": [
    "\n",
    "Next we will construct a **Base Model**, which in our case is a small CNN."
   ]
  },
  {
   "cell_type": "code",
   "execution_count": 10,
   "metadata": {
    "id": "_Eeh6jvfBV4p"
   },
   "outputs": [],
   "source": [
    "class ConvNet(objax.Module):\n",
    "  def __init__(self, number_of_channels = 3, number_of_classes = 10):\n",
    "    self.conv_1 = objax.nn.Sequential([objax.nn.Conv2D(number_of_channels, 16, 2), objax.functional.relu]) #channels\n",
    "    self.conv_2 = objax.nn.Sequential([objax.nn.Conv2D(16, 32, 2), objax.functional.relu]) \n",
    "    self.linear = objax.nn.Linear(32, number_of_classes)\n",
    "\n",
    "  def __call__(self, x): #forward pass \n",
    "    x = objax.functional.max_pool_2d(self.conv_1(x), 2, 2)\n",
    "    x = self.conv_2(x)\n",
    "  \n",
    "    x = x.mean((2,3)) #<--- global average pooling \n",
    "    x = self.linear(x) #fully connected layer\n",
    "    return x\n",
    "\n",
    "#The following line creates the CNN\n",
    "model = ConvNet()\n",
    "#You can examine the architecture of our CNN by calling model.vars()"
   ]
  },
  {
   "cell_type": "markdown",
   "metadata": {
    "id": "Crz2dQZBds89"
   },
   "source": [
    "Before we train our conv net, let's try to better understand concepts of convolution filter and linear layer. In the following, you will take the first very image of the training set, create a simple convolution routine, and show that our own routine matches what Objax returns. \n",
    "\n"
   ]
  },
  {
   "cell_type": "code",
   "execution_count": 4,
   "metadata": {
    "colab": {
     "base_uri": "https://localhost:8080/",
     "height": 285
    },
    "id": "Epa7ETf6XddH",
    "outputId": "5f29dc29-455c-4b08-e899-8ca835cc29c5"
   },
   "outputs": [
    {
     "data": {
      "text/plain": [
       "<matplotlib.image.AxesImage at 0x7f09a29730d0>"
      ]
     },
     "execution_count": 4,
     "metadata": {},
     "output_type": "execute_result"
    },
    {
     "data": {
      "image/png": "[encoded data removed]",
      "text/plain": [
       "<Figure size 432x288 with 1 Axes>"
      ]
     },
     "metadata": {
      "needs_background": "light"
     },
     "output_type": "display_data"
    }
   ],
   "source": [
    "#Let's plot the first image in the training set.\n",
    "plt.imshow(X_train[0].transpose(1,2,0))"
   ]
  },
  {
   "cell_type": "markdown",
   "metadata": {
    "id": "PQjS06vgXZ7r"
   },
   "source": [
    "Next, we will pass our image through Objax's convolution routine. Carefully examine the following code and try to understand the dimension of the filter weights and the output. "
   ]
  },
  {
   "cell_type": "code",
   "execution_count": 5,
   "metadata": {
    "colab": {
     "base_uri": "https://localhost:8080/",
     "height": 0
    },
    "id": "vFBbJHBpXXUc",
    "outputId": "aaac60ef-bed4-4dce-8b31-ec6c44aaaf12"
   },
   "outputs": [
    {
     "name": "stdout",
     "output_type": "stream",
     "text": [
      "Filter weights: [[[[-0.8418886  -1.1818614 ]\n",
      "   [-0.82231194  0.6745815 ]\n",
      "   [-0.5633994  -0.7343026 ]]]]\n",
      "Conv output: [[[[-0.23758714 -0.22885145 -0.20043497 ... -1.4829187  -1.4587424\n",
      "    -1.4488126 ]\n",
      "   [-0.324944   -0.2780408  -0.28779182 ... -1.5462024  -1.5318023\n",
      "    -1.5230666 ]\n",
      "   [-0.33367968 -0.28126556 -0.33147028 ... -1.5865554  -1.5732725\n",
      "    -1.5559031 ]\n",
      "   ...\n",
      "   [-0.38437018 -0.3668988  -0.3668988  ... -0.528536   -0.53727174\n",
      "    -0.56347877]\n",
      "   [-0.3232204  -0.30574903 -0.30574903 ... -0.58095014 -0.5722145\n",
      "    -0.5722145 ]\n",
      "   [-0.28827766 -0.27954197 -0.28827766 ... -0.7032498  -0.6945141\n",
      "    -0.66830707]]\n",
      "\n",
      "  [[-0.09129092 -0.08642197 -0.06893551 ... -0.67755294 -0.651896\n",
      "    -0.6386224 ]\n",
      "   [-0.13998045 -0.1182811  -0.11762501 ... -0.7164072  -0.6894635\n",
      "    -0.6845946 ]\n",
      "   [-0.14484939 -0.11563568 -0.14196977 ... -0.74591994 -0.72010076\n",
      "    -0.7170124 ]\n",
      "   ...\n",
      "   [-0.21423385 -0.20449594 -0.20449594 ... -0.30769905 -0.312568\n",
      "    -0.32717484]\n",
      "   [-0.1801512  -0.17041329 -0.17041329 ... -0.33691275 -0.33204383\n",
      "    -0.33204383]\n",
      "   [-0.16067539 -0.15580644 -0.16067539 ... -0.40507805 -0.40020913\n",
      "    -0.38560227]]]]\n",
      "Conv output shape: (1, 2, 32, 32)\n"
     ]
    }
   ],
   "source": [
    "# We append the first image with a batch size of 1 so it can be fed into a convolution layer\n",
    "my_image = np.expand_dims(X_train[0], 0)\n",
    "\n",
    "#Consider a very simple CNN filter with stride = 1 and no padding ('VALID').\n",
    "Conv2d = objax.nn.Conv2D(nin = 3, nout = 2, k = 1, strides = 1, padding = 'VALID', use_bias = False)\n",
    "\n",
    "filter_weights = Conv2d.w.value #This is the initial weight of the filter, which we gradually update when training, we ignore bias for now\n",
    "\n",
    "print(\"Filter weights:\", filter_weights)\n",
    "print(\"Conv output:\", Conv2d(my_image))\n",
    "print(\"Conv output shape:\", np.shape(Conv2d(my_image)))\n"
   ]
  },
  {
   "cell_type": "markdown",
   "metadata": {
    "id": "KsDg8yateSuH"
   },
   "source": [
    "Showing that coding a convolution from scratch that takes in the original image and initial weights used by Objax's convolution (Conv2d.w.value). "
   ]
  },
  {
   "cell_type": "code",
   "execution_count": 6,
   "metadata": {
    "colab": {
     "base_uri": "https://localhost:8080/",
     "height": 0
    },
    "id": "f5B6K9gyXTAx",
    "outputId": "ce94c506-c47f-4883-d6e5-0c265e15be14"
   },
   "outputs": [
    {
     "name": "stdout",
     "output_type": "stream",
     "text": [
      "Filter weights: [[[[-0.8418886  -1.1818614 ]\n",
      "   [-0.82231194  0.6745815 ]\n",
      "   [-0.5633994  -0.7343026 ]]]]\n",
      "Conv output: [[[[-0.23758712 -0.22885144 -0.20043497 ... -1.48291872 -1.45874235\n",
      "    -1.4488126 ]\n",
      "   [-0.32494398 -0.2780408  -0.28779183 ... -1.5462024  -1.53180223\n",
      "    -1.52306655]\n",
      "   [-0.33367967 -0.28126555 -0.33147026 ... -1.58655535 -1.57327249\n",
      "    -1.55590306]\n",
      "   ...\n",
      "   [-0.38437018 -0.36689881 -0.36689881 ... -0.52853603 -0.53727171\n",
      "    -0.56347877]\n",
      "   [-0.32322038 -0.30574901 -0.30574901 ... -0.58095014 -0.57221446\n",
      "    -0.57221446]\n",
      "   [-0.28827764 -0.27954195 -0.28827764 ... -0.70324975 -0.69451406\n",
      "    -0.668307  ]]\n",
      "\n",
      "  [[-0.09129093 -0.08642198 -0.06893551 ... -0.67755295 -0.65189602\n",
      "    -0.63862242]\n",
      "   [-0.13998043 -0.1182811  -0.11762501 ... -0.71640716 -0.68946351\n",
      "    -0.68459456]\n",
      "   [-0.14484939 -0.11563568 -0.14196977 ... -0.74591992 -0.72010075\n",
      "    -0.71701237]\n",
      "   ...\n",
      "   [-0.21423384 -0.20449593 -0.20449593 ... -0.30769904 -0.31256799\n",
      "    -0.32717484]\n",
      "   [-0.18015118 -0.17041328 -0.17041328 ... -0.33691275 -0.3320438\n",
      "    -0.3320438 ]\n",
      "   [-0.16067538 -0.15580643 -0.16067538 ... -0.40507806 -0.40020911\n",
      "    -0.38560225]]]]\n",
      "Conv output shape: (1, 2, 32, 32)\n"
     ]
    }
   ],
   "source": [
    "## 1.2 My convolution\n",
    "\n",
    "def my_conv_net(my_image, initial_filter_weights):\n",
    "  ## my_image: 1x3x32x32 numpy array representing a 32x32 RGB image with batch size  of 1\n",
    "  ## initial_filter_weights: 3x2 numpy array representing weights of the filter\n",
    "\n",
    "  k = 1 #kernel size is 1 therefore can directly encode it into the loops as 0s\n",
    "  c_in = 3 # channel input size\n",
    "  c_out = 2 # channel output size\n",
    "\n",
    "  conv_output = np.zeros((1, c_out , my_image.shape[2], my_image.shape[3])) # initialize output\n",
    "  for c in range(c_out): # for each 1 of the 2 channels\n",
    "    for t in range(c_in): # for each 3 inputs\n",
    "      for i in range(my_image.shape[2]): # kernel is 1x1 in this case\n",
    "        for j in range(my_image.shape[3]):\n",
    "          # adding multiplications of the image with the initial filter weights\n",
    "          conv_output[0][c][i][j] += np.multiply(my_image[0][t][i][j], initial_filter_weights[0][0][t][c])\n",
    "  return conv_output\n",
    "\n",
    "Conv2d = my_conv_net(my_image, filter_weights)\n",
    "print(\"Filter weights:\", filter_weights)\n",
    "print(\"Conv output:\", Conv2d)\n",
    "print(\"Conv output shape:\", np.shape(Conv2d))"
   ]
  },
  {
   "cell_type": "markdown",
   "metadata": {
    "id": "d9dbovOwiVDE"
   },
   "source": [
    "The outputs of last convolution layer is typically rearranged so it can be fed into a linear layer. Check that calling .mean((2,3)) rearranges the output of your convolution routine by examining the shape of the output. (Not graded) Think about alternative ways of rearranging the output from the convolution layer. "
   ]
  },
  {
   "cell_type": "code",
   "execution_count": 7,
   "metadata": {
    "colab": {
     "base_uri": "https://localhost:8080/",
     "height": 0
    },
    "id": "q7hngIUNXIMQ",
    "outputId": "2e92ba3e-4f13-4153-9530-2a11976f2d02"
   },
   "outputs": [
    {
     "name": "stdout",
     "output_type": "stream",
     "text": [
      "[[-0.66391743 -0.40267415]]\n"
     ]
    }
   ],
   "source": [
    "#Check that .mean((2,3)) rearranges your image\n",
    "rearranged = Conv2d.mean((2,3))\n",
    "print(rearranged)"
   ]
  },
  {
   "cell_type": "markdown",
   "metadata": {
    "id": "xTWfvL0mis3D"
   },
   "source": [
    "Feeding the rearranged output into a linear layer of appropriate size.\n",
    "Using these values, write one line of code that manually implements the linear layer. Show that it provides the same value as Objax's own linear layer.\n",
    "\n"
   ]
  },
  {
   "cell_type": "code",
   "execution_count": 8,
   "metadata": {
    "colab": {
     "base_uri": "https://localhost:8080/",
     "height": 0
    },
    "id": "Uq-TkFpgXDC7",
    "outputId": "d460c5fb-a820-497e-e966-630414b3672b"
   },
   "outputs": [
    {
     "name": "stdout",
     "output_type": "stream",
     "text": [
      "Objax's linear layer is:  [[0.01135264]]\n",
      "w value is: [[ 0.00710924]\n",
      " [-0.03991463]]\n",
      "b value is: [0.]\n",
      "My linear layer is:  [[0.01135264]]\n",
      "My linear layer gives the same output as Objax's\n"
     ]
    }
   ],
   "source": [
    "## Objax's linear layer output\n",
    "lin_layer = objax.nn.Linear(2, 1)\n",
    "Y = lin_layer(rearranged)\n",
    "w = lin_layer.w.value\n",
    "b = lin_layer.b.value\n",
    "\n",
    "print('Objax\\'s linear layer is: ', Y)\n",
    "print('w value is:', w)\n",
    "print('b value is:', b)\n",
    "\n",
    "## 1.3 my linear layer implementation\n",
    "my_lin_layer = np.dot(rearranged, w) + b\n",
    "print('My linear layer is: ', my_lin_layer)\n",
    "print('My linear layer gives the same output as Objax\\'s')"
   ]
  },
  {
   "cell_type": "markdown",
   "metadata": {
    "id": "2kqaH75UUaSE"
   },
   "source": [
    "## Part 2. Training and Tuning a CNN\n",
    "\n",
    "The following starter code trains the neural network in Part 1. However, the optimizer and batch sampling routine are left for you to implement. \n",
    "\n",
    "Afterwards, train the model, and observe the training/validation loss and accuracy plots. You should observe that the validation accuracy is low and stagnates after a few epochs."
   ]
  },
  {
   "cell_type": "markdown",
   "metadata": {
    "id": "VNpQiAnUEu7P"
   },
   "source": [
    "### Difference between training and validation set\n",
    "We use the training set to train our parameters like weights and bias for the model, whereas the validation set is used to tune the hyperparameters of our model given the parameters which were converged to by the training set. The validation set is necessary as we want to be able to get the optimal generalizability of the model, where validation allows us to pick the best hyperparameters to do so.\n",
    "\n",
    "A data set is therefore split into 3 sections, where the training and validation tune parameters and hyperparameters, and the test set measures generalizability of the model. \n"
   ]
  },
  {
   "cell_type": "markdown",
   "metadata": {
    "id": "8vd9dHW8J9LD"
   },
   "source": [
    "### Training"
   ]
  },
  {
   "cell_type": "code",
   "execution_count": 11,
   "metadata": {
    "id": "zBcHWoCl0URZ"
   },
   "outputs": [],
   "source": [
    "#Define loss function as averaged value of of cross entropies\n",
    "def loss_function(x, labels):\n",
    "    logit = model(x)\n",
    "    return objax.functional.loss.cross_entropy_logits_sparse(logit, labels).mean()\n",
    "\n",
    "#Define a prediction function\n",
    "predict = objax.Jit(lambda x: objax.functional.softmax(model(x)), model.vars()) \n",
    "\n",
    "#Create an object that can be used to calculate the gradient and value of loss_function\n",
    "gv= objax.GradValues(loss_function, model.vars())\n",
    "\n",
    "#Create an object that can be used to provide trainable variables in the model\n",
    "tv = objax.ModuleList(objax.TrainRef(x) for x in model.vars().subset(objax.TrainVar))\n",
    "\n",
    "#Training routine\n",
    "def train_op(x, y, learning_rate):\n",
    "    lr = learning_rate\n",
    "    gradient, loss_value = gv(x, y)   # calculate gradient and loss value \"backprop\"\n",
    "    #next we update the trainable parameter using SGD and similar procedure\n",
    "    for grad, params in zip(gradient, tv.vars()):\n",
    "      params.value -= lr*grad ## 2.1 <------------------------------------------------------------------------\n",
    "     \n",
    "    return loss_value # return loss value\n",
    "\n",
    "#make train_op (much) faster using JIT compilation\n",
    "train_op = objax.Jit(train_op, gv.vars() + tv.vars())"
   ]
  },
  {
   "cell_type": "code",
   "execution_count": 12,
   "metadata": {
    "id": "hGPpVTfG0Ug1"
   },
   "outputs": [],
   "source": [
    "def train(EPOCHS = 20, BATCH = 32, LEARNING_RATE = 9e-4):\n",
    "  avg_train_loss_epoch = []\n",
    "  avg_val_loss_epoch = []\n",
    "  train_acc_epoch = []\n",
    "  val_acc_epoch = []\n",
    "\n",
    "  for epoch in range(EPOCHS):\n",
    "      avg_train_loss = 0 # (averaged) training loss per batch\n",
    "      avg_val_loss =  0  # (averaged) validation loss per batch\n",
    "      train_acc = 0      # training accuracy per batch\n",
    "      val_acc = 0        # validation accuracy per batch\n",
    "\n",
    "      # shuffle the examples prior to training to remove correlation \n",
    "      train_indices = np.arange(len(X_train)) \n",
    "      np.random.shuffle(train_indices)\n",
    "      for it in range(0, X_train.shape[0], BATCH):\n",
    "          batch = train_indices[it: it+BATCH] ## 2.2 <------------------------------------------------------------------\n",
    "          avg_train_loss += float(train_op(X_train[batch], Y_train[batch], LEARNING_RATE)[0]) * len(batch)\n",
    "          train_prediction = predict(X_train[batch]).argmax(1)\n",
    "          train_acc += (np.array(train_prediction).flatten() == Y_train[batch]).sum()\n",
    "      train_acc_epoch.append(train_acc/X_train.shape[0])\n",
    "      avg_train_loss_epoch.append(avg_train_loss/X_train.shape[0])\n",
    "\n",
    "      # run validation\n",
    "      val_indices = np.arange(len(X_valid)) \n",
    "      np.random.shuffle(val_indices)    \n",
    "      for it in range(0, X_valid.shape[0], BATCH):\n",
    "          batch = val_indices[it: it+BATCH] ## 2.2 <--------------------------------------------------------------------\n",
    "          avg_val_loss += float(loss_function(X_valid[batch], Y_valid[batch])) * len(batch)\n",
    "          val_prediction = predict(X_valid[batch]).argmax(1)\n",
    "          val_acc += (np.array(val_prediction).flatten() == Y_valid[batch]).sum()\n",
    "      val_acc_epoch.append(val_acc/X_valid.shape[0])\n",
    "      avg_val_loss_epoch.append(avg_val_loss/X_valid.shape[0])\n",
    "\n",
    "      print('Epoch %04d  Training Loss %.2f Validation Loss %.2f Training Accuracy %.2f Validation Accuracy %.2f' % (epoch + 1, avg_train_loss/X_train.shape[0], avg_val_loss/X_valid.shape[0], 100*train_acc/X_train.shape[0], 100*val_acc/X_valid.shape[0]))\n",
    "  \n",
    "  #Plot training loss\n",
    "  plt.title(\"Train vs Validation Loss\")\n",
    "  plt.plot(avg_train_loss_epoch,color='blue', label=\"Train\")\n",
    "  plt.plot(avg_val_loss_epoch, color='m', label=\"Validation\")\n",
    "  plt.xlabel(\"Epoch\")\n",
    "  plt.ylabel(\"Loss\")\n",
    "  plt.legend(loc='best')\n",
    "  plt.show()\n",
    "\n",
    "  plt.title(\"Train vs Validation Accuracy\")\n",
    "  plt.plot(train_acc_epoch, color = 'blue', label=\"Train\")\n",
    "  plt.plot(val_acc_epoch, color='m', label=\"Validation\")\n",
    "  plt.xlabel(\"Epoch\")\n",
    "  plt.ylabel(\"Accuracy (%)\")\n",
    "  plt.legend(loc='best')\n",
    "  plt.show()"
   ]
  },
  {
   "cell_type": "code",
   "execution_count": null,
   "metadata": {
    "colab": {
     "base_uri": "https://localhost:8080/",
     "height": 938
    },
    "id": "8YqWtV5VYW45",
    "outputId": "26ff76fa-e590-4c5e-c1f2-bdb1839141d7"
   },
   "outputs": [
    {
     "name": "stdout",
     "output_type": "stream",
     "text": [
      "Epoch 0001  Training Loss 2.32 Validation Loss 2.31 Training Accuracy 10.34 Validation Accuracy 10.50\n",
      "Epoch 0002  Training Loss 2.30 Validation Loss 2.30 Training Accuracy 10.42 Validation Accuracy 10.88\n",
      "Epoch 0003  Training Loss 2.30 Validation Loss 2.30 Training Accuracy 11.07 Validation Accuracy 11.63\n",
      "Epoch 0004  Training Loss 2.30 Validation Loss 2.30 Training Accuracy 11.89 Validation Accuracy 12.77\n",
      "Epoch 0005  Training Loss 2.29 Validation Loss 2.29 Training Accuracy 13.26 Validation Accuracy 12.58\n",
      "Epoch 0006  Training Loss 2.29 Validation Loss 2.29 Training Accuracy 12.76 Validation Accuracy 12.73\n",
      "Epoch 0007  Training Loss 2.29 Validation Loss 2.29 Training Accuracy 12.84 Validation Accuracy 13.08\n",
      "Epoch 0008  Training Loss 2.28 Validation Loss 2.28 Training Accuracy 12.90 Validation Accuracy 14.18\n",
      "Epoch 0009  Training Loss 2.28 Validation Loss 2.28 Training Accuracy 13.39 Validation Accuracy 14.18\n",
      "Epoch 0010  Training Loss 2.28 Validation Loss 2.27 Training Accuracy 13.94 Validation Accuracy 14.45\n",
      "Epoch 0011  Training Loss 2.27 Validation Loss 2.27 Training Accuracy 14.16 Validation Accuracy 14.63\n",
      "Epoch 0012  Training Loss 2.27 Validation Loss 2.26 Training Accuracy 14.46 Validation Accuracy 14.50\n",
      "Epoch 0013  Training Loss 2.26 Validation Loss 2.26 Training Accuracy 14.62 Validation Accuracy 15.27\n",
      "Epoch 0014  Training Loss 2.26 Validation Loss 2.25 Training Accuracy 15.05 Validation Accuracy 15.67\n",
      "Epoch 0015  Training Loss 2.25 Validation Loss 2.25 Training Accuracy 15.45 Validation Accuracy 15.72\n",
      "Epoch 0016  Training Loss 2.24 Validation Loss 2.24 Training Accuracy 15.84 Validation Accuracy 16.18\n",
      "Epoch 0017  Training Loss 2.23 Validation Loss 2.23 Training Accuracy 16.40 Validation Accuracy 16.18\n",
      "Epoch 0018  Training Loss 2.22 Validation Loss 2.22 Training Accuracy 16.46 Validation Accuracy 16.97\n",
      "Epoch 0019  Training Loss 2.21 Validation Loss 2.21 Training Accuracy 17.16 Validation Accuracy 18.07\n",
      "Epoch 0020  Training Loss 2.20 Validation Loss 2.20 Training Accuracy 18.11 Validation Accuracy 18.48\n"
     ]
    },
    {
     "data": {
      "image/png": "[encoded data removed]",
      "text/plain": [
       "<Figure size 432x288 with 1 Axes>"
      ]
     },
     "metadata": {
      "needs_background": "light"
     },
     "output_type": "display_data"
    },
    {
     "data": {
      "image/png": "[encoded data removed]",
      "text/plain": [
       "<Figure size 432x288 with 1 Axes>"
      ]
     },
     "metadata": {
      "needs_background": "light"
     },
     "output_type": "display_data"
    }
   ],
   "source": [
    "train()"
   ]
  },
  {
   "cell_type": "markdown",
   "metadata": {
    "id": "hluN6UIbNyj7"
   },
   "source": [
    "### Hyperparameters\n",
    "A hyperparameter is a parameter you cannot adjust or include within the training of the model, where they are tuned by the validation set after training.\n",
    "\n",
    "Importance of tuning hyperparameters:\n",
    "Tuning hyperparameters using a validation set allows the model to have the most optimal set of hyperparameters to minimize the loss function. Thus, hyperparameters control the behavior of the model and significantly influence the final results when we run the model on a test set. If we do not tune the hyperparameters, we are not ensuring the most optimal results when we run the model with the test set. "
   ]
  },
  {
   "cell_type": "markdown",
   "metadata": {
    "id": "4O2bDZaFPdWH"
   },
   "source": [
    "### Selecting Hyperparameters\n",
    "\n",
    "I have chosen the 4 parameters to be \n",
    "$H =$ {batch size, learning rate, epochs, k} where kernels change the CNN architecture.\n",
    "\n",
    "*   Base Model: {32, 0.0009, 20, 2}\n",
    "*   $H_1 =$ {64, 0.005, 30, 4}\n",
    "*   $H_2 = ${16, 0.01, 25, 6}\n",
    "\n",
    "\n"
   ]
  },
  {
   "cell_type": "markdown",
   "metadata": {
    "id": "25zS_mehVsFT"
   },
   "source": [
    "### 2 New Models\n"
   ]
  },
  {
   "cell_type": "markdown",
   "metadata": {
    "id": "uiTvqTwa83xc"
   },
   "source": [
    "#### Model 1"
   ]
  },
  {
   "cell_type": "code",
   "execution_count": null,
   "metadata": {
    "id": "Sm3hAsDyV2rI"
   },
   "outputs": [],
   "source": [
    "## 2.6 First model with hyperparameters H1\n",
    "class ConvNet1(objax.Module):\n",
    "  def __init__(self, number_of_channels = 3, number_of_classes = 10):\n",
    "    self.conv_1 = objax.nn.Sequential([objax.nn.Conv2D(number_of_channels, 16, 4), objax.functional.relu]) # changed k=4\n",
    "    self.conv_2 = objax.nn.Sequential([objax.nn.Conv2D(16, 32, 4), objax.functional.relu]) # changed k=4\n",
    "    self.linear = objax.nn.Linear(32, number_of_classes)\n",
    "\n",
    "  def __call__(self, x): #forward pass \n",
    "    x = objax.functional.max_pool_2d(self.conv_1(x), 2, 2) # convolution then max pooling layer\n",
    "    x = self.conv_2(x) \n",
    "  \n",
    "    x = x.mean((2,3)) # global average pooling s\n",
    "    x = self.linear(x) # fully connected layer\n",
    "    return x\n",
    "\n",
    "#Create the CNN\n",
    "model_1 = ConvNet1()"
   ]
  },
  {
   "cell_type": "code",
   "execution_count": null,
   "metadata": {
    "id": "FFnKwZJiXXQo"
   },
   "outputs": [],
   "source": [
    "#Define loss function as averaged value of of cross entropies\n",
    "def loss_function(x, labels):\n",
    "    logit = model_1(x)\n",
    "    return objax.functional.loss.cross_entropy_logits_sparse(logit, labels).mean()\n",
    "\n",
    "#Define a prediction function\n",
    "predict = objax.Jit(lambda x: objax.functional.softmax(model_1(x)), model_1.vars()) \n",
    "\n",
    "#Create an object that can be used to calculate the gradient and value of loss_function\n",
    "gv= objax.GradValues(loss_function, model_1.vars())\n",
    "\n",
    "#Create an object that can be used to provide trainable variables in the model\n",
    "tv = objax.ModuleList(objax.TrainRef(x) for x in model_1.vars().subset(objax.TrainVar))\n",
    "\n",
    "#Training routine\n",
    "def train_op(x, y, learning_rate):\n",
    "    lr = learning_rate\n",
    "    gradient, loss_value = gv(x, y)   # calculate gradient and loss value \"backprop\"\n",
    "    #next we update the trainable parameter using SGD and similar procedure\n",
    "    for grad, params in zip(gradient, tv.vars()):\n",
    "      params.value -= lr*grad ## 2.1\n",
    "     \n",
    "    return loss_value # return loss value\n",
    "\n",
    "#make train_op (much) faster using JIT compilation\n",
    "train_op = objax.Jit(train_op, gv.vars() + tv.vars())"
   ]
  },
  {
   "cell_type": "code",
   "execution_count": null,
   "metadata": {
    "id": "pI-L6OZw8liK"
   },
   "outputs": [],
   "source": [
    "def train1(EPOCHS = 20, BATCH = 32, LEARNING_RATE = 9e-4):\n",
    "  avg_train_loss_epoch = []\n",
    "  avg_val_loss_epoch = []\n",
    "  train_acc_epoch = []\n",
    "  val_acc_epoch = []\n",
    "\n",
    "  for epoch in range(EPOCHS):\n",
    "      avg_train_loss = 0 # (averaged) training loss per batch\n",
    "      avg_val_loss =  0  # (averaged) validation loss per batch\n",
    "      train_acc = 0      # training accuracy per batch\n",
    "      val_acc = 0        # validation accuracy per batch\n",
    "\n",
    "      # shuffle the examples prior to training to remove correlation \n",
    "      train_indices = np.arange(len(X_train)) \n",
    "      np.random.shuffle(train_indices)\n",
    "      for it in range(0, X_train.shape[0], BATCH):\n",
    "          batch = train_indices[it: it+BATCH] ## 2.2\n",
    "          avg_train_loss += float(train_op(X_train[batch], Y_train[batch], LEARNING_RATE)[0]) * len(batch)\n",
    "          train_prediction = predict(X_train[batch]).argmax(1)\n",
    "          train_acc += (np.array(train_prediction).flatten() == Y_train[batch]).sum()\n",
    "      train_acc_epoch.append(train_acc/X_train.shape[0])\n",
    "      avg_train_loss_epoch.append(avg_train_loss/X_train.shape[0])\n",
    "\n",
    "      # run validation\n",
    "      val_indices = np.arange(len(X_valid)) \n",
    "      np.random.shuffle(val_indices)    \n",
    "      for it in range(0, X_valid.shape[0], BATCH):\n",
    "          batch = val_indices[it: it+BATCH] ## 2.2\n",
    "          avg_val_loss += float(loss_function(X_valid[batch], Y_valid[batch])) * len(batch)\n",
    "          val_prediction = predict(X_valid[batch]).argmax(1)\n",
    "          val_acc += (np.array(val_prediction).flatten() == Y_valid[batch]).sum()\n",
    "      val_acc_epoch.append(val_acc/X_valid.shape[0])\n",
    "      avg_val_loss_epoch.append(avg_val_loss/X_valid.shape[0])\n",
    "\n",
    "      print('Epoch %04d  Training Loss %.2f Validation Loss %.2f Training Accuracy %.2f Validation Accuracy %.2f' % (epoch + 1, avg_train_loss/X_train.shape[0], avg_val_loss/X_valid.shape[0], 100*train_acc/X_train.shape[0], 100*val_acc/X_valid.shape[0]))\n",
    "  \n",
    "  #Plot training loss\n",
    "  plt.title(\"Train vs Validation Loss\")\n",
    "  plt.plot(avg_train_loss_epoch,color='blue', label=\"Train\")\n",
    "  plt.plot(avg_val_loss_epoch, color='m', label=\"Validation\")\n",
    "  plt.xlabel(\"Epoch\")\n",
    "  plt.ylabel(\"Loss\")\n",
    "  plt.legend(loc='best')\n",
    "  plt.show()\n",
    "\n",
    "  plt.title(\"Train vs Validation Accuracy\")\n",
    "  plt.plot(train_acc_epoch, color = 'blue', label=\"Train\")\n",
    "  plt.plot(val_acc_epoch, color='m', label=\"Validation\")\n",
    "  plt.xlabel(\"Epoch\")\n",
    "  plt.ylabel(\"Accuracy (%)\")\n",
    "  plt.legend(loc='best')\n",
    "  plt.show()"
   ]
  },
  {
   "cell_type": "code",
   "execution_count": null,
   "metadata": {
    "colab": {
     "base_uri": "https://localhost:8080/",
     "height": 1000
    },
    "id": "LeaOBWxyWecP",
    "outputId": "091e8c33-9911-4f55-e342-4e5c67c5e26d"
   },
   "outputs": [
    {
     "name": "stdout",
     "output_type": "stream",
     "text": [
      "Epoch 0001  Training Loss 2.30 Validation Loss 2.29 Training Accuracy 12.23 Validation Accuracy 12.45\n",
      "Epoch 0002  Training Loss 2.28 Validation Loss 2.27 Training Accuracy 14.90 Validation Accuracy 14.70\n",
      "Epoch 0003  Training Loss 2.25 Validation Loss 2.23 Training Accuracy 16.76 Validation Accuracy 17.03\n",
      "Epoch 0004  Training Loss 2.20 Validation Loss 2.16 Training Accuracy 19.75 Validation Accuracy 22.75\n",
      "Epoch 0005  Training Loss 2.13 Validation Loss 2.09 Training Accuracy 24.40 Validation Accuracy 25.50\n",
      "Epoch 0006  Training Loss 2.07 Validation Loss 2.05 Training Accuracy 26.44 Validation Accuracy 25.92\n",
      "Epoch 0007  Training Loss 2.03 Validation Loss 2.02 Training Accuracy 27.46 Validation Accuracy 28.07\n",
      "Epoch 0008  Training Loss 2.01 Validation Loss 1.99 Training Accuracy 28.52 Validation Accuracy 26.48\n",
      "Epoch 0009  Training Loss 1.98 Validation Loss 1.96 Training Accuracy 28.93 Validation Accuracy 29.17\n",
      "Epoch 0010  Training Loss 1.95 Validation Loss 1.94 Training Accuracy 30.10 Validation Accuracy 29.45\n",
      "Epoch 0011  Training Loss 1.93 Validation Loss 1.92 Training Accuracy 30.82 Validation Accuracy 28.15\n",
      "Epoch 0012  Training Loss 1.91 Validation Loss 1.90 Training Accuracy 31.28 Validation Accuracy 31.30\n",
      "Epoch 0013  Training Loss 1.89 Validation Loss 1.89 Training Accuracy 31.82 Validation Accuracy 31.55\n",
      "Epoch 0014  Training Loss 1.88 Validation Loss 1.87 Training Accuracy 32.42 Validation Accuracy 30.73\n",
      "Epoch 0015  Training Loss 1.87 Validation Loss 1.86 Training Accuracy 32.96 Validation Accuracy 30.95\n",
      "Epoch 0016  Training Loss 1.86 Validation Loss 1.85 Training Accuracy 33.25 Validation Accuracy 31.52\n",
      "Epoch 0017  Training Loss 1.85 Validation Loss 1.84 Training Accuracy 33.94 Validation Accuracy 33.22\n",
      "Epoch 0018  Training Loss 1.84 Validation Loss 1.83 Training Accuracy 34.19 Validation Accuracy 33.08\n",
      "Epoch 0019  Training Loss 1.82 Validation Loss 1.82 Training Accuracy 34.72 Validation Accuracy 33.00\n",
      "Epoch 0020  Training Loss 1.81 Validation Loss 1.81 Training Accuracy 35.24 Validation Accuracy 33.07\n",
      "Epoch 0021  Training Loss 1.80 Validation Loss 1.79 Training Accuracy 35.78 Validation Accuracy 34.82\n",
      "Epoch 0022  Training Loss 1.79 Validation Loss 1.78 Training Accuracy 36.29 Validation Accuracy 34.52\n",
      "Epoch 0023  Training Loss 1.78 Validation Loss 1.77 Training Accuracy 36.70 Validation Accuracy 35.53\n",
      "Epoch 0024  Training Loss 1.77 Validation Loss 1.76 Training Accuracy 36.93 Validation Accuracy 34.53\n",
      "Epoch 0025  Training Loss 1.75 Validation Loss 1.74 Training Accuracy 37.23 Validation Accuracy 36.83\n",
      "Epoch 0026  Training Loss 1.74 Validation Loss 1.74 Training Accuracy 37.60 Validation Accuracy 35.47\n",
      "Epoch 0027  Training Loss 1.73 Validation Loss 1.73 Training Accuracy 37.85 Validation Accuracy 36.47\n",
      "Epoch 0028  Training Loss 1.73 Validation Loss 1.72 Training Accuracy 38.30 Validation Accuracy 37.18\n",
      "Epoch 0029  Training Loss 1.72 Validation Loss 1.73 Training Accuracy 38.28 Validation Accuracy 34.75\n",
      "Epoch 0030  Training Loss 1.72 Validation Loss 1.72 Training Accuracy 38.56 Validation Accuracy 36.85\n"
     ]
    },
    {
     "data": {
      "image/png": "[encoded data removed]",
      "text/plain": [
       "<Figure size 432x288 with 1 Axes>"
      ]
     },
     "metadata": {
      "needs_background": "light"
     },
     "output_type": "display_data"
    },
    {
     "data": {
      "image/png": "[encoded data removed]",
      "text/plain": [
       "<Figure size 432x288 with 1 Axes>"
      ]
     },
     "metadata": {
      "needs_background": "light"
     },
     "output_type": "display_data"
    }
   ],
   "source": [
    "train1(EPOCHS=30, BATCH = 64, LEARNING_RATE = 0.005)"
   ]
  },
  {
   "cell_type": "markdown",
   "metadata": {
    "id": "Y50YBBdYXhLP"
   },
   "source": [
    "#### Model 2\n"
   ]
  },
  {
   "cell_type": "code",
   "execution_count": 13,
   "metadata": {
    "id": "uIuDGToaYD8Q"
   },
   "outputs": [],
   "source": [
    "class ConvNet2(objax.Module):\n",
    "  def __init__(self, number_of_channels = 3, number_of_classes = 10):\n",
    "    self.conv_1 = objax.nn.Sequential([objax.nn.Conv2D(number_of_channels, 16, 6), objax.functional.relu]) # changed k=6\n",
    "    self.conv_2 = objax.nn.Sequential([objax.nn.Conv2D(16, 32, 6), objax.functional.relu]) # changed k=6\n",
    "    self.linear = objax.nn.Linear(32, number_of_classes)\n",
    "\n",
    "  def __call__(self, x): #forward pass \n",
    "    x = objax.functional.max_pool_2d(self.conv_1(x), 2, 2) # convolution then max pooling layer\n",
    "    x = self.conv_2(x) # convolution - tanh function\n",
    "  \n",
    "    x = x.mean((2,3)) # global average pooling \n",
    "    x = self.linear(x) # fully connected layer\n",
    "    return x\n",
    "\n",
    "#create the CNN\n",
    "model_2 = ConvNet2()"
   ]
  },
  {
   "cell_type": "code",
   "execution_count": 14,
   "metadata": {
    "id": "lbqrDwqL8TCW"
   },
   "outputs": [],
   "source": [
    "#Define loss function as averaged value of of cross entropies\n",
    "def loss_function(x, labels):\n",
    "    logit = model_2(x)\n",
    "    return objax.functional.loss.cross_entropy_logits_sparse(logit, labels).mean()\n",
    "\n",
    "#Define a prediction function\n",
    "predict = objax.Jit(lambda x: objax.functional.softmax(model_2(x)), model_2.vars()) \n",
    "\n",
    "#Create an object that can be used to calculate the gradient and value of loss_function\n",
    "gv= objax.GradValues(loss_function, model_2.vars())\n",
    "\n",
    "#Create an object that can be used to provide trainable variables in the model\n",
    "tv = objax.ModuleList(objax.TrainRef(x) for x in model_2.vars().subset(objax.TrainVar))\n",
    "\n",
    "#Training routine\n",
    "def train_op(x, y, learning_rate):\n",
    "    lr = learning_rate\n",
    "    gradient, loss_value = gv(x, y)   # calculate gradient and loss value \"backprop\"\n",
    "    #next we update the trainable parameter using SGD and similar procedure\n",
    "    for grad, params in zip(gradient, tv.vars()):\n",
    "      params.value -= lr*grad ## 2.1\n",
    "     \n",
    "    return loss_value # return loss value\n",
    "\n",
    "#make train_op (much) faster using JIT compilation\n",
    "train_op = objax.Jit(train_op, gv.vars() + tv.vars())"
   ]
  },
  {
   "cell_type": "code",
   "execution_count": 15,
   "metadata": {
    "id": "Z13J6W7I8uaX"
   },
   "outputs": [],
   "source": [
    "def train2(EPOCHS=25, BATCH = 16, LEARNING_RATE = 0.01):\n",
    "  avg_train_loss_epoch = []\n",
    "  avg_val_loss_epoch = []\n",
    "  train_acc_epoch = []\n",
    "  val_acc_epoch = []\n",
    "\n",
    "  for epoch in range(EPOCHS):\n",
    "      avg_train_loss = 0 # (averaged) training loss per batch\n",
    "      avg_val_loss =  0  # (averaged) validation loss per batch\n",
    "      train_acc = 0      # training accuracy per batch\n",
    "      val_acc = 0        # validation accuracy per batch\n",
    "\n",
    "      # shuffle the examples prior to training to remove correlation \n",
    "      train_indices = np.arange(len(X_train)) \n",
    "      np.random.shuffle(train_indices)\n",
    "      for it in range(0, X_train.shape[0], BATCH):\n",
    "          batch = train_indices[it: it+BATCH] ## 2.2\n",
    "          avg_train_loss += float(train_op(X_train[batch], Y_train[batch], LEARNING_RATE)[0]) * len(batch)\n",
    "          train_prediction = predict(X_train[batch]).argmax(1)\n",
    "          train_acc += (np.array(train_prediction).flatten() == Y_train[batch]).sum()\n",
    "      train_acc_epoch.append(train_acc/X_train.shape[0])\n",
    "      avg_train_loss_epoch.append(avg_train_loss/X_train.shape[0])\n",
    "\n",
    "      # run validation\n",
    "      val_indices = np.arange(len(X_valid)) \n",
    "      np.random.shuffle(val_indices)    \n",
    "      for it in range(0, X_valid.shape[0], BATCH):\n",
    "          batch = val_indices[it: it+BATCH] ## 2.2\n",
    "          avg_val_loss += float(loss_function(X_valid[batch], Y_valid[batch])) * len(batch)\n",
    "          val_prediction = predict(X_valid[batch]).argmax(1)\n",
    "          val_acc += (np.array(val_prediction).flatten() == Y_valid[batch]).sum()\n",
    "      val_acc_epoch.append(val_acc/X_valid.shape[0])\n",
    "      avg_val_loss_epoch.append(avg_val_loss/X_valid.shape[0])\n",
    "\n",
    "      print('Epoch %04d  Training Loss %.2f Validation Loss %.2f Training Accuracy %.2f Validation Accuracy %.2f' % (epoch + 1, avg_train_loss/X_train.shape[0], avg_val_loss/X_valid.shape[0], 100*train_acc/X_train.shape[0], 100*val_acc/X_valid.shape[0]))\n",
    "  \n",
    "  #Plot training loss\n",
    "  plt.title(\"Train vs Validation Loss\")\n",
    "  plt.plot(avg_train_loss_epoch,color='blue', label=\"Train\")\n",
    "  plt.plot(avg_val_loss_epoch, color='m', label=\"Validation\")\n",
    "  plt.xlabel(\"Epoch\")\n",
    "  plt.ylabel(\"Loss\")\n",
    "  plt.legend(loc='best')\n",
    "  plt.show()\n",
    "\n",
    "  plt.title(\"Train vs Validation Accuracy\")\n",
    "  plt.plot(train_acc_epoch, color = 'blue', label=\"Train\")\n",
    "  plt.plot(val_acc_epoch, color='m', label=\"Validation\")\n",
    "  plt.xlabel(\"Epoch\")\n",
    "  plt.ylabel(\"Accuracy (%)\")\n",
    "  plt.legend(loc='best')\n",
    "  plt.show()"
   ]
  },
  {
   "cell_type": "code",
   "execution_count": 16,
   "metadata": {
    "colab": {
     "base_uri": "https://localhost:8080/",
     "height": 1030
    },
    "id": "c4dhsjJ1YQ5X",
    "outputId": "d502c829-39db-4551-d0c4-105ada95bd6f"
   },
   "outputs": [
    {
     "name": "stdout",
     "output_type": "stream",
     "text": [
      "Epoch 0001  Training Loss 2.07 Validation Loss 1.88 Training Accuracy 28.24 Validation Accuracy 31.62\n",
      "Epoch 0002  Training Loss 1.87 Validation Loss 1.82 Training Accuracy 37.29 Validation Accuracy 31.42\n",
      "Epoch 0003  Training Loss 1.76 Validation Loss 1.74 Training Accuracy 41.69 Validation Accuracy 32.70\n",
      "Epoch 0004  Training Loss 1.69 Validation Loss 1.66 Training Accuracy 44.32 Validation Accuracy 38.07\n",
      "Epoch 0005  Training Loss 1.64 Validation Loss 1.64 Training Accuracy 45.86 Validation Accuracy 38.72\n",
      "Epoch 0006  Training Loss 1.60 Validation Loss 1.58 Training Accuracy 47.64 Validation Accuracy 42.53\n",
      "Epoch 0007  Training Loss 1.56 Validation Loss 1.51 Training Accuracy 49.29 Validation Accuracy 44.67\n",
      "Epoch 0008  Training Loss 1.53 Validation Loss 1.49 Training Accuracy 50.85 Validation Accuracy 44.10\n",
      "Epoch 0009  Training Loss 1.49 Validation Loss 1.45 Training Accuracy 52.21 Validation Accuracy 47.43\n",
      "Epoch 0010  Training Loss 1.46 Validation Loss 1.48 Training Accuracy 53.65 Validation Accuracy 45.85\n",
      "Epoch 0011  Training Loss 1.44 Validation Loss 1.40 Training Accuracy 54.78 Validation Accuracy 50.15\n",
      "Epoch 0012  Training Loss 1.41 Validation Loss 1.40 Training Accuracy 55.92 Validation Accuracy 49.30\n",
      "Epoch 0013  Training Loss 1.38 Validation Loss 1.37 Training Accuracy 57.06 Validation Accuracy 51.08\n",
      "Epoch 0014  Training Loss 1.36 Validation Loss 1.40 Training Accuracy 58.09 Validation Accuracy 50.70\n",
      "Epoch 0015  Training Loss 1.34 Validation Loss 1.32 Training Accuracy 58.77 Validation Accuracy 52.85\n",
      "Epoch 0016  Training Loss 1.32 Validation Loss 1.33 Training Accuracy 59.62 Validation Accuracy 51.97\n",
      "Epoch 0017  Training Loss 1.30 Validation Loss 1.41 Training Accuracy 60.27 Validation Accuracy 50.15\n",
      "Epoch 0018  Training Loss 1.29 Validation Loss 1.30 Training Accuracy 60.91 Validation Accuracy 52.07\n",
      "Epoch 0019  Training Loss 1.27 Validation Loss 1.29 Training Accuracy 61.42 Validation Accuracy 54.03\n",
      "Epoch 0020  Training Loss 1.26 Validation Loss 1.24 Training Accuracy 62.02 Validation Accuracy 55.45\n",
      "Epoch 0021  Training Loss 1.25 Validation Loss 1.30 Training Accuracy 62.62 Validation Accuracy 53.63\n",
      "Epoch 0022  Training Loss 1.23 Validation Loss 1.23 Training Accuracy 62.89 Validation Accuracy 55.88\n",
      "Epoch 0023  Training Loss 1.22 Validation Loss 1.22 Training Accuracy 63.30 Validation Accuracy 56.33\n",
      "Epoch 0024  Training Loss 1.21 Validation Loss 1.27 Training Accuracy 64.09 Validation Accuracy 53.78\n",
      "Epoch 0025  Training Loss 1.20 Validation Loss 1.22 Training Accuracy 64.18 Validation Accuracy 55.38\n"
     ]
    },
    {
     "data": {
      "image/png": "[encoded data removed]",
      "text/plain": [
       "<Figure size 432x288 with 1 Axes>"
      ]
     },
     "metadata": {
      "needs_background": "light"
     },
     "output_type": "display_data"
    },
    {
     "data": {
      "image/png": "[encoded data removed]",
      "text/plain": [
       "<Figure size 432x288 with 1 Axes>"
      ]
     },
     "metadata": {
      "needs_background": "light"
     },
     "output_type": "display_data"
    }
   ],
   "source": [
    "train2(EPOCHS=25, BATCH = 16, LEARNING_RATE = 0.01)"
   ]
  },
  {
   "cell_type": "markdown",
   "metadata": {
    "id": "-p9h5tBDEnJ2"
   },
   "source": [
    "### Validation Accuracy\n",
    "\n",
    "*   Base model: 18.48% at epoch 20\n",
    "*   Model 1: 37.18% at epoch 28\n",
    "*   Model 2: 56.33% at epoch 23\n",
    "\n",
    "The model to pick as the final model is Model 2 as it demonstrated the highest validation accuracy. This means that Model 2 performs better than Model 1 when compared to the predictions."
   ]
  },
  {
   "cell_type": "markdown",
   "metadata": {
    "id": "lTjwCNhwFxNw"
   },
   "source": [
    "### Testing the CNN\n",
    "\n",
    "Testing the CNN with the hyperparameters of Model 2 and the test set."
   ]
  },
  {
   "cell_type": "code",
   "execution_count": 17,
   "metadata": {
    "id": "kFEh1m1LF0yL"
   },
   "outputs": [],
   "source": [
    "def test(EPOCHS=25, BATCH = 16, LEARNING_RATE = 0.01):\n",
    "    # run test set\n",
    "    test_acc = 0       # testing accuracy per batch\n",
    "    test_indices = np.arange(len(X_test)) \n",
    "    np.random.shuffle(test_indices)\n",
    "\n",
    "    for it in range(0, X_test.shape[0], BATCH):\n",
    "        batch = test_indices[it: it+BATCH] ## 2.2\n",
    "        test_prediction = predict(X_test[batch]).argmax(1)\n",
    "        test_acc += (np.array(test_prediction).flatten() == Y_test[batch]).sum()\n",
    "    print('Testing Accuracy %.2f' % (100*test_acc/X_test.shape[0]))\n"
   ]
  },
  {
   "cell_type": "code",
   "execution_count": 18,
   "metadata": {
    "colab": {
     "base_uri": "https://localhost:8080/",
     "height": 0
    },
    "id": "SLPBE9N7HjpY",
    "outputId": "1e7824a8-17f4-42ed-ca82-12e1e377fca3"
   },
   "outputs": [
    {
     "name": "stdout",
     "output_type": "stream",
     "text": [
      "Testing Accuracy 56.10\n"
     ]
    }
   ],
   "source": [
    "test()"
   ]
  },
  {
   "cell_type": "markdown",
   "metadata": {
    "id": "cno9fjO1o2Jq"
   },
   "source": [
    "## Part 3. Trying Out a New Dataset\n",
    "\n",
    "The selected dataset was the [fashion mnist](https://www.tensorflow.org/datasets/catalog/fashion_mnist) dataset in Tensorflow "
   ]
  },
  {
   "cell_type": "markdown",
   "metadata": {
    "id": "ZIlB4ZgPQvL-"
   },
   "source": [
    "### Import and partitioning data"
   ]
  },
  {
   "cell_type": "code",
   "execution_count": 36,
   "metadata": {
    "id": "M-LENCqAbBnf"
   },
   "outputs": [],
   "source": [
    "#.load_data() by default returns a split between training and test set. \n",
    "# We then adjust the training set into a format that can be accepted by our CNN\n",
    "\n",
    "(X_train, Y_train), (X_test, Y_test) = tf.keras.datasets.fashion_mnist.load_data()\n",
    "X_train = np.expand_dims(X_train, 1)\n",
    "X_train = np.asarray(X_train, dtype= np.float32) #changes datatype to float \n",
    "#X_train = X_train.transpose(0, 3, 1, 2) / 255.0 #\n",
    "Y_train = Y_train.flatten()\n",
    "#X_test = X_test.transpose(0, 3, 1, 2) / 255.0\n",
    "X_test = np.expand_dims(X_test, 1)\n",
    "X_test = np.asarray(X_test, dtype= np.float32)\n",
    "Y_test = Y_test.flatten()\n",
    "\n",
    "np.random.seed(1)\n",
    "# To create a validation set, we first concate the original splitted dataset into a single dataset \n",
    "# then randomly shuffle the images and labels in the same way (seed = 1)\n",
    "X_data = np.concatenate([X_train, X_test], axis = 0)\n",
    "Y_data = np.concatenate([Y_train, Y_test], axis = 0)\n",
    "\n",
    "N = np.arange(len(X_data))\n",
    "np.random.shuffle(N)\n",
    "X_data = X_data[N]\n",
    "Y_data = Y_data[N]\n",
    "\n",
    "#Next, we partition the randomly shuffled dataset into training, validation and testset according a ratio\n",
    "train_ratio = 0.80\n",
    "valid_ratio = 0.1\n",
    "n_train = int(len(X_data) * train_ratio)\n",
    "n_valid = int(len(X_data) * valid_ratio)\n",
    "\n",
    "X_train, X_valid, X_test = X_data[:n_train], X_data[n_train:n_train+n_valid], X_data[n_train+n_valid:]\n",
    "Y_train, Y_valid, Y_test = Y_data[:n_train], Y_data[n_train:n_train+n_valid], Y_data[n_train+n_valid:]"
   ]
  },
  {
   "cell_type": "markdown",
   "metadata": {
    "id": "jDZRFLIfuZ6j"
   },
   "source": [
    "### Base Model"
   ]
  },
  {
   "cell_type": "code",
   "execution_count": 41,
   "metadata": {
    "id": "lHyYsSWYfl3w"
   },
   "outputs": [],
   "source": [
    "class ConvNetFashion(objax.Module):\n",
    "  def __init__(self, number_of_channels = 1, number_of_classes = 10): #changed to 1 channel instead of 3\n",
    "    self.conv_1 = objax.nn.Sequential([objax.nn.Conv2D(number_of_channels, 16, 2), objax.functional.relu])\n",
    "    self.conv_2 = objax.nn.Sequential([objax.nn.Conv2D(16, 32, 2), objax.functional.relu])\n",
    "    self.linear = objax.nn.Linear(32, number_of_classes)\n",
    "\n",
    "  def __call__(self, x): #forward pass \n",
    "    x = objax.functional.max_pool_2d(self.conv_1(x), 2, 2)\n",
    "    x = self.conv_2(x)\n",
    "  \n",
    "    x = x.mean((2,3)) # global average pooling \n",
    "    x = self.linear(x) #fully connected layer\n",
    "    return x\n",
    "\n",
    "#The following line creates the CNN\n",
    "fashion_model = ConvNetFashion()"
   ]
  },
  {
   "cell_type": "code",
   "execution_count": 32,
   "metadata": {
    "colab": {
     "base_uri": "https://localhost:8080/",
     "height": 284
    },
    "id": "1e49lBXBq3Tb",
    "outputId": "b0992b14-49dd-45ca-f031-72ce3468b10a"
   },
   "outputs": [
    {
     "data": {
      "text/plain": [
       "<matplotlib.image.AxesImage at 0x7f0917efd150>"
      ]
     },
     "execution_count": 32,
     "metadata": {},
     "output_type": "execute_result"
    },
    {
     "data": {
      "image/png": "[encoded data removed]",
      "text/plain": [
       "<Figure size 432x288 with 1 Axes>"
      ]
     },
     "metadata": {
      "needs_background": "light"
     },
     "output_type": "display_data"
    }
   ],
   "source": [
    "#plot the first image in the training set.\n",
    "plt.imshow(X_train[0][0])"
   ]
  },
  {
   "cell_type": "code",
   "execution_count": 42,
   "metadata": {
    "id": "AgKwOv2jEbyy"
   },
   "outputs": [],
   "source": [
    "#Define loss function as averaged value of of cross entropies\n",
    "def loss_function_fm(x, labels):\n",
    "    logit = fashion_model(x)\n",
    "    return objax.functional.loss.cross_entropy_logits_sparse(logit, labels).mean()\n",
    "\n",
    "#Define a prediction function\n",
    "predict = objax.Jit(lambda x: objax.functional.softmax(fashion_model(x)), fashion_model.vars()) \n",
    "\n",
    "#Create an object that can be used to calculate the gradient and value of loss_function\n",
    "gv= objax.GradValues(loss_function_fm, fashion_model.vars())\n",
    "\n",
    "#Create an object that can be used to provide trainable variables in the model\n",
    "tv = objax.ModuleList(objax.TrainRef(x) for x in fashion_model.vars().subset(objax.TrainVar))\n",
    "\n",
    "#Training routine\n",
    "def train_op_fm(x, y, learning_rate):\n",
    "    lr = learning_rate\n",
    "    gradient, loss_value = gv(x, y)   # calculate gradient and loss value \"backprop\"\n",
    "    #next we update the trainable parameter using SGD and similar procedure\n",
    "    for grad, params in zip(gradient, tv.vars()):\n",
    "      params.value -= lr*grad \n",
    "     \n",
    "    return loss_value # return loss value\n",
    "\n",
    "#make train_op (much) faster using JIT compilation\n",
    "train_op_fm = objax.Jit(train_op_fm, gv.vars() + tv.vars())"
   ]
  },
  {
   "cell_type": "code",
   "execution_count": 43,
   "metadata": {
    "id": "4OvAua3ok37n"
   },
   "outputs": [],
   "source": [
    "def train(EPOCHS = 10, BATCH = 64, LEARNING_RATE = 0.05):\n",
    "  avg_train_loss_epoch = []\n",
    "  avg_val_loss_epoch = []\n",
    "  train_acc_epoch = []\n",
    "  val_acc_epoch = []\n",
    "\n",
    "  for epoch in range(EPOCHS):\n",
    "      avg_train_loss = 0 # (averaged) training loss per batch\n",
    "      avg_val_loss =  0  # (averaged) validation loss per batch\n",
    "      train_acc = 0      # training accuracy per batch\n",
    "      val_acc = 0        # validation accuracy per batch\n",
    "\n",
    "      # shuffle the examples prior to training to remove correlation \n",
    "      train_indices = np.arange(len(X_train)) \n",
    "      np.random.shuffle(train_indices)\n",
    "      for it in range(0, X_train.shape[0], BATCH):\n",
    "          batch = train_indices[it: it+BATCH] ## 2.2\n",
    "          avg_train_loss += float(train_op_fm(X_train[batch], Y_train[batch], LEARNING_RATE)[0]) * len(batch)\n",
    "          train_prediction = predict(X_train[batch]).argmax(1)\n",
    "          train_acc += (np.array(train_prediction).flatten() == Y_train[batch]).sum()\n",
    "      train_acc_epoch.append(train_acc/X_train.shape[0])\n",
    "      avg_train_loss_epoch.append(avg_train_loss/X_train.shape[0])\n",
    "\n",
    "      # run validation\n",
    "      val_indices = np.arange(len(X_valid)) \n",
    "      np.random.shuffle(val_indices)    \n",
    "      for it in range(0, X_valid.shape[0], BATCH):\n",
    "          batch = val_indices[it: it+BATCH] ## 2.2\n",
    "          avg_val_loss += float(loss_function_fm(X_valid[batch], Y_valid[batch])) * len(batch)\n",
    "          val_prediction = predict(X_valid[batch]).argmax(1)\n",
    "          val_acc += (np.array(val_prediction).flatten() == Y_valid[batch]).sum()\n",
    "      val_acc_epoch.append(val_acc/X_valid.shape[0])\n",
    "      avg_val_loss_epoch.append(avg_val_loss/X_valid.shape[0])\n",
    "\n",
    "      print('Epoch %04d  Training Loss %.2f Validation Loss %.2f Training Accuracy %.2f Validation Accuracy %.2f' % (epoch + 1, avg_train_loss/X_train.shape[0], avg_val_loss/X_valid.shape[0], 100*train_acc/X_train.shape[0], 100*val_acc/X_valid.shape[0]))\n",
    "  \n",
    "  #Plot training loss\n",
    "  plt.title(\"Train vs Validation Loss\")\n",
    "  plt.plot(avg_train_loss_epoch,color='blue', label=\"Train\")\n",
    "  plt.plot(avg_val_loss_epoch, color='m', label=\"Validation\")\n",
    "  plt.xlabel(\"Epoch\")\n",
    "  plt.ylabel(\"Loss\")\n",
    "  plt.legend(loc='best')\n",
    "  plt.show()\n",
    "\n",
    "  plt.title(\"Train vs Validation Accuracy\")\n",
    "  plt.plot(train_acc_epoch, color = 'blue', label=\"Train\")\n",
    "  plt.plot(val_acc_epoch, color='m', label=\"Validation\")\n",
    "  plt.xlabel(\"Epoch\")\n",
    "  plt.ylabel(\"Accuracy (%)\")\n",
    "  plt.legend(loc='best')\n",
    "  plt.show()"
   ]
  },
  {
   "cell_type": "code",
   "execution_count": null,
   "metadata": {
    "colab": {
     "base_uri": "https://localhost:8080/",
     "height": 755
    },
    "id": "vFXVi4weUQPL",
    "outputId": "74c19437-d819-4825-e6d2-f2d9704b64d8"
   },
   "outputs": [
    {
     "name": "stdout",
     "output_type": "stream",
     "text": [
      "Epoch 0001  Training Loss 1.14 Validation Loss 1.21 Training Accuracy 66.57 Validation Accuracy 56.43\n",
      "Epoch 0002  Training Loss 0.99 Validation Loss 0.98 Training Accuracy 69.68 Validation Accuracy 63.61\n",
      "Epoch 0003  Training Loss 0.97 Validation Loss 0.97 Training Accuracy 70.27 Validation Accuracy 65.97\n",
      "Epoch 0004  Training Loss 0.95 Validation Loss 0.90 Training Accuracy 70.91 Validation Accuracy 69.20\n",
      "Epoch 0005  Training Loss 0.93 Validation Loss 0.86 Training Accuracy 71.79 Validation Accuracy 70.81\n",
      "Epoch 0006  Training Loss 0.91 Validation Loss 0.88 Training Accuracy 71.97 Validation Accuracy 68.83\n",
      "Epoch 0007  Training Loss 0.89 Validation Loss 0.83 Training Accuracy 72.81 Validation Accuracy 71.37\n",
      "Epoch 0008  Training Loss 0.88 Validation Loss 0.93 Training Accuracy 72.97 Validation Accuracy 67.47\n",
      "Epoch 0009  Training Loss 0.86 Validation Loss 0.88 Training Accuracy 73.54 Validation Accuracy 68.37\n",
      "Epoch 0010  Training Loss 0.85 Validation Loss 0.81 Training Accuracy 73.69 Validation Accuracy 71.53\n"
     ]
    },
    {
     "data": {
      "image/png": "[encoded data removed]",
      "text/plain": [
       "<Figure size 432x288 with 1 Axes>"
      ]
     },
     "metadata": {
      "needs_background": "light"
     },
     "output_type": "display_data"
    },
    {
     "data": {
      "image/png": "[encoded data removed]",
      "text/plain": [
       "<Figure size 432x288 with 1 Axes>"
      ]
     },
     "metadata": {
      "needs_background": "light"
     },
     "output_type": "display_data"
    }
   ],
   "source": [
    "train(EPOCHS = 10, BATCH = 64, LEARNING_RATE = 0.05) #base model"
   ]
  },
  {
   "cell_type": "markdown",
   "metadata": {
    "id": "1WfjTAJ1TJjV"
   },
   "source": [
    "Hyperparameters to tune: epochs, batch size, learning rate"
   ]
  },
  {
   "cell_type": "code",
   "execution_count": 44,
   "metadata": {
    "colab": {
     "base_uri": "https://localhost:8080/",
     "height": 938
    },
    "id": "P4fPkwMKk4p9",
    "outputId": "d58e185a-cea6-472f-f694-ca648c7ed304"
   },
   "outputs": [
    {
     "name": "stdout",
     "output_type": "stream",
     "text": [
      "Epoch 0001  Training Loss 1.70 Validation Loss 1.03 Training Accuracy 60.47 Validation Accuracy 63.06\n",
      "Epoch 0002  Training Loss 0.94 Validation Loss 0.84 Training Accuracy 73.22 Validation Accuracy 71.71\n",
      "Epoch 0003  Training Loss 0.83 Validation Loss 0.78 Training Accuracy 76.03 Validation Accuracy 73.19\n",
      "Epoch 0004  Training Loss 0.77 Validation Loss 0.72 Training Accuracy 77.75 Validation Accuracy 75.56\n",
      "Epoch 0005  Training Loss 0.74 Validation Loss 0.71 Training Accuracy 79.10 Validation Accuracy 75.70\n",
      "Epoch 0006  Training Loss 0.71 Validation Loss 0.67 Training Accuracy 79.98 Validation Accuracy 76.49\n",
      "Epoch 0007  Training Loss 0.68 Validation Loss 0.65 Training Accuracy 80.64 Validation Accuracy 77.64\n",
      "Epoch 0008  Training Loss 0.67 Validation Loss 0.63 Training Accuracy 81.18 Validation Accuracy 78.41\n",
      "Epoch 0009  Training Loss 0.65 Validation Loss 0.67 Training Accuracy 81.84 Validation Accuracy 75.71\n",
      "Epoch 0010  Training Loss 0.63 Validation Loss 0.64 Training Accuracy 82.29 Validation Accuracy 77.41\n",
      "Epoch 0011  Training Loss 0.62 Validation Loss 0.62 Training Accuracy 82.64 Validation Accuracy 78.33\n",
      "Epoch 0012  Training Loss 0.61 Validation Loss 0.59 Training Accuracy 82.96 Validation Accuracy 79.26\n",
      "Epoch 0013  Training Loss 0.60 Validation Loss 0.57 Training Accuracy 83.39 Validation Accuracy 80.54\n",
      "Epoch 0014  Training Loss 0.59 Validation Loss 0.61 Training Accuracy 83.69 Validation Accuracy 79.16\n",
      "Epoch 0015  Training Loss 0.58 Validation Loss 0.55 Training Accuracy 83.93 Validation Accuracy 81.03\n",
      "Epoch 0016  Training Loss 0.58 Validation Loss 0.58 Training Accuracy 84.42 Validation Accuracy 79.83\n",
      "Epoch 0017  Training Loss 0.57 Validation Loss 0.53 Training Accuracy 84.60 Validation Accuracy 81.73\n",
      "Epoch 0018  Training Loss 0.56 Validation Loss 0.54 Training Accuracy 84.71 Validation Accuracy 81.33\n",
      "Epoch 0019  Training Loss 0.56 Validation Loss 0.54 Training Accuracy 85.15 Validation Accuracy 81.43\n",
      "Epoch 0020  Training Loss 0.55 Validation Loss 0.53 Training Accuracy 85.15 Validation Accuracy 81.19\n"
     ]
    },
    {
     "data": {
      "image/png": "[encoded data removed]",
      "text/plain": [
       "<Figure size 432x288 with 1 Axes>"
      ]
     },
     "metadata": {
      "needs_background": "light"
     },
     "output_type": "display_data"
    },
    {
     "data": {
      "image/png": "[encoded data removed]",
      "text/plain": [
       "<Figure size 432x288 with 1 Axes>"
      ]
     },
     "metadata": {
      "needs_background": "light"
     },
     "output_type": "display_data"
    }
   ],
   "source": [
    "train(EPOCHS = 20, BATCH = 32, LEARNING_RATE = 0.005)"
   ]
  },
  {
   "cell_type": "markdown",
   "metadata": {
    "id": "o5Kl0p-dXOr0"
   },
   "source": [
    "The hyperparameters that I tuned were batch size, epochs, and the learning rate. In the process of tuning, I discovered the various effects of each hyperparameter. One thing I found was that the accuracy is very sensitive to batch size, where a lower batch size often leads to higher accuracy; comparing  the base model with a larger batch size of 100 would gave me much lower validation accuracy. On the other hand, the higher the epochs, the higher the validation accuracy, although it stagnates after a while. Lastly, experimenting with the learning rate showed that a rate too high and too low leads to lower validation accuracy. \n",
    "\n",
    "Base model: 71.53 at epoch 10     Final model: 81.43 at epoch 19"
   ]
  },
  {
   "cell_type": "code",
   "execution_count": 45,
   "metadata": {
    "id": "OYNg89EpRCtp"
   },
   "outputs": [],
   "source": [
    "def test_fm(EPOCHS = 20, BATCH = 32, LEARNING_RATE = 9e-4):\n",
    "    # run test set\n",
    "    test_acc = 0       # testing accuracy per batch\n",
    "    test_indices = np.arange(len(X_test)) \n",
    "    np.random.shuffle(test_indices)\n",
    "\n",
    "    for it in range(0, X_test.shape[0], BATCH):\n",
    "        batch = test_indices[it: it+BATCH] ## 2.2\n",
    "        test_prediction = predict(X_test[batch]).argmax(1)\n",
    "        test_acc += (np.array(test_prediction).flatten() == Y_test[batch]).sum()\n",
    "    print('Testing Accuracy %.2f' % (100*test_acc/X_test.shape[0]))"
   ]
  },
  {
   "cell_type": "code",
   "execution_count": 46,
   "metadata": {
    "colab": {
     "base_uri": "https://localhost:8080/",
     "height": 0
    },
    "id": "rzPWwPMdT8cF",
    "outputId": "fe33d753-c572-476a-b61f-7c06de6cdfba"
   },
   "outputs": [
    {
     "name": "stdout",
     "output_type": "stream",
     "text": [
      "Testing Accuracy 80.57\n"
     ]
    }
   ],
   "source": [
    "test_fm()"
   ]
  },
  {
   "cell_type": "markdown",
   "metadata": {
    "id": "Eye-uBnQWgc8"
   },
   "source": [
    "## Problem 4. Open-Ended Exploration\n",
    "\n",
    "**Selected problem:** additional hyperparameter tuning (1)\n",
    "\n",
    "I have decided to tune the hyperparameters: activation function, batch size\n",
    "\n",
    "Using the same fashion_mnist dataset from Tensorflow:\n",
    "\n",
    "\n",
    "*   Base model: ReLU with batch size 32\n",
    "*   Final model: softplus with batch size 16\n",
    "\n",
    "All other hyperparameters were kept constant.\n"
   ]
  },
  {
   "cell_type": "markdown",
   "metadata": {
    "id": "3Fhwfxe52GPH"
   },
   "source": [
    "### Base Model"
   ]
  },
  {
   "cell_type": "code",
   "execution_count": null,
   "metadata": {
    "id": "G4cUJoo0Oj5q"
   },
   "outputs": [],
   "source": [
    "# Define a new convolution\n",
    "class ConvNetExplorationBase(objax.Module):\n",
    "  def __init__(self, number_of_channels = 1, number_of_classes = 10):\n",
    "    self.conv_1 = objax.nn.Sequential([objax.nn.Conv2D(number_of_channels, 16, 2), objax.functional.relu]) #channels\n",
    "    self.conv_2 = objax.nn.Sequential([objax.nn.Conv2D(16, 32, 2), objax.functional.relu]) \n",
    "    self.linear = objax.nn.Linear(32, number_of_classes)\n",
    "\n",
    "  def __call__(self, x): #forward pass \n",
    "    x = objax.functional.max_pool_2d(self.conv_1(x), 2, 2)\n",
    "    x = self.conv_2(x)\n",
    "  \n",
    "    x = x.mean((2,3)) #<--- global average pooling \n",
    "    x = self.linear(x) #fully connected layer\n",
    "    return x\n",
    "\n",
    "#The following line creates the CNN\n",
    "base_model = ConvNetExplorationBase()"
   ]
  },
  {
   "cell_type": "code",
   "execution_count": null,
   "metadata": {
    "id": "C8jIrSqZ2mGt"
   },
   "outputs": [],
   "source": [
    "#Define loss function as averaged value of of cross entropies\n",
    "def loss_function(x, labels):\n",
    "    logit = base_model(x)\n",
    "    return objax.functional.loss.cross_entropy_logits_sparse(logit, labels).mean()\n",
    "\n",
    "#Define a prediction function\n",
    "predict = objax.Jit(lambda x: objax.functional.softmax(base_model(x)), base_model.vars()) \n",
    "\n",
    "#Create an object that can be used to calculate the gradient and value of loss_function\n",
    "gv= objax.GradValues(loss_function, base_model.vars())\n",
    "\n",
    "#Create an object that can be used to provide trainable variables in the model\n",
    "tv = objax.ModuleList(objax.TrainRef(x) for x in base_model.vars().subset(objax.TrainVar))\n",
    "\n",
    "#Training routine\n",
    "def train_op(x, y, learning_rate):\n",
    "    lr = learning_rate\n",
    "    gradient, loss_value = gv(x, y)   # calculate gradient and loss value \"backprop\"\n",
    "    #next we update the trainable parameter using SGD and similar procedure\n",
    "    for grad, params in zip(gradient, tv.vars()):\n",
    "      params.value -= lr*grad ## 2.1\n",
    "     \n",
    "    return loss_value # return loss value\n",
    "\n",
    "#make train_op (much) faster using JIT compilation\n",
    "train_op = objax.Jit(train_op, gv.vars() + tv.vars())"
   ]
  },
  {
   "cell_type": "code",
   "execution_count": null,
   "metadata": {
    "id": "3rSXmHsP3P-w"
   },
   "outputs": [],
   "source": [
    "def train_base(EPOCHS = 20, BATCH = 32, LEARNING_RATE = 9e-4):\n",
    "  avg_train_loss_epoch = []\n",
    "  avg_val_loss_epoch = []\n",
    "  train_acc_epoch = []\n",
    "  val_acc_epoch = []\n",
    "\n",
    "  for epoch in range(EPOCHS):\n",
    "      avg_train_loss = 0 # (averaged) training loss per batch\n",
    "      avg_val_loss =  0  # (averaged) validation loss per batch\n",
    "      train_acc = 0      # training accuracy per batch\n",
    "      val_acc = 0        # validation accuracy per batch\n",
    "\n",
    "      # shuffle the examples prior to training to remove correlation \n",
    "      train_indices = np.arange(len(X_train)) \n",
    "      np.random.shuffle(train_indices)\n",
    "      for it in range(0, X_train.shape[0], BATCH):\n",
    "          batch = train_indices[it: it+BATCH] ## 2.2\n",
    "          avg_train_loss += float(train_op(X_train[batch], Y_train[batch], LEARNING_RATE)[0]) * len(batch)\n",
    "          train_prediction = predict(X_train[batch]).argmax(1)\n",
    "          train_acc += (np.array(train_prediction).flatten() == Y_train[batch]).sum()\n",
    "      train_acc_epoch.append(train_acc/X_train.shape[0])\n",
    "      avg_train_loss_epoch.append(avg_train_loss/X_train.shape[0])\n",
    "\n",
    "      # run validation\n",
    "      val_indices = np.arange(len(X_valid)) \n",
    "      np.random.shuffle(val_indices)    \n",
    "      for it in range(0, X_valid.shape[0], BATCH):\n",
    "          batch = val_indices[it: it+BATCH] ## 2.2\n",
    "          avg_val_loss += float(loss_function(X_valid[batch], Y_valid[batch])) * len(batch)\n",
    "          val_prediction = predict(X_valid[batch]).argmax(1)\n",
    "          val_acc += (np.array(val_prediction).flatten() == Y_valid[batch]).sum()\n",
    "      val_acc_epoch.append(val_acc/X_valid.shape[0])\n",
    "      avg_val_loss_epoch.append(avg_val_loss/X_valid.shape[0])\n",
    "\n",
    "      print('Epoch %04d  Training Loss %.2f Validation Loss %.2f Training Accuracy %.2f Validation Accuracy %.2f' % (epoch + 1, avg_train_loss/X_train.shape[0], avg_val_loss/X_valid.shape[0], 100*train_acc/X_train.shape[0], 100*val_acc/X_valid.shape[0]))\n",
    "  \n",
    "  #Plot training loss\n",
    "  plt.title(\"Train vs Validation Loss\")\n",
    "  plt.plot(avg_train_loss_epoch,color='blue', label=\"Train\")\n",
    "  plt.plot(avg_val_loss_epoch, color='m', label=\"Validation\")\n",
    "  plt.xlabel(\"Epoch\")\n",
    "  plt.ylabel(\"Loss\")\n",
    "  plt.legend(loc='best')\n",
    "  plt.show()\n",
    "\n",
    "  plt.title(\"Train vs Validation Accuracy\")\n",
    "  plt.plot(train_acc_epoch, color = 'blue', label=\"Train\")\n",
    "  plt.plot(val_acc_epoch, color='m', label=\"Validation\")\n",
    "  plt.xlabel(\"Epoch\")\n",
    "  plt.ylabel(\"Accuracy (%)\")\n",
    "  plt.legend(loc='best')\n",
    "  plt.show()"
   ]
  },
  {
   "cell_type": "code",
   "execution_count": null,
   "metadata": {
    "colab": {
     "base_uri": "https://localhost:8080/",
     "height": 938
    },
    "id": "h9hyjWlA3kz4",
    "outputId": "e0023e31-467d-4f16-a1db-a294e2ab7819"
   },
   "outputs": [
    {
     "name": "stdout",
     "output_type": "stream",
     "text": [
      "Epoch 0001  Training Loss 1.67 Validation Loss 1.10 Training Accuracy 54.14 Validation Accuracy 61.40\n",
      "Epoch 0002  Training Loss 1.06 Validation Loss 1.00 Training Accuracy 69.36 Validation Accuracy 65.20\n",
      "Epoch 0003  Training Loss 0.96 Validation Loss 0.89 Training Accuracy 73.27 Validation Accuracy 70.23\n",
      "Epoch 0004  Training Loss 0.90 Validation Loss 0.84 Training Accuracy 74.82 Validation Accuracy 72.27\n",
      "Epoch 0005  Training Loss 0.86 Validation Loss 0.80 Training Accuracy 75.74 Validation Accuracy 72.66\n",
      "Epoch 0006  Training Loss 0.83 Validation Loss 0.77 Training Accuracy 76.63 Validation Accuracy 74.33\n",
      "Epoch 0007  Training Loss 0.80 Validation Loss 0.75 Training Accuracy 77.26 Validation Accuracy 74.71\n",
      "Epoch 0008  Training Loss 0.79 Validation Loss 0.75 Training Accuracy 77.93 Validation Accuracy 75.13\n",
      "Epoch 0009  Training Loss 0.77 Validation Loss 0.74 Training Accuracy 78.35 Validation Accuracy 74.97\n",
      "Epoch 0010  Training Loss 0.75 Validation Loss 0.77 Training Accuracy 78.58 Validation Accuracy 72.79\n",
      "Epoch 0011  Training Loss 0.74 Validation Loss 0.73 Training Accuracy 78.90 Validation Accuracy 74.06\n",
      "Epoch 0012  Training Loss 0.73 Validation Loss 0.76 Training Accuracy 79.13 Validation Accuracy 73.11\n",
      "Epoch 0013  Training Loss 0.72 Validation Loss 0.71 Training Accuracy 79.34 Validation Accuracy 76.09\n",
      "Epoch 0014  Training Loss 0.72 Validation Loss 0.73 Training Accuracy 79.63 Validation Accuracy 74.10\n",
      "Epoch 0015  Training Loss 0.71 Validation Loss 0.68 Training Accuracy 79.77 Validation Accuracy 77.01\n",
      "Epoch 0016  Training Loss 0.70 Validation Loss 0.67 Training Accuracy 79.94 Validation Accuracy 77.61\n",
      "Epoch 0017  Training Loss 0.69 Validation Loss 0.66 Training Accuracy 80.08 Validation Accuracy 77.97\n",
      "Epoch 0018  Training Loss 0.69 Validation Loss 0.66 Training Accuracy 80.34 Validation Accuracy 77.53\n",
      "Epoch 0019  Training Loss 0.68 Validation Loss 0.70 Training Accuracy 80.39 Validation Accuracy 76.49\n",
      "Epoch 0020  Training Loss 0.68 Validation Loss 0.68 Training Accuracy 80.41 Validation Accuracy 75.50\n"
     ]
    },
    {
     "data": {
      "image/png": "[encoded data removed]",
      "text/plain": [
       "<Figure size 432x288 with 1 Axes>"
      ]
     },
     "metadata": {
      "needs_background": "light"
     },
     "output_type": "display_data"
    },
    {
     "data": {
      "image/png": "[encoded data removed]",
      "text/plain": [
       "<Figure size 432x288 with 1 Axes>"
      ]
     },
     "metadata": {
      "needs_background": "light"
     },
     "output_type": "display_data"
    }
   ],
   "source": [
    "train_base()"
   ]
  },
  {
   "cell_type": "markdown",
   "metadata": {
    "id": "ZRfOEg2GDpSQ"
   },
   "source": [
    "### Discussion\n",
    "First, I compared the various activation functions by training models with all other hyperparameters constant. The table below displays a comparison of their maximum validation accuracies with batch size 32. Since the prediction function uses the softmax activation function, I decided not to use softmax as a potential activation function to test.\n",
    "\n",
    "| Activation Function | Validation Accuracy |\n",
    "| --- | ----------- |\n",
    "| ReLU | 77.97 at epoch 17 |\n",
    "| Sigmoid | 31.70 at epoch 20 |\n",
    "|tanh | 51.60 at epoch 20|\n",
    "| softplus | 82.04 at epoch 11|\n",
    "\n",
    "Since the base case uses the ReLU activation function, it was not considered for the final model. Thus, the softplus activation function was chosen as it demonstrated the highest validation accuracy. \n",
    "\n",
    "A similar process was done to determine a batch size. Keeping the activation function and all other hyperparameters constant yielded that a lower batch size led to higher validation accuracies. This was determined by taking the batch size as 16, 32, 64, and 100, comparing their maximum validation accuracy.\n",
    "\n",
    "Therefore, the final model was decided to utilize the softplus activation function with a batch size of 16."
   ]
  },
  {
   "cell_type": "markdown",
   "metadata": {
    "id": "lE5YEz3m2Imb"
   },
   "source": [
    "### Final Model"
   ]
  },
  {
   "cell_type": "code",
   "execution_count": null,
   "metadata": {
    "colab": {
     "base_uri": "https://localhost:8080/"
    },
    "id": "9NjhHE5T4YBS",
    "outputId": "48b7c47e-ce30-45ff-cc69-d93b43543204"
   },
   "outputs": [
    {
     "name": "stderr",
     "output_type": "stream",
     "text": [
      "WARNING:absl:No GPU/TPU found, falling back to CPU. (Set TF_CPP_MIN_LOG_LEVEL=0 and rerun for more info.)\n"
     ]
    }
   ],
   "source": [
    "# Define a new convolution\n",
    "class ConvNetExplorationFinal(objax.Module):\n",
    "  def __init__(self, number_of_channels = 1, number_of_classes = 10):\n",
    "    self.conv_1 = objax.nn.Sequential([objax.nn.Conv2D(number_of_channels, 16, 2), objax.functional.softplus]) #changed to sigmoid function\n",
    "    self.conv_2 = objax.nn.Sequential([objax.nn.Conv2D(16, 32, 2), objax.functional.softplus]) \n",
    "    self.linear = objax.nn.Linear(32, number_of_classes)\n",
    "\n",
    "  def __call__(self, x): #forward pass \n",
    "    x = objax.functional.max_pool_2d(self.conv_1(x), 2, 2)\n",
    "    x = self.conv_2(x)\n",
    "  \n",
    "    x = x.mean((2,3)) # global average pooling \n",
    "    x = self.linear(x) #fully connected layer\n",
    "    return x\n",
    "\n",
    "#The following line creates the CNN\n",
    "final_model = ConvNetExplorationFinal()"
   ]
  },
  {
   "cell_type": "code",
   "execution_count": null,
   "metadata": {
    "id": "J8Wt1N0t4wGc"
   },
   "outputs": [],
   "source": [
    "#Define loss function as averaged value of of cross entropies\n",
    "def loss_function(x, labels):\n",
    "    logit = final_model(x)\n",
    "    return objax.functional.loss.cross_entropy_logits_sparse(logit, labels).mean()\n",
    "\n",
    "#Define a prediction function\n",
    "predict = objax.Jit(lambda x: objax.functional.softmax(final_model(x)), final_model.vars()) \n",
    "\n",
    "#Create an object that can be used to calculate the gradient and value of loss_function\n",
    "gv= objax.GradValues(loss_function, final_model.vars())\n",
    "\n",
    "#Create an object that can be used to provide trainable variables in the model\n",
    "tv = objax.ModuleList(objax.TrainRef(x) for x in final_model.vars().subset(objax.TrainVar))\n",
    "\n",
    "#Training routine\n",
    "def train_op(x, y, learning_rate):\n",
    "    lr = learning_rate\n",
    "    gradient, loss_value = gv(x, y)   # calculate gradient and loss value \"backprop\"\n",
    "    #next we update the trainable parameter using SGD and similar procedure\n",
    "    for grad, params in zip(gradient, tv.vars()):\n",
    "      params.value -= lr*grad ## 2.1\n",
    "     \n",
    "    return loss_value # return loss value\n",
    "\n",
    "#make train_op (much) faster using JIT compilation\n",
    "train_op = objax.Jit(train_op, gv.vars() + tv.vars())"
   ]
  },
  {
   "cell_type": "code",
   "execution_count": null,
   "metadata": {
    "id": "ugA4ALx39XRd"
   },
   "outputs": [],
   "source": [
    "def train_final(EPOCHS = 20, BATCH = 16, LEARNING_RATE = 9e-4):\n",
    "  avg_train_loss_epoch = []\n",
    "  avg_val_loss_epoch = []\n",
    "  train_acc_epoch = []\n",
    "  val_acc_epoch = []\n",
    "\n",
    "  for epoch in range(EPOCHS):\n",
    "      avg_train_loss = 0 # (averaged) training loss per batch\n",
    "      avg_val_loss =  0  # (averaged) validation loss per batch\n",
    "      train_acc = 0      # training accuracy per batch\n",
    "      val_acc = 0        # validation accuracy per batch\n",
    "\n",
    "      # shuffle the examples prior to training to remove correlation \n",
    "      train_indices = np.arange(len(X_train)) \n",
    "      np.random.shuffle(train_indices)\n",
    "      for it in range(0, X_train.shape[0], BATCH):\n",
    "          batch = train_indices[it: it+BATCH] ## 2.2\n",
    "          avg_train_loss += float(train_op(X_train[batch], Y_train[batch], LEARNING_RATE)[0]) * len(batch)\n",
    "          train_prediction = predict(X_train[batch]).argmax(1)\n",
    "          train_acc += (np.array(train_prediction).flatten() == Y_train[batch]).sum()\n",
    "      train_acc_epoch.append(train_acc/X_train.shape[0])\n",
    "      avg_train_loss_epoch.append(avg_train_loss/X_train.shape[0])\n",
    "\n",
    "      # run validation\n",
    "      val_indices = np.arange(len(X_valid)) \n",
    "      np.random.shuffle(val_indices)    \n",
    "      for it in range(0, X_valid.shape[0], BATCH):\n",
    "          batch = val_indices[it: it+BATCH] ## 2.2\n",
    "          avg_val_loss += float(loss_function(X_valid[batch], Y_valid[batch])) * len(batch)\n",
    "          val_prediction = predict(X_valid[batch]).argmax(1)\n",
    "          val_acc += (np.array(val_prediction).flatten() == Y_valid[batch]).sum()\n",
    "      val_acc_epoch.append(val_acc/X_valid.shape[0])\n",
    "      avg_val_loss_epoch.append(avg_val_loss/X_valid.shape[0])\n",
    "\n",
    "      print('Epoch %04d  Training Loss %.2f Validation Loss %.2f Training Accuracy %.2f Validation Accuracy %.2f' % (epoch + 1, avg_train_loss/X_train.shape[0], avg_val_loss/X_valid.shape[0], 100*train_acc/X_train.shape[0], 100*val_acc/X_valid.shape[0]))\n",
    "  \n",
    "  #Plot training loss\n",
    "  plt.title(\"Train vs Validation Loss\")\n",
    "  plt.plot(avg_train_loss_epoch,color='blue', label=\"Train\")\n",
    "  plt.plot(avg_val_loss_epoch, color='m', label=\"Validation\")\n",
    "  plt.xlabel(\"Epoch\")\n",
    "  plt.ylabel(\"Loss\")\n",
    "  plt.legend(loc='best')\n",
    "  plt.show()\n",
    "\n",
    "  plt.title(\"Train vs Validation Accuracy\")\n",
    "  plt.plot(train_acc_epoch, color = 'blue', label=\"Train\")\n",
    "  plt.plot(val_acc_epoch, color='m', label=\"Validation\")\n",
    "  plt.xlabel(\"Epoch\")\n",
    "  plt.ylabel(\"Accuracy (%)\")\n",
    "  plt.legend(loc='best')\n",
    "  plt.show()"
   ]
  },
  {
   "cell_type": "code",
   "execution_count": null,
   "metadata": {
    "colab": {
     "base_uri": "https://localhost:8080/",
     "height": 938
    },
    "id": "2pxRj3G_5eim",
    "outputId": "4a7d58f1-39ee-42a8-cfc5-6ada97e9b008"
   },
   "outputs": [
    {
     "name": "stdout",
     "output_type": "stream",
     "text": [
      "Epoch 0001  Training Loss 1.35 Validation Loss 1.04 Training Accuracy 63.46 Validation Accuracy 64.96\n",
      "Epoch 0002  Training Loss 0.97 Validation Loss 0.91 Training Accuracy 74.86 Validation Accuracy 69.27\n",
      "Epoch 0003  Training Loss 0.87 Validation Loss 0.82 Training Accuracy 77.71 Validation Accuracy 72.20\n",
      "Epoch 0004  Training Loss 0.81 Validation Loss 0.75 Training Accuracy 79.19 Validation Accuracy 75.07\n",
      "Epoch 0005  Training Loss 0.77 Validation Loss 0.72 Training Accuracy 79.91 Validation Accuracy 75.76\n",
      "Epoch 0006  Training Loss 0.75 Validation Loss 0.71 Training Accuracy 80.51 Validation Accuracy 76.16\n",
      "Epoch 0007  Training Loss 0.73 Validation Loss 0.69 Training Accuracy 80.76 Validation Accuracy 76.54\n",
      "Epoch 0008  Training Loss 0.71 Validation Loss 0.67 Training Accuracy 81.15 Validation Accuracy 76.89\n",
      "Epoch 0009  Training Loss 0.69 Validation Loss 0.67 Training Accuracy 81.63 Validation Accuracy 77.01\n",
      "Epoch 0010  Training Loss 0.68 Validation Loss 0.67 Training Accuracy 81.73 Validation Accuracy 76.96\n",
      "Epoch 0011  Training Loss 0.67 Validation Loss 0.67 Training Accuracy 82.09 Validation Accuracy 77.71\n",
      "Epoch 0012  Training Loss 0.66 Validation Loss 0.67 Training Accuracy 82.14 Validation Accuracy 77.20\n",
      "Epoch 0013  Training Loss 0.65 Validation Loss 0.63 Training Accuracy 82.45 Validation Accuracy 78.64\n",
      "Epoch 0014  Training Loss 0.65 Validation Loss 0.62 Training Accuracy 82.50 Validation Accuracy 79.14\n",
      "Epoch 0015  Training Loss 0.64 Validation Loss 0.61 Training Accuracy 82.68 Validation Accuracy 79.50\n",
      "Epoch 0016  Training Loss 0.63 Validation Loss 0.62 Training Accuracy 82.92 Validation Accuracy 78.49\n",
      "Epoch 0017  Training Loss 0.62 Validation Loss 0.60 Training Accuracy 83.11 Validation Accuracy 79.61\n",
      "Epoch 0018  Training Loss 0.62 Validation Loss 0.61 Training Accuracy 83.06 Validation Accuracy 79.03\n",
      "Epoch 0019  Training Loss 0.61 Validation Loss 0.58 Training Accuracy 83.25 Validation Accuracy 80.19\n",
      "Epoch 0020  Training Loss 0.61 Validation Loss 0.59 Training Accuracy 83.47 Validation Accuracy 79.90\n"
     ]
    },
    {
     "data": {
      "image/png": "[encoded data removed]",
      "text/plain": [
       "<Figure size 432x288 with 1 Axes>"
      ]
     },
     "metadata": {
      "needs_background": "light"
     },
     "output_type": "display_data"
    },
    {
     "data": {
      "image/png": "[encoded data removed]",
      "text/plain": [
       "<Figure size 432x288 with 1 Axes>"
      ]
     },
     "metadata": {
      "needs_background": "light"
     },
     "output_type": "display_data"
    }
   ],
   "source": [
    "train_final()"
   ]
  },
  {
   "cell_type": "markdown",
   "metadata": {
    "id": "BPV4qOuKiwsq"
   },
   "source": [
    "### Testing "
   ]
  },
  {
   "cell_type": "code",
   "execution_count": null,
   "metadata": {
    "id": "44IFuqAB-ygR"
   },
   "outputs": [],
   "source": [
    "def test_final(EPOCHS=25, BATCH = 16, LEARNING_RATE = 9e-4):\n",
    "    # run test set\n",
    "    avg_test_loss = 0  # (averaged) test loss per batch\n",
    "    test_acc = 0       # testing accuracy per batch\n",
    "\n",
    "    test_indices = np.arange(len(X_test)) \n",
    "    np.random.shuffle(test_indices)\n",
    "\n",
    "    for it in range(0, X_test.shape[0], BATCH):\n",
    "        batch = test_indices[it: it+BATCH] ## 2.2\n",
    "        avg_test_loss += float(loss_function(X_test[batch], Y_test[batch])) * len(batch)\n",
    "        test_prediction = predict(X_test[batch]).argmax(1)\n",
    "        test_acc += (np.array(test_prediction).flatten() == Y_test[batch]).sum()\n",
    "    print('Testing Accuracy %.2f' % (100*test_acc/X_test.shape[0]))\n"
   ]
  },
  {
   "cell_type": "code",
   "execution_count": null,
   "metadata": {
    "colab": {
     "base_uri": "https://localhost:8080/"
    },
    "id": "O6RxsG-vCJiU",
    "outputId": "fa10843b-3489-4bd3-fd60-aa2f19714346"
   },
   "outputs": [
    {
     "name": "stdout",
     "output_type": "stream",
     "text": [
      "Testing Accuracy 78.96\n"
     ]
    }
   ],
   "source": [
    "test_final()"
   ]
  }
 ],
 "metadata": {
  "accelerator": "GPU",
  "colab": {
   "collapsed_sections": [],
   "name": "04.CNN",
   "provenance": [],
   "toc_visible": true
  },
  "kernelspec": {
   "display_name": "Python 3 (ipykernel)",
   "language": "python",
   "name": "python3"
  },
  "language_info": {
   "codemirror_mode": {
    "name": "ipython",
    "version": 3
   },
   "file_extension": ".py",
   "mimetype": "text/x-python",
   "name": "python",
   "nbconvert_exporter": "python",
   "pygments_lexer": "ipython3",
   "version": "3.8.8"
  }
 },
 "nbformat": 4,
 "nbformat_minor": 1
}
