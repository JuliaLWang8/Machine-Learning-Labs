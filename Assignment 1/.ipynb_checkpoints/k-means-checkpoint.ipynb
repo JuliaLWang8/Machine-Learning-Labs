{
 "cells": [
  {
   "cell_type": "code",
   "execution_count": 44,
   "id": "4833d82c",
   "metadata": {},
   "outputs": [],
   "source": [
    "from sklearn.datasets import load_breast_cancer\n",
    "import numpy as np\n",
    "import matplotlib.pyplot as plt\n",
    "%matplotlib inline"
   ]
  },
  {
   "cell_type": "code",
   "execution_count": 47,
   "id": "f72af86d",
   "metadata": {},
   "outputs": [],
   "source": [
    "dataset = load_breast_cancer()\n",
    "# print(dataset)\n",
    "dataset = dataset.get('data')\n",
    "data = np.array(dataset)"
   ]
  },
  {
   "cell_type": "markdown",
   "id": "e75cbe07",
   "metadata": {},
   "source": [
    "### K-means clustering"
   ]
  },
  {
   "cell_type": "code",
   "execution_count": 30,
   "id": "fbedc26f",
   "metadata": {},
   "outputs": [],
   "source": [
    "def kmeans(dataset, k):\n",
    "    \"\"\"\n",
    "    Takes in a dataset and k -> centroids, centroid assignment for each point in the dataset\n",
    "    \"\"\"\n",
    "    # obtain sizes of the dataset\n",
    "    m = dataset.shape[0] #569 x's in the set\n",
    "    dim = dataset[0].shape[0] # dimension of x is 30\n",
    "    \n",
    "    # choose k training points from the data to be the initial randomized cluster centroids\n",
    "    mu_index = np.random.choice(m, k) # choose k indices from data (up to m)\n",
    "    mus = np.empty([k, dim]) # initialize mu's to have k clusters that are 30 dim each\n",
    "    temp = 0 # for iterating through \n",
    "    for i in mu_index:\n",
    "        mus[temp]= dataset[i] #selecting the points from the dataset\n",
    "        temp+=1\n",
    "    \n",
    "    #initializing for cluster assignment\n",
    "    dists = np.zeros([m, k]) # distance to each cluster (k) / data point (m)\n",
    "    previous_dists = np.zeros([m, k]) # to compare distances for convergence in the loop (coverge when difference = 0)\n",
    "    iterating = True\n",
    "    \n",
    "    while iterating: #keep looping until convergence\n",
    "        \n",
    "        # DISTANCE CALCULATION\n",
    "        for c_index, centroid in enumerate(mus): # for each centroid\n",
    "            #c_index = index of centroid (to k), centroid= mxdim for that centroid\n",
    "            \n",
    "            for i in range(m): #for every point m\n",
    "                \n",
    "                #calculate distances to centroids - Euclidean with np.linalg.norm\n",
    "                dists[i, c_index] = np.linalg.norm(dataset[i] - centroid) #dataset[i] is 1x30, centroid is 1x30\n",
    "                    #dists is a m x k array: for every point (m points), there are k distances to the k centroids\n",
    "                    # dists is a summary of all the distances to centroids for each point\n",
    "\n",
    "        # MINIMUM DISTANCES\n",
    "        #find centroid index c with min distance to the points [argmin]\n",
    "        c = np.argmin(dists, axis=1)\n",
    "            # c is a vector of size m (569) containing the index of the closest cluster\n",
    "        \n",
    "        # UPDATING CENTROIDS\n",
    "        for cluster in range(k): # for every cluster/centroid\n",
    "            # update the centroid to be the mean\n",
    "            mus[cluster] = np.mean(dataset[c == cluster], 0)\n",
    "        \n",
    "        # ITERATION CONVERGENCE \n",
    "            # set it to converge when the previous distances to centroids = the new distances\n",
    "            if np.linalg.norm(dists[cluster] - previous_dists[cluster]) == 0:\n",
    "                iterating = False\n",
    "    \n",
    "        previous_dists = dists # set current dist to be the new previous dists for next iteration\n",
    "\n",
    "    return mus, c # returns centroids mus, and assignments c"
   ]
  },
  {
   "cell_type": "code",
   "execution_count": null,
   "id": "c770909b",
   "metadata": {},
   "outputs": [],
   "source": []
  },
  {
   "cell_type": "markdown",
   "id": "259e0d63",
   "metadata": {},
   "source": [
    "#### Run K-means\n",
    "Running k-means with k between 2 and 7. Justify the data passed in as the input."
   ]
  },
  {
   "cell_type": "code",
   "execution_count": 5,
   "id": "9694a3e7",
   "metadata": {},
   "outputs": [],
   "source": [
    "k = 2\n",
    "centroids = []\n",
    "while k <= 7:\n",
    "    mus, c = kmeans(data, k)\n",
    "    centroids.append(mus)\n",
    "    k +=1\n",
    "# The parameters inputted into the kmeans function are the data and k. \n",
    "# After loading the UCI ML Breast Cancer Wisconsin dataset, it appears to be a dictionary \n",
    "# with the data we are seeking as the values with key of 'data'. Thus, I used a dict.get \n",
    "# function to access the values. There are 569 data points each of which has 30\n",
    "# dimensions: x_1, x_2, ..., x_569 where each x_i is an element of R^30. The dictionary \n",
    "# values for key='data' was then converted to a numpy array, which was the input used for\n",
    "# the function kmeans. Rather than normalizing the dataset and using random.random to \n",
    "# initialize centroids s in my algorithm, I chose to take 2 random points from the dataset. \n",
    "# In my kmeans function, I used random.choice to choose k indices from the dataset size and \n",
    "# set the initial centroids to the k random points from the set. All features were also used.\n",
    "# Thus, the data passed in as the input is the original dataset (value where key='data'). "
   ]
  },
  {
   "cell_type": "markdown",
   "id": "fdef2bc4",
   "metadata": {},
   "source": [
    "#### Plotting Distortion\n",
    "Plotting distortion for k=2 to 7."
   ]
  },
  {
   "cell_type": "code",
   "execution_count": 6,
   "id": "60912331",
   "metadata": {
    "scrolled": true
   },
   "outputs": [],
   "source": [
    "def cost_function(dataset, mus, c):\n",
    "    \"\"\"\n",
    "    Inputs: dataset, centroids, centroid assignments for every point -> J, cost function\n",
    "    \"\"\"\n",
    "    # DISTANCE CALCULATIONS\n",
    "    dists = np.zeros([dataset.shape[0], 1]) #initialize distance:1 value / data point\n",
    "        # dists will contain the distance to its assigned centroid for each point\n",
    "    \n",
    "    for i in range(dataset.shape[0]): #for each of the points\n",
    "        centroid = mus[c[i]] # c[i] is the corresponding centroid index assignment \n",
    "        dists[i] = np.linalg.norm(dataset[i] - centroid) # calculating distance\n",
    "    \n",
    "    # COST FUNCTION CALCULATION\n",
    "    dists = np.power(dists, 2) # |x-mu|^2\n",
    "    squared_sum = np.sum(dists) # sum of all dists squared\n",
    "    J = 1/(dataset.shape[0]) * squared_sum # cost function = 1/m * (sum of all dists squared)\n",
    "    \n",
    "    return J"
   ]
  },
  {
   "cell_type": "code",
   "execution_count": 81,
   "id": "63d3f4a3",
   "metadata": {},
   "outputs": [
    {
     "data": {
      "image/png": "[encoded data removed]",
      "text/plain": [
       "<Figure size 432x288 with 1 Axes>"
      ]
     },
     "metadata": {
      "needs_background": "light"
     },
     "output_type": "display_data"
    }
   ],
   "source": [
    "x = [i for i in range(2, 8)] # [2, 3, ..., 7]\n",
    "y = []\n",
    "\n",
    "k=2 #start at k=2\n",
    "while k <= 7: #finish at k=7\n",
    "    # print('\\tk=', k)\n",
    "    mus, c = kmeans(data, k)\n",
    "    y.append(cost_function(data, mus, c))\n",
    "    k+=1\n",
    "        \n",
    "plt.plot(x, y, 'm.--')\n",
    "plt.xlabel(\"k\")\n",
    "plt.ylabel(\"Cost function\")\n",
    "plt.title(\"Distortion\")\n",
    "plt.show()"
   ]
  },
  {
   "cell_type": "markdown",
   "id": "976f312e",
   "metadata": {},
   "source": [
    "If you had to pick a value for k, which value would you pick?"
   ]
  },
  {
   "cell_type": "code",
   "execution_count": null,
   "id": "0cc80f99",
   "metadata": {},
   "outputs": [],
   "source": [
    "# Looking at the distortion plotted against k above, the inflection point seems to be around 4. \n",
    "# To get rid of outliers, the distortion could be calculated for each k value multiple times, \n",
    "# where we take the minimum value. A graph with shape similar to e^-x is outputted, \n",
    "# displaying an inflection point around 4 as well. Therefore, I would choose k=4. "
   ]
  }
 ],
 "metadata": {
  "kernelspec": {
   "display_name": "Python 3 (ipykernel)",
   "language": "python",
   "name": "python3"
  },
  "language_info": {
   "codemirror_mode": {
    "name": "ipython",
    "version": 3
   },
   "file_extension": ".py",
   "mimetype": "text/x-python",
   "name": "python",
   "nbconvert_exporter": "python",
   "pygments_lexer": "ipython3",
   "version": "3.8.8"
  }
 },
 "nbformat": 4,
 "nbformat_minor": 5
}
