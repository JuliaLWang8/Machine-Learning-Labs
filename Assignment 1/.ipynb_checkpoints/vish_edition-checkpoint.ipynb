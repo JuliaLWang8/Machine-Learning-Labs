{
 "cells": [
  {
   "cell_type": "code",
   "execution_count": 14,
   "id": "8b174666",
   "metadata": {},
   "outputs": [],
   "source": [
    "from sklearn.datasets import load_breast_cancer\n",
    "import numpy as np\n",
    "import matplotlib.pyplot as plt\n",
    "%matplotlib inline"
   ]
  },
  {
   "cell_type": "code",
   "execution_count": 2,
   "id": "fa575861",
   "metadata": {},
   "outputs": [],
   "source": [
    "dataset = load_breast_cancer()\n",
    "dataset = dataset.get('data')\n",
    "data = np.array(dataset)"
   ]
  },
  {
   "cell_type": "code",
   "execution_count": 8,
   "id": "ee3de980",
   "metadata": {},
   "outputs": [],
   "source": [
    "def kmeans(data, k):\n",
    "    random_idx = np.random.choice(len(data), size=k, replace=False)\n",
    "    cent_list = [data[idx] for idx in random_idx]\n",
    "    past_cent_list = cent_list\n",
    "    cluster_assignment = np.zeros(shape = len(data))\n",
    "    cluster=[[] for _ in range(k)]\n",
    "    converge = False\n",
    "    while not converge:\n",
    "        for i in range(len(data)):\n",
    "            dist=[]\n",
    "            for j in cent_list:\n",
    "                vec = np.array(j)-np.array(data[i])\n",
    "                dist.append(np.linalg.norm(vec))\n",
    "            cluster_assignment[i] = dist.index(min(dist))\n",
    "            cluster[dist.index(min(dist))].append(data[i])\n",
    "            \n",
    "        for a in range(len(cluster)):\n",
    "            m = np.mean(cluster[a], axis =0)\n",
    "            past_cent_list[a] = cent_list[a]\n",
    "            cent_list[a] = m\n",
    "        cent_dist = [np.linalg.norm(cent_list[i] - past_cent_list[i]) for i in range(k)]\n",
    "        converge = (sum(cent_dist) == 0)\n",
    "    return cent_list, cluster_assignment"
   ]
  },
  {
   "cell_type": "code",
   "execution_count": 11,
   "id": "a1dfb6fa",
   "metadata": {},
   "outputs": [],
   "source": [
    "def cost_function(dataset, mus, c):\n",
    "    \"\"\"\n",
    "    Inputs: dataset, centroids, centroid assignments for every point -> J, cost function\n",
    "    \"\"\"\n",
    "    # DISTANCE CALCULATIONS\n",
    "    dists = np.zeros([dataset.shape[0], 1]) #initialize distance:1 value / data point\n",
    "    \n",
    "    for i in range(dataset.shape[0]): #for each of the points\n",
    "        centroid = mus[int(c[i])] # c[i] is the corresponding centroid index assignment \n",
    "        dists[i] = np.linalg.norm(dataset[i] - centroid)\n",
    "    \n",
    "    # COST FUNCTION CALCULATION\n",
    "    dists = np.power(dists, 2)\n",
    "    squared_sum = np.sum(dists)\n",
    "    J = 1/(dataset.shape[0]) * squared_sum\n",
    "    \n",
    "    return J"
   ]
  },
  {
   "cell_type": "code",
   "execution_count": 20,
   "id": "4e1d16d2",
   "metadata": {},
   "outputs": [
    {
     "data": {
      "image/png": "[encoded data removed]",
      "text/plain": [
       "<Figure size 432x288 with 1 Axes>"
      ]
     },
     "metadata": {
      "needs_background": "light"
     },
     "output_type": "display_data"
    }
   ],
   "source": [
    "x = [i for i in range(2, 8)] # [2, 3, ..., 7]\n",
    "y = []\n",
    "\n",
    "k=2 #start at k=2\n",
    "while k <= 7: #finish at k=7\n",
    "    mus, c = kmeans(data, k)\n",
    "    y.append(cost_function(data, mus, c))\n",
    "    #else: # y is the average \n",
    "     #   y[k-2] = ( y[k-2] + cost_function(data, mus, c))/2\n",
    "    k+=1\n",
    "\n",
    "plt.plot(x, y, color=\"magenta\")\n",
    "plt.xlabel(\"k\")\n",
    "plt.ylabel(\"Cost function\")\n",
    "plt.title(\"Distortion\")\n",
    "plt.show()"
   ]
  }
 ],
 "metadata": {
  "kernelspec": {
   "display_name": "Python 3 (ipykernel)",
   "language": "python",
   "name": "python3"
  },
  "language_info": {
   "codemirror_mode": {
    "name": "ipython",
    "version": 3
   },
   "file_extension": ".py",
   "mimetype": "text/x-python",
   "name": "python",
   "nbconvert_exporter": "python",
   "pygments_lexer": "ipython3",
   "version": "3.8.8"
  }
 },
 "nbformat": 4,
 "nbformat_minor": 5
}
